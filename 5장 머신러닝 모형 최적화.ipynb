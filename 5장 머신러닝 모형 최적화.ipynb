{
 "cells": [
  {
   "cell_type": "markdown",
   "id": "acbc8ae7",
   "metadata": {},
   "source": [
    "## 변수 선택과 차원 축소"
   ]
  },
  {
   "cell_type": "markdown",
   "id": "c0b90d8a",
   "metadata": {},
   "source": [
    "### 주성분 분석의 활용"
   ]
  },
  {
   "cell_type": "code",
   "execution_count": 1,
   "id": "d158cb38",
   "metadata": {},
   "outputs": [],
   "source": [
    "import seaborn as sns\n",
    "iris = sns.load_dataset('iris')"
   ]
  },
  {
   "cell_type": "code",
   "execution_count": 2,
   "id": "509b6b0f",
   "metadata": {},
   "outputs": [],
   "source": [
    "from sklearn.model_selection import train_test_split\n",
    "X, y = iris.iloc[:, :-1].values, iris.iloc[:, -1].values\n",
    "train_X, test_X, train_y, test_y = train_test_split(X, y, test_size=0.3,\n",
    "                                        random_state=0)"
   ]
  },
  {
   "cell_type": "code",
   "execution_count": 4,
   "id": "72f554d7",
   "metadata": {},
   "outputs": [],
   "source": [
    "from sklearn.preprocessing import StandardScaler\n",
    "sc = StandardScaler()\n",
    "train_X_std = sc.fit_transform(train_X)\n",
    "test_X_std = sc.transform(test_X)"
   ]
  },
  {
   "cell_type": "code",
   "execution_count": 5,
   "id": "79d92f55",
   "metadata": {},
   "outputs": [],
   "source": [
    "import numpy as np\n",
    "cov_mat = np.cov(train_X_std.T)"
   ]
  },
  {
   "cell_type": "code",
   "execution_count": 6,
   "id": "1cf8b932",
   "metadata": {},
   "outputs": [
    {
     "data": {
      "text/plain": [
       "array([[ 1.00961538, -0.03658858,  0.89282533,  0.84057159],\n",
       "       [-0.03658858,  1.00961538, -0.3421826 , -0.2898399 ],\n",
       "       [ 0.89282533, -0.3421826 ,  1.00961538,  0.9779029 ],\n",
       "       [ 0.84057159, -0.2898399 ,  0.9779029 ,  1.00961538]])"
      ]
     },
     "execution_count": 6,
     "metadata": {},
     "output_type": "execute_result"
    }
   ],
   "source": [
    "cov_mat"
   ]
  },
  {
   "cell_type": "code",
   "execution_count": 11,
   "id": "d291cedf",
   "metadata": {},
   "outputs": [
    {
     "name": "stdout",
     "output_type": "stream",
     "text": [
      "Eigenvvalues: [2.8998938  0.98708902 0.13466453 0.01681419]\n"
     ]
    }
   ],
   "source": [
    "# 고유값 분해를 통해 고유 값, 고유 백터를 구한다\n",
    "eigen_vals, eigen_vecs = np.linalg.eig(cov_mat)\n",
    "print('Eigenvvalues: %s' % eigen_vals)"
   ]
  },
  {
   "cell_type": "code",
   "execution_count": 13,
   "id": "a01a966a",
   "metadata": {},
   "outputs": [
    {
     "data": {
      "text/plain": [
       "[0.7180689405527696,\n",
       " 0.24442204363321537,\n",
       " 0.033345502524849024,\n",
       " 0.004163513289165863]"
      ]
     },
     "execution_count": 13,
     "metadata": {},
     "output_type": "execute_result"
    }
   ],
   "source": [
    "tot = sum(eigen_vals)\n",
    "var_exp = [(i/tot) for i in sorted(eigen_vals, reverse=True)]\n",
    "var_exp"
   ]
  },
  {
   "cell_type": "code",
   "execution_count": 14,
   "id": "84c1e28e",
   "metadata": {},
   "outputs": [
    {
     "data": {
      "text/plain": [
       "array([0.71806894, 0.96249098, 0.99583649, 1.        ])"
      ]
     },
     "execution_count": 14,
     "metadata": {},
     "output_type": "execute_result"
    }
   ],
   "source": [
    "cum_var_exp = np.cumsum(var_exp)\n",
    "cum_var_exp"
   ]
  },
  {
   "cell_type": "code",
   "execution_count": 17,
   "id": "54ccfc79",
   "metadata": {},
   "outputs": [
    {
     "data": {
      "image/png": "[encoded data removed]",
      "text/plain": [
       "<Figure size 432x288 with 1 Axes>"
      ]
     },
     "metadata": {
      "needs_background": "light"
     },
     "output_type": "display_data"
    }
   ],
   "source": [
    "import matplotlib.pyplot as plt\n",
    "%matplotlib inline\n",
    "plt.bar(range(1, 5), var_exp, alpha=0.5, align='center', label='individual \\\n",
    "explained variance')\n",
    "plt.step(range(1, 5), cum_var_exp, where='mid', label='cumulative \\\n",
    "explained variance')\n",
    "plt.ylabel('Explained variance ratio')\n",
    "plt.xlabel('Principal components')\n",
    "plt.legend(loc='best')\n",
    "plt.tight_layout()\n",
    "# plt.savefig('./figures/pca1.png', dpi=300)\n",
    "plt.show()"
   ]
  },
  {
   "cell_type": "code",
   "execution_count": 18,
   "id": "37ca3385",
   "metadata": {},
   "outputs": [
    {
     "data": {
      "text/plain": [
       "[(2.8998937983861857,\n",
       "  array([ 0.53547007, -0.20428207,  0.58615942,  0.57267597])),\n",
       " (0.9870890223649085,\n",
       "  array([-3.25785192e-01, -9.44860554e-01,  7.51890810e-04, -3.31960469e-02])),\n",
       " (0.13466452942727494,\n",
       "  array([-0.73207448,  0.23052807,  0.13736953,  0.62614166])),\n",
       " (0.016814188283169836,\n",
       "  array([ 0.26683847, -0.11119432, -0.79846489,  0.52809741]))]"
      ]
     },
     "execution_count": 18,
     "metadata": {},
     "output_type": "execute_result"
    }
   ],
   "source": [
    "# 주성분과 주성분행렬 쌍을 이용하여 투영행렬 생성\n",
    "eigen_pairs = [(np.abs(eigen_vals[i]), eigen_vecs[:,i]) for i in range(len(eigen_vals))]\n",
    "eigen_pairs.sort(reverse=True)\n",
    "eigen_pairs"
   ]
  },
  {
   "cell_type": "code",
   "execution_count": 20,
   "id": "237f38f0",
   "metadata": {},
   "outputs": [
    {
     "name": "stdout",
     "output_type": "stream",
     "text": [
      "matrix W:\n",
      " [[ 5.35470073e-01 -3.25785192e-01]\n",
      " [-2.04282071e-01 -9.44860554e-01]\n",
      " [ 5.86159424e-01  7.51890810e-04]\n",
      " [ 5.72675970e-01 -3.31960469e-02]]\n"
     ]
    }
   ],
   "source": [
    "w = np.hstack((eigen_pairs[0][1][:,np.newaxis], \n",
    "              eigen_pairs[1][1][:, np.newaxis]))\n",
    "print('matrix W:\\n',w)"
   ]
  },
  {
   "cell_type": "code",
   "execution_count": 21,
   "id": "9b968bf9",
   "metadata": {},
   "outputs": [],
   "source": [
    "train_X_pca = train_X_std.dot(w)"
   ]
  },
  {
   "cell_type": "code",
   "execution_count": 22,
   "id": "8a2edd96",
   "metadata": {},
   "outputs": [
    {
     "data": {
      "image/png": "[encoded data removed]",
      "text/plain": [
       "<Figure size 432x288 with 1 Axes>"
      ]
     },
     "metadata": {
      "needs_background": "light"
     },
     "output_type": "display_data"
    }
   ],
   "source": [
    "colors = ['r','b', 'g']\n",
    "markers = ['s','x','o']\n",
    "for l, c, m in zip(np.unique(train_y), colors, markers):\n",
    "    plt.scatter(train_X_pca[train_y==l,0], train_X_pca[train_y==l,1],\n",
    "               c=c, label=l, marker=m)\n",
    "plt.xlabel('PC 1')\n",
    "plt.ylabel('PC 2')\n",
    "plt.legend(loc='lower left')\n",
    "plt.tight_layout()\n",
    "plt.show()"
   ]
  },
  {
   "cell_type": "code",
   "execution_count": 23,
   "id": "642eb78d",
   "metadata": {},
   "outputs": [
    {
     "name": "stderr",
     "output_type": "stream",
     "text": [
      "C:\\Users\\san\\anaconda3\\lib\\site-packages\\sklearn\\neural_network\\_multilayer_perceptron.py:614: ConvergenceWarning: Stochastic Optimizer: Maximum iterations (200) reached and the optimization hasn't converged yet.\n",
      "  warnings.warn(\n"
     ]
    },
    {
     "data": {
      "text/plain": [
       "MLPClassifier(hidden_layer_sizes=(50, 30))"
      ]
     },
     "execution_count": 23,
     "metadata": {},
     "output_type": "execute_result"
    }
   ],
   "source": [
    "#주성분한 데이터를 이용해 MLPClassifier 모델 생성\n",
    "from sklearn.neural_network import MLPClassifier\n",
    "mlp = MLPClassifier(hidden_layer_sizes=(50,30))\n",
    "mlp.fit(train_X_pca, train_y)"
   ]
  },
  {
   "cell_type": "code",
   "execution_count": 24,
   "id": "7a44024b",
   "metadata": {},
   "outputs": [
    {
     "name": "stdout",
     "output_type": "stream",
     "text": [
      "0.9428571428571428\n"
     ]
    }
   ],
   "source": [
    "print(mlp.score(train_X_pca, train_y))"
   ]
  },
  {
   "cell_type": "code",
   "execution_count": 25,
   "id": "843906cd",
   "metadata": {},
   "outputs": [
    {
     "data": {
      "text/plain": [
       "array(['virginica', 'versicolor', 'setosa', 'virginica', 'setosa',\n",
       "       'virginica', 'setosa', 'versicolor', 'virginica', 'versicolor',\n",
       "       'virginica', 'versicolor', 'versicolor', 'virginica', 'versicolor',\n",
       "       'setosa', 'versicolor', 'versicolor', 'setosa', 'setosa',\n",
       "       'virginica', 'versicolor', 'setosa', 'setosa', 'virginica',\n",
       "       'setosa', 'setosa', 'versicolor', 'versicolor', 'setosa',\n",
       "       'virginica', 'versicolor', 'setosa', 'virginica', 'virginica',\n",
       "       'versicolor', 'setosa', 'virginica', 'versicolor', 'versicolor',\n",
       "       'virginica', 'setosa', 'virginica', 'setosa', 'setosa'],\n",
       "      dtype='<U10')"
      ]
     },
     "execution_count": 25,
     "metadata": {},
     "output_type": "execute_result"
    }
   ],
   "source": [
    "test_X_pca = test_X_std.dot(w)\n",
    "pred=mlp.predict(test_X_pca)\n",
    "pred"
   ]
  },
  {
   "cell_type": "code",
   "execution_count": 26,
   "id": "dbb77d13",
   "metadata": {},
   "outputs": [
    {
     "data": {
      "text/html": [
       "<div>\n",
       "<style scoped>\n",
       "    .dataframe tbody tr th:only-of-type {\n",
       "        vertical-align: middle;\n",
       "    }\n",
       "\n",
       "    .dataframe tbody tr th {\n",
       "        vertical-align: top;\n",
       "    }\n",
       "\n",
       "    .dataframe thead th {\n",
       "        text-align: right;\n",
       "    }\n",
       "</style>\n",
       "<table border=\"1\" class=\"dataframe\">\n",
       "  <thead>\n",
       "    <tr style=\"text-align: right;\">\n",
       "      <th>Pred</th>\n",
       "      <th>setosa</th>\n",
       "      <th>versicolor</th>\n",
       "      <th>virginica</th>\n",
       "      <th>All</th>\n",
       "    </tr>\n",
       "    <tr>\n",
       "      <th>True</th>\n",
       "      <th></th>\n",
       "      <th></th>\n",
       "      <th></th>\n",
       "      <th></th>\n",
       "    </tr>\n",
       "  </thead>\n",
       "  <tbody>\n",
       "    <tr>\n",
       "      <th>setosa</th>\n",
       "      <td>16</td>\n",
       "      <td>0</td>\n",
       "      <td>0</td>\n",
       "      <td>16</td>\n",
       "    </tr>\n",
       "    <tr>\n",
       "      <th>versicolor</th>\n",
       "      <td>0</td>\n",
       "      <td>15</td>\n",
       "      <td>3</td>\n",
       "      <td>18</td>\n",
       "    </tr>\n",
       "    <tr>\n",
       "      <th>virginica</th>\n",
       "      <td>0</td>\n",
       "      <td>0</td>\n",
       "      <td>11</td>\n",
       "      <td>11</td>\n",
       "    </tr>\n",
       "    <tr>\n",
       "      <th>All</th>\n",
       "      <td>16</td>\n",
       "      <td>15</td>\n",
       "      <td>14</td>\n",
       "      <td>45</td>\n",
       "    </tr>\n",
       "  </tbody>\n",
       "</table>\n",
       "</div>"
      ],
      "text/plain": [
       "Pred        setosa  versicolor  virginica  All\n",
       "True                                          \n",
       "setosa          16           0          0   16\n",
       "versicolor       0          15          3   18\n",
       "virginica        0           0         11   11\n",
       "All             16          15         14   45"
      ]
     },
     "execution_count": 26,
     "metadata": {},
     "output_type": "execute_result"
    }
   ],
   "source": [
    "import pandas as pd\n",
    "confusion_matrix = pd.crosstab(test_y, pred, margins=True,\n",
    "                              rownames=['True'], colnames=['Pred'])\n",
    "confusion_matrix"
   ]
  },
  {
   "cell_type": "code",
   "execution_count": 27,
   "id": "2720b2f7",
   "metadata": {},
   "outputs": [
    {
     "name": "stdout",
     "output_type": "stream",
     "text": [
      "0.9333333333333333\n"
     ]
    }
   ],
   "source": [
    "print(mlp.score(test_X_pca, test_y))"
   ]
  },
  {
   "cell_type": "markdown",
   "id": "c29fc5e7",
   "metadata": {},
   "source": [
    "### PCA를 이용한 iris데이터 주성분 분석"
   ]
  },
  {
   "cell_type": "code",
   "execution_count": 28,
   "id": "40bcb8b9",
   "metadata": {},
   "outputs": [],
   "source": [
    "import seaborn as sns\n",
    "from sklearn.decomposition import PCA"
   ]
  },
  {
   "cell_type": "code",
   "execution_count": 29,
   "id": "3b7ace8e",
   "metadata": {},
   "outputs": [],
   "source": [
    "iris = sns.load_dataset('iris')\n",
    "iris_X, iris_y = iris.iloc[:,:-1], iris.species"
   ]
  },
  {
   "cell_type": "code",
   "execution_count": 31,
   "id": "ca64897f",
   "metadata": {},
   "outputs": [],
   "source": [
    "pca = PCA(n_components=2)\n",
    "iris_pca = pca.fit_transform(iris_X)"
   ]
  },
  {
   "cell_type": "code",
   "execution_count": 32,
   "id": "c9c3dfb4",
   "metadata": {},
   "outputs": [
    {
     "data": {
      "text/plain": [
       "array([[-2.68412563,  0.31939725],\n",
       "       [-2.71414169, -0.17700123],\n",
       "       [-2.88899057, -0.14494943],\n",
       "       [-2.74534286, -0.31829898],\n",
       "       [-2.72871654,  0.32675451]])"
      ]
     },
     "execution_count": 32,
     "metadata": {},
     "output_type": "execute_result"
    }
   ],
   "source": [
    "iris_pca[:5,:]"
   ]
  },
  {
   "cell_type": "code",
   "execution_count": 33,
   "id": "f80a8bf1",
   "metadata": {},
   "outputs": [
    {
     "data": {
      "text/plain": [
       "array([4.22824171, 0.24267075])"
      ]
     },
     "execution_count": 33,
     "metadata": {},
     "output_type": "execute_result"
    }
   ],
   "source": [
    "#주성분의 설명된 분산값\n",
    "pca.explained_variance_"
   ]
  },
  {
   "cell_type": "code",
   "execution_count": 34,
   "id": "37b86c9e",
   "metadata": {},
   "outputs": [
    {
     "data": {
      "text/plain": [
       "array([[ 0.36138659, -0.08452251,  0.85667061,  0.3582892 ],\n",
       "       [ 0.65658877,  0.73016143, -0.17337266, -0.07548102]])"
      ]
     },
     "execution_count": 34,
     "metadata": {},
     "output_type": "execute_result"
    }
   ],
   "source": [
    "#주성분 계수\n",
    "pca.components_"
   ]
  },
  {
   "cell_type": "markdown",
   "id": "22f625e9",
   "metadata": {},
   "source": [
    "### PCA를 이용해서 얼굴 주성분 분석하기"
   ]
  },
  {
   "cell_type": "code",
   "execution_count": 109,
   "id": "7a580130",
   "metadata": {},
   "outputs": [],
   "source": [
    "from imageio import imread\n",
    "import glob\n",
    "imgs = []\n",
    "for image_path in glob.glob('C:\\projects\\korean_beauty/*.png'):\n",
    "    image = imread(image_path)\n",
    "    imgs.append(image)"
   ]
  },
  {
   "cell_type": "code",
   "execution_count": 110,
   "id": "dcdce5ee",
   "metadata": {},
   "outputs": [],
   "source": [
    "import numpy as np\n",
    "N = len(imgs)\n",
    "images = np.array(imgs)"
   ]
  },
  {
   "cell_type": "code",
   "execution_count": 111,
   "id": "1bc073cf",
   "metadata": {},
   "outputs": [],
   "source": [
    "origin_shape = images.shape"
   ]
  },
  {
   "cell_type": "code",
   "execution_count": 112,
   "id": "cd669c8e",
   "metadata": {},
   "outputs": [
    {
     "data": {
      "text/plain": [
       "(30, 35)"
      ]
     },
     "execution_count": 112,
     "metadata": {},
     "output_type": "execute_result"
    }
   ],
   "source": [
    "fig_size = (origin_shape[2], origin_shape[1])\n",
    "fig_size"
   ]
  },
  {
   "cell_type": "code",
   "execution_count": 113,
   "id": "99764172",
   "metadata": {},
   "outputs": [
    {
     "data": {
      "text/plain": [
       "(20, 3150)"
      ]
     },
     "execution_count": 113,
     "metadata": {},
     "output_type": "execute_result"
    }
   ],
   "source": [
    "images.shape=(N,-1)\n",
    "images.shape"
   ]
  },
  {
   "cell_type": "code",
   "execution_count": 114,
   "id": "dfedb4db",
   "metadata": {},
   "outputs": [
    {
     "data": {
      "text/plain": [
       "array([[-0.36801897, -0.36199969, -0.11670078, ..., -1.05609156,\n",
       "        -1.12263647, -1.11365179],\n",
       "       [ 0.76087357,  0.64721157,  0.64715885, ..., -1.47958692,\n",
       "        -1.37879996, -1.32781559],\n",
       "       [-0.50348607,  0.03290906,  0.01060916, ...,  0.83640334,\n",
       "         0.99071228,  0.89413389],\n",
       "       ...,\n",
       "       [-1.04535449, -0.5375147 , -0.54106724, ..., -1.43988423,\n",
       "        -1.43003266, -1.43489749],\n",
       "       [ 0.48993936,  0.25230282,  0.05304581, ...,  0.54525028,\n",
       "         0.31187904,  0.07763438],\n",
       "       [-0.95504308, -0.6252722 , -0.28644736, ..., -1.5589923 ,\n",
       "        -1.58373075, -1.62229082]])"
      ]
     },
     "execution_count": 114,
     "metadata": {},
     "output_type": "execute_result"
    }
   ],
   "source": [
    "from sklearn.preprocessing import StandardScaler\n",
    "sc = StandardScaler()\n",
    "images_std = sc.fit_transform(images)\n",
    "images_std"
   ]
  },
  {
   "cell_type": "code",
   "execution_count": 115,
   "id": "c2e9e69a",
   "metadata": {},
   "outputs": [],
   "source": [
    "import numpy as np\n",
    "cov_mat = np.cov(images_std)\n",
    "eigen_vals, eigen_vecs = np.linalg.eig(cov_mat)"
   ]
  },
  {
   "cell_type": "code",
   "execution_count": 116,
   "id": "c886610d",
   "metadata": {},
   "outputs": [],
   "source": [
    "tot = sum(eigen_vals)\n",
    "var_exp = [(i / tot) for i in sorted(eigen_vals, reverse=True)]\n",
    "cum_var_exp = np.cumsum(var_exp)"
   ]
  },
  {
   "cell_type": "code",
   "execution_count": 117,
   "id": "ac416592",
   "metadata": {},
   "outputs": [
    {
     "data": {
      "image/png": "[encoded data removed]",
      "text/plain": [
       "<Figure size 432x288 with 1 Axes>"
      ]
     },
     "metadata": {
      "needs_background": "light"
     },
     "output_type": "display_data"
    }
   ],
   "source": [
    "import matplotlib.pyplot as plt\n",
    "%matplotlib inline\n",
    "plt.bar(range(1, N+1), var_exp, alpha=0.5, align='center',\n",
    "label='individual explained variance')\n",
    "plt.step(range(1, N+1), cum_var_exp, where='mid',\n",
    "label='cumulative explained variance')\n",
    "plt.ylabel('Explained variance ratio')\n",
    "plt.xlabel('Principal components')\n",
    "plt.legend(loc='best')\n",
    "plt.tight_layout()\n",
    "plt.show()"
   ]
  },
  {
   "cell_type": "code",
   "execution_count": 118,
   "id": "bf2a7dd9",
   "metadata": {},
   "outputs": [],
   "source": [
    "eigen_pairs = [(np.abs(eigen_vals[i]),\n",
    "eigen_vecs[:,i]) for i in range(len(eigen_vals))]\n",
    "eigen_pairs.sort(reverse=True)"
   ]
  },
  {
   "cell_type": "code",
   "execution_count": 121,
   "id": "1fd46cfc",
   "metadata": {},
   "outputs": [],
   "source": [
    "w = eigen_pairs[0][1][:, np.newaxis]\n",
    "for i in range(1,N):\n",
    "    w = np.hstack((w,eigen_pairs[i][1][:, np.newaxis]))"
   ]
  },
  {
   "cell_type": "code",
   "execution_count": 122,
   "id": "136eb75a",
   "metadata": {},
   "outputs": [
    {
     "name": "stdout",
     "output_type": "stream",
     "text": [
      "Matrix W:\n",
      " [[ 5.64853002e-02 -2.99156468e-02 -1.70110146e-01 -4.96413333e-01\n",
      "   2.38247000e-01 -2.59975292e-01 -1.77193492e-01 -7.30748603e-02\n",
      "   5.24855777e-02 -1.58045629e-01  2.13592998e-01 -1.20053817e-02\n",
      "  -2.99483654e-02  3.87288450e-02 -5.57135297e-01  8.55409386e-02\n",
      "   2.34622747e-01  9.26103591e-02  2.28532197e-01 -2.23606798e-01]\n",
      " [-4.97213579e-01  2.90809263e-02 -1.43079394e-01  2.69180000e-02\n",
      "  -2.59154632e-01 -2.00705145e-01  3.53815427e-01  2.78077453e-02\n",
      "   1.39398361e-01  3.19415793e-01  2.72413236e-01 -3.88121184e-02\n",
      "  -2.03491590e-01  3.77867025e-01  9.72349700e-02 -8.77519792e-02\n",
      "   8.33360876e-02  1.29676531e-01  1.58279451e-01 -2.23606798e-01]\n",
      " [ 5.62437784e-02  8.19395722e-03  3.87401661e-01  3.57416150e-02\n",
      "   1.16022790e-02 -2.73690517e-01 -1.88056208e-01  4.40753689e-02\n",
      "   2.78498576e-01  8.61430216e-02  9.25454653e-02  5.29518509e-01\n",
      "   3.55801352e-01 -6.81123469e-02  2.65202365e-01 -5.44405142e-02\n",
      "   7.46532973e-02 -9.06594391e-02  3.01337520e-01 -2.23606798e-01]\n",
      " [-1.96597550e-01 -1.19404144e-01  1.04722318e-01  8.38653086e-02\n",
      "  -4.46339617e-02 -1.20134195e-01 -2.29882101e-01  1.60057451e-01\n",
      "  -2.88949464e-01  4.42436894e-05 -5.17323317e-01  1.38501175e-02\n",
      "  -8.67368538e-02 -9.71155987e-02  6.63026553e-03 -1.95877983e-01\n",
      "   2.85123371e-01  5.44164005e-01 -1.09368508e-02 -2.23606798e-01]\n",
      " [ 6.77361072e-02  6.06481412e-03  3.18591858e-01  7.80110722e-02\n",
      "   1.85217950e-01 -1.41648000e-01  1.05262388e-01 -2.93107073e-02\n",
      "   1.24867585e-01 -3.35640030e-02  1.59310316e-01  5.38347041e-02\n",
      "   1.23307683e-01  2.59437891e-01 -1.81065423e-01  3.31786301e-02\n",
      "  -2.01832527e-01  2.85806371e-01 -6.98328744e-01 -2.23606798e-01]\n",
      " [-2.73209217e-01 -1.33139789e-01  7.49670989e-02 -6.74174774e-02\n",
      "  -6.50726962e-02 -1.76559643e-01 -1.67495018e-01  4.16708565e-01\n",
      "  -3.37650584e-02  1.86870256e-01 -2.05174135e-01  6.26157795e-04\n",
      "  -1.81433143e-01 -1.31963266e-01 -1.86038605e-01  2.43985896e-01\n",
      "  -1.52798026e-01 -5.61280658e-01 -2.22136428e-01 -2.23606798e-01]\n",
      " [ 1.80678947e-01  3.51604862e-02 -2.23329099e-01  1.97807814e-01\n",
      "   9.37038365e-02  2.20584105e-01  3.19810092e-01  6.32258461e-03\n",
      "  -1.71266638e-01 -6.98940539e-02 -9.53655994e-02  6.73551767e-01\n",
      "  -3.16207964e-01  3.48356737e-02 -2.22917063e-01 -1.04587619e-01\n",
      "  -6.44432600e-03 -9.09475578e-02  1.51729398e-02 -2.23606798e-01]\n",
      " [-2.19769242e-01  9.66999802e-02  2.10472690e-01  1.10131535e-01\n",
      "   1.88492578e-01  3.76538573e-01 -3.37391428e-01 -6.07275161e-01\n",
      "  -1.32074060e-02  3.30192800e-01  1.56541749e-02 -4.87505235e-02\n",
      "  -1.66523820e-01  2.02582052e-03 -6.62326561e-02  1.64769708e-02\n",
      "   1.09096630e-01 -1.40598573e-01 -1.04917907e-02 -2.23606798e-01]\n",
      " [ 9.91721495e-02  1.38145753e-01 -3.03453883e-01  1.13061618e-01\n",
      "   2.46703398e-01  1.64392473e-01 -1.41510695e-02  1.89563698e-01\n",
      "  -1.49731659e-01  1.67061666e-01 -9.23496172e-02 -4.49694513e-02\n",
      "   3.58219466e-01  2.97680514e-01  1.94900748e-01  5.72690613e-01\n",
      "   2.13307879e-01  4.66312881e-02  2.72218721e-02 -2.23606798e-01]\n",
      " [ 3.03506823e-01 -4.77418007e-02 -8.22552549e-02 -2.49502992e-01\n",
      "   5.51383591e-02 -2.51507397e-01 -4.30480635e-02 -1.40374503e-01\n",
      "  -1.50104986e-01  4.28219655e-02  1.71243567e-01 -7.45153227e-03\n",
      "  -4.77628438e-01 -2.09584667e-01  5.58747185e-01  1.78736940e-01\n",
      "  -3.79775040e-02  7.79160649e-02 -1.45856190e-01 -2.23606798e-01]\n",
      " [ 2.39104483e-01  1.25840189e-01 -2.18329440e-01  2.12619853e-01\n",
      "  -1.00845084e-01  8.38508085e-02 -1.55450267e-01  2.53256090e-01\n",
      "  -8.58433863e-02  4.33200275e-01  3.71677347e-01 -1.38628552e-01\n",
      "   1.50365008e-01 -3.92459154e-01 -1.81762261e-01 -2.70414571e-01\n",
      "  -1.46478103e-01  1.48209855e-01 -1.83184648e-03 -2.23606798e-01]\n",
      " [-1.48455415e-01  5.11827180e-02 -2.00598419e-01 -3.93650212e-01\n",
      "   2.95205604e-01  3.16719583e-01  1.59973465e-01  1.01292277e-01\n",
      "   4.97146544e-01  2.85626411e-02 -2.88785054e-01 -3.74043360e-02\n",
      "   7.64051525e-02 -1.92021316e-01  1.86618093e-01 -2.21552932e-01\n",
      "  -1.94296410e-01  8.39558823e-02 -5.14178177e-02 -2.23606798e-01]\n",
      " [-3.63041552e-01  3.19272559e-01 -2.03857294e-01  5.06856287e-02\n",
      "  -1.53948717e-01 -1.82457983e-01  1.65934390e-01 -3.09244318e-01\n",
      "  -2.15481331e-01 -3.53850123e-01  3.52591935e-02  3.30740430e-02\n",
      "   3.32574008e-01 -4.07767568e-01  3.50303014e-02  6.80433228e-02\n",
      "   5.57467298e-04 -9.43825006e-02 -1.62348954e-01 -2.23606798e-01]\n",
      " [ 1.10296890e-01 -5.23707674e-02 -1.53130999e-01  1.58634028e-02\n",
      "   2.12958227e-01 -1.97470556e-01 -1.16963386e-01 -6.86118082e-02\n",
      "  -2.95779302e-01 -1.00781990e-01 -9.08554110e-02 -1.92245882e-01\n",
      "   1.58137664e-01  4.10920450e-01  1.57894782e-01 -5.48100302e-01\n",
      "  -1.68878171e-01 -3.41888959e-01  3.44380601e-02 -2.23606798e-01]\n",
      " [ 1.77740978e-01  4.90024229e-02  3.16707491e-01  2.07938332e-01\n",
      "   1.83494900e-01  1.36460728e-02  4.06370930e-01  1.41575025e-01\n",
      "   1.14505071e-01 -1.29688993e-01  3.47971616e-02 -3.65008338e-01\n",
      "  -9.89574470e-02 -1.80231742e-01 -5.99260375e-03 -1.02938240e-01\n",
      "   5.34311442e-01 -2.22888479e-01  3.12840754e-02 -2.23606798e-01]\n",
      " [ 2.44350622e-02  8.71873667e-02  2.28199503e-01  2.25096112e-01\n",
      "   1.45415367e-01 -9.44268447e-02  1.46966942e-01 -4.24087400e-02\n",
      "  -3.58547828e-02 -1.24075003e-01 -1.32622143e-01 -2.21100617e-01\n",
      "  -1.18407697e-01 -3.75686163e-02 -1.12290623e-01  2.49398603e-01\n",
      "  -5.91240743e-01  1.68706569e-01  4.83917076e-01 -2.23606798e-01]\n",
      " [-2.16377587e-01 -6.40893502e-01  2.70160424e-02  5.63718046e-02\n",
      "  -9.62315613e-03  3.83330489e-01 -8.09638484e-02  1.22958521e-01\n",
      "  -1.07205125e-01 -3.62644239e-01  3.84342082e-01 -1.84985892e-03\n",
      "   7.15453694e-02 -3.68644682e-02  1.19840530e-01  4.35234290e-02\n",
      "  -4.49511729e-02  4.10497177e-02  5.15199150e-02 -2.23606798e-01]\n",
      " [ 1.13358836e-01  4.31937271e-01  3.22103642e-01 -4.03561081e-01\n",
      "  -4.40987826e-01  3.66933248e-01 -5.09739730e-02  1.88402821e-01\n",
      "  -2.06293707e-01 -1.57822495e-01  4.91348507e-02 -2.02755329e-02\n",
      "  -2.08945508e-02  2.05755415e-01  2.35963711e-02 -3.19115028e-02\n",
      "  -3.19253659e-02 -1.13854500e-02  3.12601687e-02 -2.23606798e-01]\n",
      " [ 3.22208510e-01 -4.42675143e-01 -1.00384830e-02 -1.52171899e-01\n",
      "  -4.44608173e-01 -5.16655047e-03  2.72952063e-01 -3.44658955e-01\n",
      "   2.90504214e-02  2.37847087e-01 -2.83852024e-01 -8.23778356e-02\n",
      "   2.55029372e-01 -1.28004348e-02 -1.28496260e-01  8.52348016e-02\n",
      "  -6.23764081e-03 -4.66334217e-02 -8.19747635e-04 -2.23606798e-01]\n",
      " [ 1.63696275e-01  8.83723502e-02 -2.81999893e-01  3.48604897e-01\n",
      "  -3.37305252e-01 -2.22532303e-02 -3.69516842e-01 -3.70610929e-02\n",
      "   5.17530711e-01 -3.41793219e-01 -9.36430911e-02 -9.35753392e-02\n",
      "  -1.81155205e-01  1.39237544e-01 -3.76481926e-03  4.07654994e-02\n",
      "   4.80510681e-02 -1.80616056e-02 -5.87949057e-02 -2.23606798e-01]]\n"
     ]
    }
   ],
   "source": [
    "print('Matrix W:\\n', w)"
   ]
  },
  {
   "cell_type": "code",
   "execution_count": 123,
   "id": "16f367f3",
   "metadata": {},
   "outputs": [
    {
     "data": {
      "text/plain": [
       "(3150, 20)"
      ]
     },
     "execution_count": 123,
     "metadata": {},
     "output_type": "execute_result"
    }
   ],
   "source": [
    "images_pca = images_std.T @ w\n",
    "images_pca.shape"
   ]
  },
  {
   "cell_type": "code",
   "execution_count": 124,
   "id": "2485c4b0",
   "metadata": {},
   "outputs": [
    {
     "data": {
      "text/plain": [
       "array([[-8.01264688e-01, -7.73858452e-02,  1.52357715e-01, ...,\n",
       "         1.83991670e+00,  1.49072408e+00,  1.21403914e+00],\n",
       "       [-3.90448663e-01,  1.68946182e-03,  1.24408355e-01, ...,\n",
       "        -1.55122674e+00, -1.54104896e+00, -1.50162670e+00],\n",
       "       [-2.12013163e+00, -1.77190355e+00, -1.76680457e+00, ...,\n",
       "         1.56369372e+00,  1.92321559e+00,  1.98455245e+00],\n",
       "       ...,\n",
       "       [ 7.92873346e-01,  9.79861823e-01,  1.00460993e+00, ...,\n",
       "         7.54510586e-01,  8.42510296e-01,  8.34816723e-01],\n",
       "       [-3.08065660e-01,  3.46203191e-02, -2.05531581e-02, ...,\n",
       "         2.10418021e-01,  1.82379584e-01,  1.66521515e-01],\n",
       "       [-5.91435307e-16, -8.88281831e-17,  3.69421400e-16, ...,\n",
       "         4.53474303e-16,  2.44120539e-18, -2.25495886e-16]])"
      ]
     },
     "execution_count": 124,
     "metadata": {},
     "output_type": "execute_result"
    }
   ],
   "source": [
    "result = images_pca.T\n",
    "result"
   ]
  },
  {
   "cell_type": "code",
   "execution_count": 125,
   "id": "4982f55a",
   "metadata": {},
   "outputs": [
    {
     "data": {
      "text/plain": [
       "(20, 3150)"
      ]
     },
     "execution_count": 125,
     "metadata": {},
     "output_type": "execute_result"
    }
   ],
   "source": [
    "result_img = sc.inverse_transform(result)\n",
    "result_img.shape"
   ]
  },
  {
   "cell_type": "code",
   "execution_count": 126,
   "id": "0d1308ca",
   "metadata": {},
   "outputs": [
    {
     "data": {
      "text/plain": [
       "(20, 35, 30, 3)"
      ]
     },
     "execution_count": 126,
     "metadata": {},
     "output_type": "execute_result"
    }
   ],
   "source": [
    "result_img.shape = origin_shape\n",
    "result_img.shape"
   ]
  },
  {
   "cell_type": "code",
   "execution_count": 127,
   "id": "5e873b93",
   "metadata": {},
   "outputs": [],
   "source": [
    "result_img = result_img.astype(np.uint8)"
   ]
  },
  {
   "cell_type": "code",
   "execution_count": 131,
   "id": "0562b9c0",
   "metadata": {},
   "outputs": [
    {
     "data": {
      "image/png": "[encoded data removed]",
      "text/plain": [
       "<Figure size 2160x2520 with 10 Axes>"
      ]
     },
     "metadata": {
      "needs_background": "light"
     },
     "output_type": "display_data"
    },
    {
     "data": {
      "image/png": "[encoded data removed]",
      "text/plain": [
       "<Figure size 2160x2520 with 10 Axes>"
      ]
     },
     "metadata": {
      "needs_background": "light"
     },
     "output_type": "display_data"
    }
   ],
   "source": [
    "import matplotlib.pyplot as plt\n",
    "%matplotlib inline\n",
    "images.shape = origin_shape\n",
    "nrows = (N//10)\n",
    "for row in range(nrows):\n",
    "    plt.figure(figsize=fig_size)\n",
    "    for i in range(10):\n",
    "        plt.subplot(1, 10, i+1)\n",
    "        plt.imshow(images[i + row*10])\n",
    "        plt.axis(\"off\")\n",
    "plt.show()"
   ]
  },
  {
   "cell_type": "code",
   "execution_count": 133,
   "id": "6c162e70",
   "metadata": {},
   "outputs": [
    {
     "data": {
      "image/png": "[encoded data removed]",
      "text/plain": [
       "<Figure size 2160x2520 with 10 Axes>"
      ]
     },
     "metadata": {
      "needs_background": "light"
     },
     "output_type": "display_data"
    },
    {
     "data": {
      "image/png": "[encoded data removed]",
      "text/plain": [
       "<Figure size 2160x2520 with 10 Axes>"
      ]
     },
     "metadata": {
      "needs_background": "light"
     },
     "output_type": "display_data"
    }
   ],
   "source": [
    "import matplotlib.pyplot as plt\n",
    "%matplotlib inline\n",
    "nrows = (N//10)\n",
    "for row in range(nrows):\n",
    "    plt.figure(figsize=fig_size)\n",
    "    for i in range(10):\n",
    "        plt.subplot(1, 10, i+1)\n",
    "        plt.imshow(result_img[i + row*10])\n",
    "        plt.axis(\"off\")\n",
    "plt.show()"
   ]
  },
  {
   "cell_type": "markdown",
   "id": "b3d9ef38",
   "metadata": {},
   "source": [
    "### 특이값 분해"
   ]
  },
  {
   "cell_type": "code",
   "execution_count": 55,
   "id": "484d748b",
   "metadata": {},
   "outputs": [],
   "source": [
    "x = [32,64,96,118,126,144,152,158]\n",
    "y = [18,24,61.5,49,52,105,130,125]"
   ]
  },
  {
   "cell_type": "code",
   "execution_count": 53,
   "id": "fef39e3c",
   "metadata": {},
   "outputs": [],
   "source": [
    "A = np.c_[x,[1]*8]\n",
    "B = np.array(y)"
   ]
  },
  {
   "cell_type": "code",
   "execution_count": 57,
   "id": "c74a6c9f",
   "metadata": {},
   "outputs": [
    {
     "data": {
      "text/plain": [
       "array([[-0.09523708, -0.75291219, -0.30570949, -0.28090959, -0.27189145,\n",
       "        -0.25160063, -0.24258249, -0.23581888],\n",
       "       [-0.19045071, -0.49902645, -0.10192726,  0.12193311,  0.20333687,\n",
       "         0.38649535,  0.46789912,  0.52895194],\n",
       "       [-0.28566433, -0.24514071,  0.91852536, -0.0671799 , -0.06198182,\n",
       "        -0.05028612, -0.04508804, -0.04118947],\n",
       "       [-0.3511237 , -0.07059426, -0.09192115,  0.8886239 , -0.11845062,\n",
       "        -0.13436831, -0.14144283, -0.14674873],\n",
       "       [-0.37492711, -0.00712283, -0.09571988, -0.12744744,  0.86101527,\n",
       "        -0.16494364, -0.17648094, -0.18513391],\n",
       "       [-0.42848478,  0.1356879 , -0.10426703, -0.16360796, -0.18518648,\n",
       "         0.76626184, -0.25531668, -0.27150057],\n",
       "       [-0.45228818,  0.19915934, -0.10806576, -0.1796793 , -0.20572059,\n",
       "        -0.26431349,  0.70964522, -0.30988575],\n",
       "       [-0.47014074,  0.24676291, -0.1109148 , -0.19173281, -0.22112118,\n",
       "        -0.287245  , -0.31663336,  0.66132536]])"
      ]
     },
     "execution_count": 57,
     "metadata": {},
     "output_type": "execute_result"
    }
   ],
   "source": [
    "U,s,VT = np.linalg.svd(A, full_matrices =True)\n",
    "U"
   ]
  },
  {
   "cell_type": "code",
   "execution_count": 58,
   "id": "84ea83cf",
   "metadata": {},
   "outputs": [
    {
     "data": {
      "text/plain": [
       "array([336.0759044 ,   0.99321713])"
      ]
     },
     "execution_count": 58,
     "metadata": {},
     "output_type": "execute_result"
    }
   ],
   "source": [
    "s"
   ]
  },
  {
   "cell_type": "code",
   "execution_count": 59,
   "id": "79dbb2bd",
   "metadata": {},
   "outputs": [
    {
     "data": {
      "text/plain": [
       "array([[-0.99996895, -0.00788011],\n",
       "       [ 0.00788011, -0.99996895]])"
      ]
     },
     "execution_count": 59,
     "metadata": {},
     "output_type": "execute_result"
    }
   ],
   "source": [
    "VT"
   ]
  },
  {
   "cell_type": "code",
   "execution_count": 60,
   "id": "fe651b3c",
   "metadata": {},
   "outputs": [],
   "source": [
    "S = np.zeros((1,1))\n",
    "S[0][0] = s[0]"
   ]
  },
  {
   "cell_type": "code",
   "execution_count": 62,
   "id": "216d7a41",
   "metadata": {},
   "outputs": [],
   "source": [
    "A2 = U[:,0:1]@S@VT[0:1,0:1]"
   ]
  },
  {
   "cell_type": "code",
   "execution_count": 64,
   "id": "647c1361",
   "metadata": {},
   "outputs": [
    {
     "data": {
      "text/plain": [
       "(array([[ 32.00589279],\n",
       "        [ 64.00390571],\n",
       "        [ 96.00191863],\n",
       "        [118.00055252],\n",
       "        [126.00005575],\n",
       "        [143.99893802],\n",
       "        [151.99844125],\n",
       "        [157.99806867]]),\n",
       " array([[ 32,   1],\n",
       "        [ 64,   1],\n",
       "        [ 96,   1],\n",
       "        [118,   1],\n",
       "        [126,   1],\n",
       "        [144,   1],\n",
       "        [152,   1],\n",
       "        [158,   1]]))"
      ]
     },
     "execution_count": 64,
     "metadata": {},
     "output_type": "execute_result"
    }
   ],
   "source": [
    "A2,A"
   ]
  },
  {
   "cell_type": "code",
   "execution_count": 65,
   "id": "d462b629",
   "metadata": {},
   "outputs": [
    {
     "data": {
      "text/plain": [
       "(0.8744839346616398, -26.72383773110744)"
      ]
     },
     "execution_count": 65,
     "metadata": {},
     "output_type": "execute_result"
    }
   ],
   "source": [
    "weight, bias = np.linalg.inv(A.T @ A) @A.T @ B\n",
    "weight, bias"
   ]
  },
  {
   "cell_type": "code",
   "execution_count": 68,
   "id": "cb2c0f86",
   "metadata": {},
   "outputs": [
    {
     "data": {
      "text/plain": [
       "(0.8745382401681373, -26.730728978672136)"
      ]
     },
     "execution_count": 68,
     "metadata": {},
     "output_type": "execute_result"
    }
   ],
   "source": [
    "A2 = np.c_[A2,[1]*8]\n",
    "weight2, bias2 = np.linalg.inv(A2.T@A2) @ A2.T @ B\n",
    "weight2, bias2"
   ]
  },
  {
   "cell_type": "code",
   "execution_count": 69,
   "id": "ec6b1941",
   "metadata": {},
   "outputs": [],
   "source": [
    "import numpy as np\n",
    "import matplotlib.pyplot as plt"
   ]
  },
  {
   "cell_type": "code",
   "execution_count": 70,
   "id": "26f35cfc",
   "metadata": {},
   "outputs": [
    {
     "data": {
      "image/png": "[encoded data removed]",
      "text/plain": [
       "<Figure size 432x288 with 2 Axes>"
      ]
     },
     "metadata": {
      "needs_background": "light"
     },
     "output_type": "display_data"
    }
   ],
   "source": [
    "fig, ax = plt.subplots(ncols=2)\n",
    "ax[0].scatter(x, y)\n",
    "ax[0].plot(A[:,0], weight*A[:,0] + bias, '-')\n",
    "ax[1].scatter(A2[:,0], y, color=\"red\")\n",
    "ax[1].plot(A2[:,0], weight2*A2[:,0] + bias2, '-.', color=\"red\")\n",
    "plt.show()"
   ]
  },
  {
   "cell_type": "markdown",
   "id": "7e17eda6",
   "metadata": {},
   "source": [
    "##### 특이값 분해의 계산"
   ]
  },
  {
   "cell_type": "code",
   "execution_count": 72,
   "id": "603683d5",
   "metadata": {
    "scrolled": true
   },
   "outputs": [
    {
     "data": {
      "text/plain": [
       "array([[-0.09523708+0.j        ,  0.75291219+0.j        ,\n",
       "        -0.52722992+0.j        ,  0.10332126-0.02761149j,\n",
       "         0.10332126+0.02761149j,  0.01670571+0.12039917j,\n",
       "         0.01670571-0.12039917j, -0.08907633+0.j        ],\n",
       "       [-0.19045071+0.j        ,  0.49902645+0.j        ,\n",
       "         0.66667462+0.j        ,  0.10658659-0.06455096j,\n",
       "         0.10658659+0.06455096j,  0.11622826+0.06446481j,\n",
       "         0.11622826-0.06446481j,  0.14576631+0.j        ],\n",
       "       [-0.28566433+0.j        ,  0.24514071+0.j        ,\n",
       "        -0.11493311+0.j        , -0.14342611+0.03149177j,\n",
       "        -0.14342611-0.03149177j, -0.26102217-0.40648603j,\n",
       "        -0.26102217+0.40648603j, -0.10107261+0.j        ],\n",
       "       [-0.3511237 +0.j        ,  0.07059426+0.j        ,\n",
       "         0.17507127+0.j        , -0.19859283+0.22684368j,\n",
       "        -0.19859283-0.22684368j, -0.36853099+0.0525518j ,\n",
       "        -0.36853099-0.0525518j , -0.2653142 +0.j        ],\n",
       "       [-0.37492711+0.j        ,  0.00712283+0.j        ,\n",
       "         0.1342411 +0.j        , -0.17005209-0.10136411j,\n",
       "        -0.17005209+0.10136411j,  0.68266871+0.j        ,\n",
       "         0.68266871-0.j        ,  0.70749073+0.j        ],\n",
       "       [-0.42848478+0.j        , -0.1356879 +0.j        ,\n",
       "         0.15657129+0.j        ,  0.14817365+0.26913822j,\n",
       "         0.14817365-0.26913822j, -0.32045539+0.12624278j,\n",
       "        -0.32045539-0.12624278j, -0.59784362+0.j        ],\n",
       "       [-0.45228818+0.j        , -0.19915934+0.j        ,\n",
       "        -0.4335258 +0.j        , -0.47237514-0.33394711j,\n",
       "        -0.47237514+0.33394711j,  0.08920258+0.01711253j,\n",
       "         0.08920258-0.01711253j,  0.02179373+0.j        ],\n",
       "       [-0.47014074+0.j        , -0.24676291+0.j        ,\n",
       "        -0.05686944+0.j        ,  0.62636466+0.j        ,\n",
       "         0.62636466-0.j        ,  0.0452033 +0.02571494j,\n",
       "         0.0452033 -0.02571494j,  0.178256  +0.j        ]])"
      ]
     },
     "execution_count": 72,
     "metadata": {},
     "output_type": "execute_result"
    }
   ],
   "source": [
    "Uw, Uv = np.linalg.eig(A @ A.T)\n",
    "Uv"
   ]
  },
  {
   "cell_type": "code",
   "execution_count": 73,
   "id": "295d9b99",
   "metadata": {},
   "outputs": [
    {
     "data": {
      "text/plain": [
       "array([[ 0.99996895, -0.00788011],\n",
       "       [ 0.00788011,  0.99996895]])"
      ]
     },
     "execution_count": 73,
     "metadata": {},
     "output_type": "execute_result"
    }
   ],
   "source": [
    "Vw, Vv = np.linalg.eig(A.T @ A)\n",
    "Vv"
   ]
  },
  {
   "cell_type": "code",
   "execution_count": 75,
   "id": "f8f3bda9",
   "metadata": {},
   "outputs": [
    {
     "data": {
      "text/plain": [
       "array([336.0759044 ,   0.99321713])"
      ]
     },
     "execution_count": 75,
     "metadata": {},
     "output_type": "execute_result"
    }
   ],
   "source": [
    "s = np.sqrt(Vw)\n",
    "s"
   ]
  },
  {
   "cell_type": "markdown",
   "id": "1748d951",
   "metadata": {},
   "source": [
    "#### 특이값 분해 iris 데이터"
   ]
  },
  {
   "cell_type": "code",
   "execution_count": 78,
   "id": "4f0f62a5",
   "metadata": {},
   "outputs": [
    {
     "data": {
      "text/plain": [
       "{'data': array([[5.1, 3.5, 1.4, 0.2],\n",
       "        [4.9, 3. , 1.4, 0.2],\n",
       "        [4.7, 3.2, 1.3, 0.2],\n",
       "        [4.6, 3.1, 1.5, 0.2],\n",
       "        [5. , 3.6, 1.4, 0.2],\n",
       "        [5.4, 3.9, 1.7, 0.4],\n",
       "        [4.6, 3.4, 1.4, 0.3],\n",
       "        [5. , 3.4, 1.5, 0.2],\n",
       "        [4.4, 2.9, 1.4, 0.2],\n",
       "        [4.9, 3.1, 1.5, 0.1],\n",
       "        [5.4, 3.7, 1.5, 0.2],\n",
       "        [4.8, 3.4, 1.6, 0.2],\n",
       "        [4.8, 3. , 1.4, 0.1],\n",
       "        [4.3, 3. , 1.1, 0.1],\n",
       "        [5.8, 4. , 1.2, 0.2],\n",
       "        [5.7, 4.4, 1.5, 0.4],\n",
       "        [5.4, 3.9, 1.3, 0.4],\n",
       "        [5.1, 3.5, 1.4, 0.3],\n",
       "        [5.7, 3.8, 1.7, 0.3],\n",
       "        [5.1, 3.8, 1.5, 0.3],\n",
       "        [5.4, 3.4, 1.7, 0.2],\n",
       "        [5.1, 3.7, 1.5, 0.4],\n",
       "        [4.6, 3.6, 1. , 0.2],\n",
       "        [5.1, 3.3, 1.7, 0.5],\n",
       "        [4.8, 3.4, 1.9, 0.2],\n",
       "        [5. , 3. , 1.6, 0.2],\n",
       "        [5. , 3.4, 1.6, 0.4],\n",
       "        [5.2, 3.5, 1.5, 0.2],\n",
       "        [5.2, 3.4, 1.4, 0.2],\n",
       "        [4.7, 3.2, 1.6, 0.2],\n",
       "        [4.8, 3.1, 1.6, 0.2],\n",
       "        [5.4, 3.4, 1.5, 0.4],\n",
       "        [5.2, 4.1, 1.5, 0.1],\n",
       "        [5.5, 4.2, 1.4, 0.2],\n",
       "        [4.9, 3.1, 1.5, 0.2],\n",
       "        [5. , 3.2, 1.2, 0.2],\n",
       "        [5.5, 3.5, 1.3, 0.2],\n",
       "        [4.9, 3.6, 1.4, 0.1],\n",
       "        [4.4, 3. , 1.3, 0.2],\n",
       "        [5.1, 3.4, 1.5, 0.2],\n",
       "        [5. , 3.5, 1.3, 0.3],\n",
       "        [4.5, 2.3, 1.3, 0.3],\n",
       "        [4.4, 3.2, 1.3, 0.2],\n",
       "        [5. , 3.5, 1.6, 0.6],\n",
       "        [5.1, 3.8, 1.9, 0.4],\n",
       "        [4.8, 3. , 1.4, 0.3],\n",
       "        [5.1, 3.8, 1.6, 0.2],\n",
       "        [4.6, 3.2, 1.4, 0.2],\n",
       "        [5.3, 3.7, 1.5, 0.2],\n",
       "        [5. , 3.3, 1.4, 0.2],\n",
       "        [7. , 3.2, 4.7, 1.4],\n",
       "        [6.4, 3.2, 4.5, 1.5],\n",
       "        [6.9, 3.1, 4.9, 1.5],\n",
       "        [5.5, 2.3, 4. , 1.3],\n",
       "        [6.5, 2.8, 4.6, 1.5],\n",
       "        [5.7, 2.8, 4.5, 1.3],\n",
       "        [6.3, 3.3, 4.7, 1.6],\n",
       "        [4.9, 2.4, 3.3, 1. ],\n",
       "        [6.6, 2.9, 4.6, 1.3],\n",
       "        [5.2, 2.7, 3.9, 1.4],\n",
       "        [5. , 2. , 3.5, 1. ],\n",
       "        [5.9, 3. , 4.2, 1.5],\n",
       "        [6. , 2.2, 4. , 1. ],\n",
       "        [6.1, 2.9, 4.7, 1.4],\n",
       "        [5.6, 2.9, 3.6, 1.3],\n",
       "        [6.7, 3.1, 4.4, 1.4],\n",
       "        [5.6, 3. , 4.5, 1.5],\n",
       "        [5.8, 2.7, 4.1, 1. ],\n",
       "        [6.2, 2.2, 4.5, 1.5],\n",
       "        [5.6, 2.5, 3.9, 1.1],\n",
       "        [5.9, 3.2, 4.8, 1.8],\n",
       "        [6.1, 2.8, 4. , 1.3],\n",
       "        [6.3, 2.5, 4.9, 1.5],\n",
       "        [6.1, 2.8, 4.7, 1.2],\n",
       "        [6.4, 2.9, 4.3, 1.3],\n",
       "        [6.6, 3. , 4.4, 1.4],\n",
       "        [6.8, 2.8, 4.8, 1.4],\n",
       "        [6.7, 3. , 5. , 1.7],\n",
       "        [6. , 2.9, 4.5, 1.5],\n",
       "        [5.7, 2.6, 3.5, 1. ],\n",
       "        [5.5, 2.4, 3.8, 1.1],\n",
       "        [5.5, 2.4, 3.7, 1. ],\n",
       "        [5.8, 2.7, 3.9, 1.2],\n",
       "        [6. , 2.7, 5.1, 1.6],\n",
       "        [5.4, 3. , 4.5, 1.5],\n",
       "        [6. , 3.4, 4.5, 1.6],\n",
       "        [6.7, 3.1, 4.7, 1.5],\n",
       "        [6.3, 2.3, 4.4, 1.3],\n",
       "        [5.6, 3. , 4.1, 1.3],\n",
       "        [5.5, 2.5, 4. , 1.3],\n",
       "        [5.5, 2.6, 4.4, 1.2],\n",
       "        [6.1, 3. , 4.6, 1.4],\n",
       "        [5.8, 2.6, 4. , 1.2],\n",
       "        [5. , 2.3, 3.3, 1. ],\n",
       "        [5.6, 2.7, 4.2, 1.3],\n",
       "        [5.7, 3. , 4.2, 1.2],\n",
       "        [5.7, 2.9, 4.2, 1.3],\n",
       "        [6.2, 2.9, 4.3, 1.3],\n",
       "        [5.1, 2.5, 3. , 1.1],\n",
       "        [5.7, 2.8, 4.1, 1.3],\n",
       "        [6.3, 3.3, 6. , 2.5],\n",
       "        [5.8, 2.7, 5.1, 1.9],\n",
       "        [7.1, 3. , 5.9, 2.1],\n",
       "        [6.3, 2.9, 5.6, 1.8],\n",
       "        [6.5, 3. , 5.8, 2.2],\n",
       "        [7.6, 3. , 6.6, 2.1],\n",
       "        [4.9, 2.5, 4.5, 1.7],\n",
       "        [7.3, 2.9, 6.3, 1.8],\n",
       "        [6.7, 2.5, 5.8, 1.8],\n",
       "        [7.2, 3.6, 6.1, 2.5],\n",
       "        [6.5, 3.2, 5.1, 2. ],\n",
       "        [6.4, 2.7, 5.3, 1.9],\n",
       "        [6.8, 3. , 5.5, 2.1],\n",
       "        [5.7, 2.5, 5. , 2. ],\n",
       "        [5.8, 2.8, 5.1, 2.4],\n",
       "        [6.4, 3.2, 5.3, 2.3],\n",
       "        [6.5, 3. , 5.5, 1.8],\n",
       "        [7.7, 3.8, 6.7, 2.2],\n",
       "        [7.7, 2.6, 6.9, 2.3],\n",
       "        [6. , 2.2, 5. , 1.5],\n",
       "        [6.9, 3.2, 5.7, 2.3],\n",
       "        [5.6, 2.8, 4.9, 2. ],\n",
       "        [7.7, 2.8, 6.7, 2. ],\n",
       "        [6.3, 2.7, 4.9, 1.8],\n",
       "        [6.7, 3.3, 5.7, 2.1],\n",
       "        [7.2, 3.2, 6. , 1.8],\n",
       "        [6.2, 2.8, 4.8, 1.8],\n",
       "        [6.1, 3. , 4.9, 1.8],\n",
       "        [6.4, 2.8, 5.6, 2.1],\n",
       "        [7.2, 3. , 5.8, 1.6],\n",
       "        [7.4, 2.8, 6.1, 1.9],\n",
       "        [7.9, 3.8, 6.4, 2. ],\n",
       "        [6.4, 2.8, 5.6, 2.2],\n",
       "        [6.3, 2.8, 5.1, 1.5],\n",
       "        [6.1, 2.6, 5.6, 1.4],\n",
       "        [7.7, 3. , 6.1, 2.3],\n",
       "        [6.3, 3.4, 5.6, 2.4],\n",
       "        [6.4, 3.1, 5.5, 1.8],\n",
       "        [6. , 3. , 4.8, 1.8],\n",
       "        [6.9, 3.1, 5.4, 2.1],\n",
       "        [6.7, 3.1, 5.6, 2.4],\n",
       "        [6.9, 3.1, 5.1, 2.3],\n",
       "        [5.8, 2.7, 5.1, 1.9],\n",
       "        [6.8, 3.2, 5.9, 2.3],\n",
       "        [6.7, 3.3, 5.7, 2.5],\n",
       "        [6.7, 3. , 5.2, 2.3],\n",
       "        [6.3, 2.5, 5. , 1.9],\n",
       "        [6.5, 3. , 5.2, 2. ],\n",
       "        [6.2, 3.4, 5.4, 2.3],\n",
       "        [5.9, 3. , 5.1, 1.8]]),\n",
       " 'target': array([0, 0, 0, 0, 0, 0, 0, 0, 0, 0, 0, 0, 0, 0, 0, 0, 0, 0, 0, 0, 0, 0,\n",
       "        0, 0, 0, 0, 0, 0, 0, 0, 0, 0, 0, 0, 0, 0, 0, 0, 0, 0, 0, 0, 0, 0,\n",
       "        0, 0, 0, 0, 0, 0, 1, 1, 1, 1, 1, 1, 1, 1, 1, 1, 1, 1, 1, 1, 1, 1,\n",
       "        1, 1, 1, 1, 1, 1, 1, 1, 1, 1, 1, 1, 1, 1, 1, 1, 1, 1, 1, 1, 1, 1,\n",
       "        1, 1, 1, 1, 1, 1, 1, 1, 1, 1, 1, 1, 2, 2, 2, 2, 2, 2, 2, 2, 2, 2,\n",
       "        2, 2, 2, 2, 2, 2, 2, 2, 2, 2, 2, 2, 2, 2, 2, 2, 2, 2, 2, 2, 2, 2,\n",
       "        2, 2, 2, 2, 2, 2, 2, 2, 2, 2, 2, 2, 2, 2, 2, 2, 2, 2]),\n",
       " 'frame': None,\n",
       " 'target_names': array(['setosa', 'versicolor', 'virginica'], dtype='<U10'),\n",
       " 'DESCR': '.. _iris_dataset:\\n\\nIris plants dataset\\n--------------------\\n\\n**Data Set Characteristics:**\\n\\n    :Number of Instances: 150 (50 in each of three classes)\\n    :Number of Attributes: 4 numeric, predictive attributes and the class\\n    :Attribute Information:\\n        - sepal length in cm\\n        - sepal width in cm\\n        - petal length in cm\\n        - petal width in cm\\n        - class:\\n                - Iris-Setosa\\n                - Iris-Versicolour\\n                - Iris-Virginica\\n                \\n    :Summary Statistics:\\n\\n    ============== ==== ==== ======= ===== ====================\\n                    Min  Max   Mean    SD   Class Correlation\\n    ============== ==== ==== ======= ===== ====================\\n    sepal length:   4.3  7.9   5.84   0.83    0.7826\\n    sepal width:    2.0  4.4   3.05   0.43   -0.4194\\n    petal length:   1.0  6.9   3.76   1.76    0.9490  (high!)\\n    petal width:    0.1  2.5   1.20   0.76    0.9565  (high!)\\n    ============== ==== ==== ======= ===== ====================\\n\\n    :Missing Attribute Values: None\\n    :Class Distribution: 33.3% for each of 3 classes.\\n    :Creator: R.A. Fisher\\n    :Donor: Michael Marshall (MARSHALL%PLU@io.arc.nasa.gov)\\n    :Date: July, 1988\\n\\nThe famous Iris database, first used by Sir R.A. Fisher. The dataset is taken\\nfrom Fisher\\'s paper. Note that it\\'s the same as in R, but not as in the UCI\\nMachine Learning Repository, which has two wrong data points.\\n\\nThis is perhaps the best known database to be found in the\\npattern recognition literature.  Fisher\\'s paper is a classic in the field and\\nis referenced frequently to this day.  (See Duda & Hart, for example.)  The\\ndata set contains 3 classes of 50 instances each, where each class refers to a\\ntype of iris plant.  One class is linearly separable from the other 2; the\\nlatter are NOT linearly separable from each other.\\n\\n.. topic:: References\\n\\n   - Fisher, R.A. \"The use of multiple measurements in taxonomic problems\"\\n     Annual Eugenics, 7, Part II, 179-188 (1936); also in \"Contributions to\\n     Mathematical Statistics\" (John Wiley, NY, 1950).\\n   - Duda, R.O., & Hart, P.E. (1973) Pattern Classification and Scene Analysis.\\n     (Q327.D83) John Wiley & Sons.  ISBN 0-471-22361-1.  See page 218.\\n   - Dasarathy, B.V. (1980) \"Nosing Around the Neighborhood: A New System\\n     Structure and Classification Rule for Recognition in Partially Exposed\\n     Environments\".  IEEE Transactions on Pattern Analysis and Machine\\n     Intelligence, Vol. PAMI-2, No. 1, 67-71.\\n   - Gates, G.W. (1972) \"The Reduced Nearest Neighbor Rule\".  IEEE Transactions\\n     on Information Theory, May 1972, 431-433.\\n   - See also: 1988 MLC Proceedings, 54-64.  Cheeseman et al\"s AUTOCLASS II\\n     conceptual clustering system finds 3 classes in the data.\\n   - Many, many more ...',\n",
       " 'feature_names': ['sepal length (cm)',\n",
       "  'sepal width (cm)',\n",
       "  'petal length (cm)',\n",
       "  'petal width (cm)'],\n",
       " 'filename': 'C:\\\\Users\\\\san\\\\anaconda3\\\\lib\\\\site-packages\\\\sklearn\\\\datasets\\\\data\\\\iris.csv'}"
      ]
     },
     "execution_count": 78,
     "metadata": {},
     "output_type": "execute_result"
    }
   ],
   "source": [
    "import numpy as np\n",
    "import pandas as pd\n",
    "from sklearn import datasets\n",
    "iris = datasets.load_iris()\n",
    "iris"
   ]
  },
  {
   "cell_type": "code",
   "execution_count": 79,
   "id": "c4fe45ab",
   "metadata": {},
   "outputs": [
    {
     "data": {
      "text/plain": [
       "array([[-0.06161685,  0.12961144,  0.0021386 , ..., -0.09343429,\n",
       "        -0.09573864, -0.08085465],\n",
       "       [-0.05807094,  0.11101978,  0.07067239, ...,  0.03690405,\n",
       "        -0.03153954,  0.01309526],\n",
       "       [-0.05676305,  0.11796647,  0.00434255, ...,  0.03066199,\n",
       "         0.19531473,  0.13569909],\n",
       "       ...,\n",
       "       [-0.0940593 , -0.0498297 , -0.04144001, ...,  0.98181631,\n",
       "        -0.02194514, -0.00894446],\n",
       "       [-0.09488961, -0.05610123, -0.21297821, ..., -0.02155617,\n",
       "         0.94178018, -0.02971961],\n",
       "       [-0.08847836, -0.0515697 , -0.09575285, ..., -0.0086052 ,\n",
       "        -0.03021088,  0.9736599 ]])"
      ]
     },
     "execution_count": 79,
     "metadata": {},
     "output_type": "execute_result"
    }
   ],
   "source": [
    "U, s, VT = np.linalg.svd(iris.data)\n",
    "U"
   ]
  },
  {
   "cell_type": "code",
   "execution_count": 80,
   "id": "b58b09f8",
   "metadata": {},
   "outputs": [
    {
     "data": {
      "text/plain": [
       "array([95.95991387, 17.76103366,  3.46093093,  1.88482631])"
      ]
     },
     "execution_count": 80,
     "metadata": {},
     "output_type": "execute_result"
    }
   ],
   "source": [
    "s"
   ]
  },
  {
   "cell_type": "code",
   "execution_count": 81,
   "id": "21e80ce2",
   "metadata": {},
   "outputs": [
    {
     "data": {
      "text/plain": [
       "array([[-0.75110816, -0.38008617, -0.51300886, -0.16790754],\n",
       "       [ 0.2841749 ,  0.5467445 , -0.70866455, -0.34367081],\n",
       "       [ 0.50215472, -0.67524332, -0.05916621, -0.53701625],\n",
       "       [ 0.32081425, -0.31725607, -0.48074507,  0.75187165]])"
      ]
     },
     "execution_count": 81,
     "metadata": {},
     "output_type": "execute_result"
    }
   ],
   "source": [
    "VT"
   ]
  },
  {
   "cell_type": "code",
   "execution_count": 82,
   "id": "c1fcb71c",
   "metadata": {},
   "outputs": [],
   "source": [
    "N=3\n",
    "S = np.zeros((3,3))\n",
    "for i in range(N):\n",
    "    S[i][i] = s[i]"
   ]
  },
  {
   "cell_type": "code",
   "execution_count": 83,
   "id": "17eaecf4",
   "metadata": {},
   "outputs": [
    {
     "data": {
      "text/plain": [
       "array([[95.95991387,  0.        ,  0.        ],\n",
       "       [ 0.        , 17.76103366,  0.        ],\n",
       "       [ 0.        ,  0.        ,  3.46093093]])"
      ]
     },
     "execution_count": 83,
     "metadata": {},
     "output_type": "execute_result"
    }
   ],
   "source": [
    "S"
   ]
  },
  {
   "cell_type": "code",
   "execution_count": 84,
   "id": "9e09d7a5",
   "metadata": {},
   "outputs": [
    {
     "data": {
      "text/html": [
       "<div>\n",
       "<style scoped>\n",
       "    .dataframe tbody tr th:only-of-type {\n",
       "        vertical-align: middle;\n",
       "    }\n",
       "\n",
       "    .dataframe tbody tr th {\n",
       "        vertical-align: top;\n",
       "    }\n",
       "\n",
       "    .dataframe thead th {\n",
       "        text-align: right;\n",
       "    }\n",
       "</style>\n",
       "<table border=\"1\" class=\"dataframe\">\n",
       "  <thead>\n",
       "    <tr style=\"text-align: right;\">\n",
       "      <th></th>\n",
       "      <th>A</th>\n",
       "      <th>B</th>\n",
       "      <th>C</th>\n",
       "      <th>Species</th>\n",
       "    </tr>\n",
       "  </thead>\n",
       "  <tbody>\n",
       "    <tr>\n",
       "      <th>0</th>\n",
       "      <td>5.099009</td>\n",
       "      <td>3.500980</td>\n",
       "      <td>1.401484</td>\n",
       "      <td>0.0</td>\n",
       "    </tr>\n",
       "    <tr>\n",
       "      <th>1</th>\n",
       "      <td>4.868704</td>\n",
       "      <td>3.030949</td>\n",
       "      <td>1.446898</td>\n",
       "      <td>0.0</td>\n",
       "    </tr>\n",
       "    <tr>\n",
       "      <th>2</th>\n",
       "      <td>4.694221</td>\n",
       "      <td>3.205715</td>\n",
       "      <td>1.308660</td>\n",
       "      <td>0.0</td>\n",
       "    </tr>\n",
       "    <tr>\n",
       "      <th>3</th>\n",
       "      <td>4.625181</td>\n",
       "      <td>3.075098</td>\n",
       "      <td>1.462266</td>\n",
       "      <td>0.0</td>\n",
       "    </tr>\n",
       "    <tr>\n",
       "      <th>4</th>\n",
       "      <td>5.019480</td>\n",
       "      <td>3.580736</td>\n",
       "      <td>1.370809</td>\n",
       "      <td>0.0</td>\n",
       "    </tr>\n",
       "  </tbody>\n",
       "</table>\n",
       "</div>"
      ],
      "text/plain": [
       "          A         B         C  Species\n",
       "0  5.099009  3.500980  1.401484      0.0\n",
       "1  4.868704  3.030949  1.446898      0.0\n",
       "2  4.694221  3.205715  1.308660      0.0\n",
       "3  4.625181  3.075098  1.462266      0.0\n",
       "4  5.019480  3.580736  1.370809      0.0"
      ]
     },
     "execution_count": 84,
     "metadata": {},
     "output_type": "execute_result"
    }
   ],
   "source": [
    "iris2 = U[:,0:3] @ S @ VT[0:3,0:3]\n",
    "iris_df = pd.DataFrame(data=np.c_[iris2, iris.target],\n",
    "                      columns=['A','B','C','Species'])\n",
    "iris_df.head()"
   ]
  },
  {
   "cell_type": "code",
   "execution_count": 89,
   "id": "78b5107b",
   "metadata": {},
   "outputs": [],
   "source": [
    "from sklearn.model_selection import train_test_split\n",
    "train_x, test_x, train_y, test_y = train_test_split(\n",
    "    iris_df.iloc[:,:-1], iris_df.iloc[:,-1], test_size=0.3)"
   ]
  },
  {
   "cell_type": "code",
   "execution_count": 90,
   "id": "0794aa74",
   "metadata": {},
   "outputs": [
    {
     "data": {
      "text/plain": [
       "MLPClassifier(hidden_layer_sizes=(50, 30), max_iter=1000)"
      ]
     },
     "execution_count": 90,
     "metadata": {},
     "output_type": "execute_result"
    }
   ],
   "source": [
    "from sklearn.neural_network import MLPClassifier\n",
    "mlp = MLPClassifier(hidden_layer_sizes=(50,30), max_iter = 1000)\n",
    "mlp.fit(train_x, train_y)"
   ]
  },
  {
   "cell_type": "code",
   "execution_count": 91,
   "id": "54714705",
   "metadata": {},
   "outputs": [
    {
     "data": {
      "text/html": [
       "<div>\n",
       "<style scoped>\n",
       "    .dataframe tbody tr th:only-of-type {\n",
       "        vertical-align: middle;\n",
       "    }\n",
       "\n",
       "    .dataframe tbody tr th {\n",
       "        vertical-align: top;\n",
       "    }\n",
       "\n",
       "    .dataframe thead th {\n",
       "        text-align: right;\n",
       "    }\n",
       "</style>\n",
       "<table border=\"1\" class=\"dataframe\">\n",
       "  <thead>\n",
       "    <tr style=\"text-align: right;\">\n",
       "      <th>Pred</th>\n",
       "      <th>0.0</th>\n",
       "      <th>1.0</th>\n",
       "      <th>2.0</th>\n",
       "      <th>All</th>\n",
       "    </tr>\n",
       "    <tr>\n",
       "      <th>True</th>\n",
       "      <th></th>\n",
       "      <th></th>\n",
       "      <th></th>\n",
       "      <th></th>\n",
       "    </tr>\n",
       "  </thead>\n",
       "  <tbody>\n",
       "    <tr>\n",
       "      <th>0.0</th>\n",
       "      <td>13</td>\n",
       "      <td>0</td>\n",
       "      <td>0</td>\n",
       "      <td>13</td>\n",
       "    </tr>\n",
       "    <tr>\n",
       "      <th>1.0</th>\n",
       "      <td>0</td>\n",
       "      <td>17</td>\n",
       "      <td>2</td>\n",
       "      <td>19</td>\n",
       "    </tr>\n",
       "    <tr>\n",
       "      <th>2.0</th>\n",
       "      <td>0</td>\n",
       "      <td>0</td>\n",
       "      <td>13</td>\n",
       "      <td>13</td>\n",
       "    </tr>\n",
       "    <tr>\n",
       "      <th>All</th>\n",
       "      <td>13</td>\n",
       "      <td>17</td>\n",
       "      <td>15</td>\n",
       "      <td>45</td>\n",
       "    </tr>\n",
       "  </tbody>\n",
       "</table>\n",
       "</div>"
      ],
      "text/plain": [
       "Pred  0.0  1.0  2.0  All\n",
       "True                    \n",
       "0.0    13    0    0   13\n",
       "1.0     0   17    2   19\n",
       "2.0     0    0   13   13\n",
       "All    13   17   15   45"
      ]
     },
     "execution_count": 91,
     "metadata": {},
     "output_type": "execute_result"
    }
   ],
   "source": [
    "pred = mlp.predict(test_x)\n",
    "confusion_matrix = pd.crosstab(test_y, pred,\n",
    "                              rownames=['True'], colnames=['Pred'],\n",
    "                              margins=True)\n",
    "confusion_matrix"
   ]
  },
  {
   "cell_type": "code",
   "execution_count": 92,
   "id": "6de38c12",
   "metadata": {},
   "outputs": [
    {
     "data": {
      "text/plain": [
       "0.9555555555555556"
      ]
     },
     "execution_count": 92,
     "metadata": {},
     "output_type": "execute_result"
    }
   ],
   "source": [
    "mlp.score(test_x, test_y)"
   ]
  },
  {
   "cell_type": "markdown",
   "id": "e753378a",
   "metadata": {},
   "source": [
    "#### 특이값 분해 모듈 사용하기"
   ]
  },
  {
   "cell_type": "code",
   "execution_count": 93,
   "id": "09cb56be",
   "metadata": {},
   "outputs": [],
   "source": [
    "from sklearn import datasets\n",
    "from sklearn.utils.extmath import randomized_svd\n",
    "import numpy as np\n",
    "import pandas as pd"
   ]
  },
  {
   "cell_type": "code",
   "execution_count": 94,
   "id": "bad14edd",
   "metadata": {},
   "outputs": [],
   "source": [
    "iris = datasets.load_iris()"
   ]
  },
  {
   "cell_type": "code",
   "execution_count": 95,
   "id": "6cb4762e",
   "metadata": {},
   "outputs": [],
   "source": [
    "U, s, VT = randomized_svd(iris['data'], n_components=3, n_iter=5,\n",
    "                         random_state=None)"
   ]
  },
  {
   "cell_type": "code",
   "execution_count": 96,
   "id": "aac06af1",
   "metadata": {},
   "outputs": [
    {
     "data": {
      "text/plain": [
       "array([95.95991387, 17.76103366,  3.46093093])"
      ]
     },
     "execution_count": 96,
     "metadata": {},
     "output_type": "execute_result"
    }
   ],
   "source": [
    "s"
   ]
  },
  {
   "cell_type": "code",
   "execution_count": 97,
   "id": "eaae2a23",
   "metadata": {},
   "outputs": [
    {
     "data": {
      "text/plain": [
       "array([[ 0.75110816,  0.38008617,  0.51300886,  0.16790754],\n",
       "       [ 0.2841749 ,  0.5467445 , -0.70866455, -0.34367081],\n",
       "       [-0.50215472,  0.67524332,  0.05916621,  0.53701625]])"
      ]
     },
     "execution_count": 97,
     "metadata": {},
     "output_type": "execute_result"
    }
   ],
   "source": [
    "VT"
   ]
  },
  {
   "cell_type": "code",
   "execution_count": 98,
   "id": "46c33e0f",
   "metadata": {},
   "outputs": [],
   "source": [
    "S = np.zeros((3,3))\n",
    "for i in range(3):\n",
    "    S[i][i] = s[i]"
   ]
  },
  {
   "cell_type": "code",
   "execution_count": 99,
   "id": "18139c16",
   "metadata": {},
   "outputs": [
    {
     "data": {
      "text/plain": [
       "array([[95.95991387,  0.        ,  0.        ],\n",
       "       [ 0.        , 17.76103366,  0.        ],\n",
       "       [ 0.        ,  0.        ,  3.46093093]])"
      ]
     },
     "execution_count": 99,
     "metadata": {},
     "output_type": "execute_result"
    }
   ],
   "source": [
    "S"
   ]
  },
  {
   "cell_type": "code",
   "execution_count": 100,
   "id": "16c336d1",
   "metadata": {},
   "outputs": [],
   "source": [
    "iris2 = U @ S @ VT[:,0:3]"
   ]
  },
  {
   "cell_type": "code",
   "execution_count": 101,
   "id": "30e732c3",
   "metadata": {},
   "outputs": [],
   "source": [
    "columns = ['A','B','C','Species']"
   ]
  },
  {
   "cell_type": "code",
   "execution_count": 102,
   "id": "4d0d0f95",
   "metadata": {},
   "outputs": [],
   "source": [
    "iris_df = pd.DataFrame(data=np.c_[iris2, iris['target_names'][iris['target']]],\n",
    "                      columns = columns)"
   ]
  },
  {
   "cell_type": "code",
   "execution_count": 103,
   "id": "54e70767",
   "metadata": {},
   "outputs": [
    {
     "data": {
      "text/html": [
       "<div>\n",
       "<style scoped>\n",
       "    .dataframe tbody tr th:only-of-type {\n",
       "        vertical-align: middle;\n",
       "    }\n",
       "\n",
       "    .dataframe tbody tr th {\n",
       "        vertical-align: top;\n",
       "    }\n",
       "\n",
       "    .dataframe thead th {\n",
       "        text-align: right;\n",
       "    }\n",
       "</style>\n",
       "<table border=\"1\" class=\"dataframe\">\n",
       "  <thead>\n",
       "    <tr style=\"text-align: right;\">\n",
       "      <th></th>\n",
       "      <th>A</th>\n",
       "      <th>B</th>\n",
       "      <th>C</th>\n",
       "      <th>Species</th>\n",
       "    </tr>\n",
       "  </thead>\n",
       "  <tbody>\n",
       "    <tr>\n",
       "      <th>0</th>\n",
       "      <td>5.099009419824256</td>\n",
       "      <td>3.500979593534074</td>\n",
       "      <td>1.40148439953997</td>\n",
       "      <td>setosa</td>\n",
       "    </tr>\n",
       "    <tr>\n",
       "      <th>1</th>\n",
       "      <td>4.868703642816383</td>\n",
       "      <td>3.030949245591968</td>\n",
       "      <td>1.4468980697813896</td>\n",
       "      <td>setosa</td>\n",
       "    </tr>\n",
       "    <tr>\n",
       "      <th>2</th>\n",
       "      <td>4.694221066713823</td>\n",
       "      <td>3.205714838454974</td>\n",
       "      <td>1.3086598198930006</td>\n",
       "      <td>setosa</td>\n",
       "    </tr>\n",
       "    <tr>\n",
       "      <th>3</th>\n",
       "      <td>4.625181192541423</td>\n",
       "      <td>3.075098095037365</td>\n",
       "      <td>1.4622655979398034</td>\n",
       "      <td>setosa</td>\n",
       "    </tr>\n",
       "    <tr>\n",
       "      <th>4</th>\n",
       "      <td>5.019479625287912</td>\n",
       "      <td>3.580736425535474</td>\n",
       "      <td>1.3708094836498785</td>\n",
       "      <td>setosa</td>\n",
       "    </tr>\n",
       "  </tbody>\n",
       "</table>\n",
       "</div>"
      ],
      "text/plain": [
       "                   A                  B                   C Species\n",
       "0  5.099009419824256  3.500979593534074    1.40148439953997  setosa\n",
       "1  4.868703642816383  3.030949245591968  1.4468980697813896  setosa\n",
       "2  4.694221066713823  3.205714838454974  1.3086598198930006  setosa\n",
       "3  4.625181192541423  3.075098095037365  1.4622655979398034  setosa\n",
       "4  5.019479625287912  3.580736425535474  1.3708094836498785  setosa"
      ]
     },
     "execution_count": 103,
     "metadata": {},
     "output_type": "execute_result"
    }
   ],
   "source": [
    "iris_df.head()"
   ]
  },
  {
   "cell_type": "code",
   "execution_count": 134,
   "id": "05f19589",
   "metadata": {},
   "outputs": [],
   "source": [
    "import numpy as np"
   ]
  },
  {
   "cell_type": "code",
   "execution_count": 135,
   "id": "0ef9155b",
   "metadata": {},
   "outputs": [],
   "source": [
    "A = np.arange(12).reshape(3,4)"
   ]
  },
  {
   "cell_type": "code",
   "execution_count": 136,
   "id": "1f864254",
   "metadata": {},
   "outputs": [
    {
     "data": {
      "text/plain": [
       "numpy.int32"
      ]
     },
     "execution_count": 136,
     "metadata": {},
     "output_type": "execute_result"
    }
   ],
   "source": [
    "type(A[0,0])"
   ]
  },
  {
   "cell_type": "code",
   "execution_count": 139,
   "id": "d8eb6d91",
   "metadata": {},
   "outputs": [
    {
     "data": {
      "text/plain": [
       "(3,)"
      ]
     },
     "execution_count": 139,
     "metadata": {},
     "output_type": "execute_result"
    }
   ],
   "source": [
    "A[:,0].shape"
   ]
  },
  {
   "cell_type": "code",
   "execution_count": 140,
   "id": "5c800054",
   "metadata": {},
   "outputs": [
    {
     "data": {
      "text/plain": [
       "array([[0],\n",
       "       [4],\n",
       "       [8]])"
      ]
     },
     "execution_count": 140,
     "metadata": {},
     "output_type": "execute_result"
    }
   ],
   "source": [
    "A[:,0:1]"
   ]
  },
  {
   "cell_type": "code",
   "execution_count": 141,
   "id": "9fe01953",
   "metadata": {},
   "outputs": [
    {
     "data": {
      "text/plain": [
       "array([0, 4, 8])"
      ]
     },
     "execution_count": 141,
     "metadata": {},
     "output_type": "execute_result"
    }
   ],
   "source": [
    "A[:,0]"
   ]
  },
  {
   "cell_type": "markdown",
   "id": "c834f55f",
   "metadata": {},
   "source": [
    "### 분류모형의 변수 선택"
   ]
  },
  {
   "cell_type": "markdown",
   "id": "b888d98a",
   "metadata": {},
   "source": [
    "#### 상관관계 확인하기"
   ]
  },
  {
   "cell_type": "code",
   "execution_count": 143,
   "id": "73cfc7f6",
   "metadata": {},
   "outputs": [
    {
     "data": {
      "text/html": [
       "<div>\n",
       "<style scoped>\n",
       "    .dataframe tbody tr th:only-of-type {\n",
       "        vertical-align: middle;\n",
       "    }\n",
       "\n",
       "    .dataframe tbody tr th {\n",
       "        vertical-align: top;\n",
       "    }\n",
       "\n",
       "    .dataframe thead th {\n",
       "        text-align: right;\n",
       "    }\n",
       "</style>\n",
       "<table border=\"1\" class=\"dataframe\">\n",
       "  <thead>\n",
       "    <tr style=\"text-align: right;\">\n",
       "      <th></th>\n",
       "      <th>fixed acidity</th>\n",
       "      <th>volatile acidity</th>\n",
       "      <th>citric acid</th>\n",
       "      <th>residual sugar</th>\n",
       "      <th>chlorides</th>\n",
       "      <th>free sulfur dioxide</th>\n",
       "      <th>total sulfur dioxide</th>\n",
       "      <th>density</th>\n",
       "      <th>pH</th>\n",
       "      <th>sulphates</th>\n",
       "      <th>alcohol</th>\n",
       "      <th>quality</th>\n",
       "    </tr>\n",
       "  </thead>\n",
       "  <tbody>\n",
       "    <tr>\n",
       "      <th>0</th>\n",
       "      <td>7.4</td>\n",
       "      <td>0.70</td>\n",
       "      <td>0.00</td>\n",
       "      <td>1.9</td>\n",
       "      <td>0.076</td>\n",
       "      <td>11.0</td>\n",
       "      <td>34.0</td>\n",
       "      <td>0.9978</td>\n",
       "      <td>3.51</td>\n",
       "      <td>0.56</td>\n",
       "      <td>9.4</td>\n",
       "      <td>5</td>\n",
       "    </tr>\n",
       "    <tr>\n",
       "      <th>1</th>\n",
       "      <td>7.8</td>\n",
       "      <td>0.88</td>\n",
       "      <td>0.00</td>\n",
       "      <td>2.6</td>\n",
       "      <td>0.098</td>\n",
       "      <td>25.0</td>\n",
       "      <td>67.0</td>\n",
       "      <td>0.9968</td>\n",
       "      <td>3.20</td>\n",
       "      <td>0.68</td>\n",
       "      <td>9.8</td>\n",
       "      <td>5</td>\n",
       "    </tr>\n",
       "    <tr>\n",
       "      <th>2</th>\n",
       "      <td>7.8</td>\n",
       "      <td>0.76</td>\n",
       "      <td>0.04</td>\n",
       "      <td>2.3</td>\n",
       "      <td>0.092</td>\n",
       "      <td>15.0</td>\n",
       "      <td>54.0</td>\n",
       "      <td>0.9970</td>\n",
       "      <td>3.26</td>\n",
       "      <td>0.65</td>\n",
       "      <td>9.8</td>\n",
       "      <td>5</td>\n",
       "    </tr>\n",
       "    <tr>\n",
       "      <th>3</th>\n",
       "      <td>11.2</td>\n",
       "      <td>0.28</td>\n",
       "      <td>0.56</td>\n",
       "      <td>1.9</td>\n",
       "      <td>0.075</td>\n",
       "      <td>17.0</td>\n",
       "      <td>60.0</td>\n",
       "      <td>0.9980</td>\n",
       "      <td>3.16</td>\n",
       "      <td>0.58</td>\n",
       "      <td>9.8</td>\n",
       "      <td>6</td>\n",
       "    </tr>\n",
       "    <tr>\n",
       "      <th>4</th>\n",
       "      <td>7.4</td>\n",
       "      <td>0.70</td>\n",
       "      <td>0.00</td>\n",
       "      <td>1.9</td>\n",
       "      <td>0.076</td>\n",
       "      <td>11.0</td>\n",
       "      <td>34.0</td>\n",
       "      <td>0.9978</td>\n",
       "      <td>3.51</td>\n",
       "      <td>0.56</td>\n",
       "      <td>9.4</td>\n",
       "      <td>5</td>\n",
       "    </tr>\n",
       "  </tbody>\n",
       "</table>\n",
       "</div>"
      ],
      "text/plain": [
       "   fixed acidity  volatile acidity  citric acid  residual sugar  chlorides  \\\n",
       "0            7.4              0.70         0.00             1.9      0.076   \n",
       "1            7.8              0.88         0.00             2.6      0.098   \n",
       "2            7.8              0.76         0.04             2.3      0.092   \n",
       "3           11.2              0.28         0.56             1.9      0.075   \n",
       "4            7.4              0.70         0.00             1.9      0.076   \n",
       "\n",
       "   free sulfur dioxide  total sulfur dioxide  density    pH  sulphates  \\\n",
       "0                 11.0                  34.0   0.9978  3.51       0.56   \n",
       "1                 25.0                  67.0   0.9968  3.20       0.68   \n",
       "2                 15.0                  54.0   0.9970  3.26       0.65   \n",
       "3                 17.0                  60.0   0.9980  3.16       0.58   \n",
       "4                 11.0                  34.0   0.9978  3.51       0.56   \n",
       "\n",
       "   alcohol  quality  \n",
       "0      9.4        5  \n",
       "1      9.8        5  \n",
       "2      9.8        5  \n",
       "3      9.8        6  \n",
       "4      9.4        5  "
      ]
     },
     "execution_count": 143,
     "metadata": {},
     "output_type": "execute_result"
    }
   ],
   "source": [
    "import pandas as pd\n",
    "redwine = pd.read_csv('winequality-red.csv', delimiter=';')\n",
    "redwine.head()"
   ]
  },
  {
   "cell_type": "code",
   "execution_count": 145,
   "id": "839c7a74",
   "metadata": {},
   "outputs": [
    {
     "data": {
      "text/plain": [
       "((1119, 11), (480, 11), (1119,), (480,))"
      ]
     },
     "execution_count": 145,
     "metadata": {},
     "output_type": "execute_result"
    }
   ],
   "source": [
    "X = redwine.iloc[:,:-1]\n",
    "y = redwine.iloc[:,-1]\n",
    "from sklearn.model_selection import train_test_split\n",
    "train_X, test_X, train_y, test_y = train_test_split(X,y,test_size=0.3,\n",
    "                                                   random_state=1)\n",
    "train_X.shape,test_X.shape, train_y.shape, test_y.shape"
   ]
  },
  {
   "cell_type": "code",
   "execution_count": 146,
   "id": "af72a284",
   "metadata": {},
   "outputs": [],
   "source": [
    "import seaborn as sns\n",
    "import matplotlib.pyplot as plt\n",
    "%matplotlib inline"
   ]
  },
  {
   "cell_type": "code",
   "execution_count": 148,
   "id": "00ca547d",
   "metadata": {},
   "outputs": [
    {
     "data": {
      "image/png": "[encoded data removed]",
      "text/plain": [
       "<Figure size 864x720 with 2 Axes>"
      ]
     },
     "metadata": {
      "needs_background": "light"
     },
     "output_type": "display_data"
    }
   ],
   "source": [
    "plt.figure(figsize=(12,10))\n",
    "sns.heatmap(redwine.corr(), annot=True,\n",
    "           vmin=-1, vmax=1,cmap='coolwarm_r')\n",
    "plt.show()"
   ]
  },
  {
   "cell_type": "markdown",
   "id": "bec276b4",
   "metadata": {},
   "source": [
    "#### 분류모형의 Feature importance"
   ]
  },
  {
   "cell_type": "code",
   "execution_count": 150,
   "id": "10b0dbbb",
   "metadata": {},
   "outputs": [
    {
     "data": {
      "text/plain": [
       "RandomForestClassifier(n_estimators=10, random_state=10)"
      ]
     },
     "execution_count": 150,
     "metadata": {},
     "output_type": "execute_result"
    }
   ],
   "source": [
    "from sklearn.ensemble import RandomForestClassifier\n",
    "rf_model = RandomForestClassifier(n_estimators=10, random_state=10)\n",
    "rf_model.fit(train_X,train_y)"
   ]
  },
  {
   "cell_type": "code",
   "execution_count": 151,
   "id": "2891c1dd",
   "metadata": {},
   "outputs": [
    {
     "data": {
      "text/plain": [
       "array([0.07679351, 0.10421786, 0.07802557, 0.06573503, 0.07706915,\n",
       "       0.06138852, 0.10841369, 0.09313385, 0.07038339, 0.10917441,\n",
       "       0.15566503])"
      ]
     },
     "execution_count": 151,
     "metadata": {},
     "output_type": "execute_result"
    }
   ],
   "source": [
    "rf_model.feature_importances_"
   ]
  },
  {
   "cell_type": "code",
   "execution_count": 152,
   "id": "e958e6d2",
   "metadata": {},
   "outputs": [
    {
     "data": {
      "text/plain": [
       "1.0000000000000002"
      ]
     },
     "execution_count": 152,
     "metadata": {},
     "output_type": "execute_result"
    }
   ],
   "source": [
    "import numpy as np\n",
    "np.sum(rf_model.feature_importances_)"
   ]
  },
  {
   "cell_type": "code",
   "execution_count": 153,
   "id": "29f456c5",
   "metadata": {},
   "outputs": [],
   "source": [
    "features = pd.DataFrame(data=np.c_[X.columns, rf_model.feature_importances_],\n",
    "                       columns=['feature', 'importance'])"
   ]
  },
  {
   "cell_type": "code",
   "execution_count": 154,
   "id": "83d4fb78",
   "metadata": {},
   "outputs": [
    {
     "data": {
      "text/html": [
       "<div>\n",
       "<style scoped>\n",
       "    .dataframe tbody tr th:only-of-type {\n",
       "        vertical-align: middle;\n",
       "    }\n",
       "\n",
       "    .dataframe tbody tr th {\n",
       "        vertical-align: top;\n",
       "    }\n",
       "\n",
       "    .dataframe thead th {\n",
       "        text-align: right;\n",
       "    }\n",
       "</style>\n",
       "<table border=\"1\" class=\"dataframe\">\n",
       "  <thead>\n",
       "    <tr style=\"text-align: right;\">\n",
       "      <th></th>\n",
       "      <th>feature</th>\n",
       "      <th>importance</th>\n",
       "    </tr>\n",
       "  </thead>\n",
       "  <tbody>\n",
       "    <tr>\n",
       "      <th>0</th>\n",
       "      <td>alcohol</td>\n",
       "      <td>0.155665</td>\n",
       "    </tr>\n",
       "    <tr>\n",
       "      <th>1</th>\n",
       "      <td>sulphates</td>\n",
       "      <td>0.109174</td>\n",
       "    </tr>\n",
       "    <tr>\n",
       "      <th>2</th>\n",
       "      <td>total sulfur dioxide</td>\n",
       "      <td>0.108414</td>\n",
       "    </tr>\n",
       "    <tr>\n",
       "      <th>3</th>\n",
       "      <td>volatile acidity</td>\n",
       "      <td>0.104218</td>\n",
       "    </tr>\n",
       "    <tr>\n",
       "      <th>4</th>\n",
       "      <td>density</td>\n",
       "      <td>0.093134</td>\n",
       "    </tr>\n",
       "    <tr>\n",
       "      <th>5</th>\n",
       "      <td>citric acid</td>\n",
       "      <td>0.078026</td>\n",
       "    </tr>\n",
       "    <tr>\n",
       "      <th>6</th>\n",
       "      <td>chlorides</td>\n",
       "      <td>0.077069</td>\n",
       "    </tr>\n",
       "    <tr>\n",
       "      <th>7</th>\n",
       "      <td>fixed acidity</td>\n",
       "      <td>0.076794</td>\n",
       "    </tr>\n",
       "    <tr>\n",
       "      <th>8</th>\n",
       "      <td>pH</td>\n",
       "      <td>0.070383</td>\n",
       "    </tr>\n",
       "    <tr>\n",
       "      <th>9</th>\n",
       "      <td>residual sugar</td>\n",
       "      <td>0.065735</td>\n",
       "    </tr>\n",
       "    <tr>\n",
       "      <th>10</th>\n",
       "      <td>free sulfur dioxide</td>\n",
       "      <td>0.061389</td>\n",
       "    </tr>\n",
       "  </tbody>\n",
       "</table>\n",
       "</div>"
      ],
      "text/plain": [
       "                 feature importance\n",
       "0                alcohol   0.155665\n",
       "1              sulphates   0.109174\n",
       "2   total sulfur dioxide   0.108414\n",
       "3       volatile acidity   0.104218\n",
       "4                density   0.093134\n",
       "5            citric acid   0.078026\n",
       "6              chlorides   0.077069\n",
       "7          fixed acidity   0.076794\n",
       "8                     pH   0.070383\n",
       "9         residual sugar   0.065735\n",
       "10   free sulfur dioxide   0.061389"
      ]
     },
     "execution_count": 154,
     "metadata": {},
     "output_type": "execute_result"
    }
   ],
   "source": [
    "features.sort_values(by='importance', ascending=False, inplace=True)\n",
    "features.reset_index(drop=True, inplace=True)\n",
    "features"
   ]
  },
  {
   "cell_type": "code",
   "execution_count": 155,
   "id": "3e7a79e6",
   "metadata": {},
   "outputs": [
    {
     "data": {
      "image/png": "[encoded data removed]",
      "text/plain": [
       "<Figure size 864x576 with 1 Axes>"
      ]
     },
     "metadata": {
      "needs_background": "light"
     },
     "output_type": "display_data"
    }
   ],
   "source": [
    "plt.figure(figsize=(12,8))\n",
    "plt.bar(features.feature, features.importance)\n",
    "plt.xticks(features.feature, fontsize=12, rotation=45)\n",
    "plt.show()"
   ]
  },
  {
   "cell_type": "code",
   "execution_count": 156,
   "id": "9ffd2a7d",
   "metadata": {},
   "outputs": [
    {
     "data": {
      "image/png": "[encoded data removed]",
      "text/plain": [
       "<Figure size 864x576 with 1 Axes>"
      ]
     },
     "metadata": {
      "needs_background": "light"
     },
     "output_type": "display_data"
    }
   ],
   "source": [
    "y_stack = np.cumsum(features.importance, axis=0)\n",
    "plt.figure(figsize=(12,8))\n",
    "plt.bar(features.feature, y_stack)\n",
    "plt.xticks(features.feature, fontsize=12, rotation=45)\n",
    "plt.show()"
   ]
  },
  {
   "cell_type": "markdown",
   "id": "989dc097",
   "metadata": {},
   "source": [
    "#### RFE(Recursive Feature Elimination)으로 변수 찾기"
   ]
  },
  {
   "cell_type": "code",
   "execution_count": 157,
   "id": "c6805863",
   "metadata": {},
   "outputs": [],
   "source": [
    "from sklearn.ensemble import RandomForestClassifier\n",
    "from sklearn.feature_selection import RFE"
   ]
  },
  {
   "cell_type": "code",
   "execution_count": 158,
   "id": "6ab4e130",
   "metadata": {},
   "outputs": [
    {
     "data": {
      "text/plain": [
       "RFE(estimator=RandomForestClassifier(n_estimators=10, random_state=10),\n",
       "    n_features_to_select=5)"
      ]
     },
     "execution_count": 158,
     "metadata": {},
     "output_type": "execute_result"
    }
   ],
   "source": [
    "rf_model = RandomForestClassifier(n_estimators=10, random_state=10)\n",
    "rfe_model = RFE(rf_model, n_features_to_select =5)\n",
    "rfe_model.fit(train_X, train_y)"
   ]
  },
  {
   "cell_type": "code",
   "execution_count": 159,
   "id": "f5bc00ff",
   "metadata": {},
   "outputs": [
    {
     "data": {
      "text/plain": [
       "array([False,  True, False, False, False, False,  True, False,  True,\n",
       "        True,  True])"
      ]
     },
     "execution_count": 159,
     "metadata": {},
     "output_type": "execute_result"
    }
   ],
   "source": [
    "rfe_model.get_support()"
   ]
  },
  {
   "cell_type": "code",
   "execution_count": 160,
   "id": "95181764",
   "metadata": {},
   "outputs": [
    {
     "data": {
      "text/html": [
       "<div>\n",
       "<style scoped>\n",
       "    .dataframe tbody tr th:only-of-type {\n",
       "        vertical-align: middle;\n",
       "    }\n",
       "\n",
       "    .dataframe tbody tr th {\n",
       "        vertical-align: top;\n",
       "    }\n",
       "\n",
       "    .dataframe thead th {\n",
       "        text-align: right;\n",
       "    }\n",
       "</style>\n",
       "<table border=\"1\" class=\"dataframe\">\n",
       "  <thead>\n",
       "    <tr style=\"text-align: right;\">\n",
       "      <th></th>\n",
       "      <th>feature</th>\n",
       "      <th>selected</th>\n",
       "    </tr>\n",
       "  </thead>\n",
       "  <tbody>\n",
       "    <tr>\n",
       "      <th>1</th>\n",
       "      <td>volatile acidity</td>\n",
       "      <td>True</td>\n",
       "    </tr>\n",
       "    <tr>\n",
       "      <th>6</th>\n",
       "      <td>total sulfur dioxide</td>\n",
       "      <td>True</td>\n",
       "    </tr>\n",
       "    <tr>\n",
       "      <th>8</th>\n",
       "      <td>pH</td>\n",
       "      <td>True</td>\n",
       "    </tr>\n",
       "    <tr>\n",
       "      <th>9</th>\n",
       "      <td>sulphates</td>\n",
       "      <td>True</td>\n",
       "    </tr>\n",
       "    <tr>\n",
       "      <th>10</th>\n",
       "      <td>alcohol</td>\n",
       "      <td>True</td>\n",
       "    </tr>\n",
       "    <tr>\n",
       "      <th>0</th>\n",
       "      <td>fixed acidity</td>\n",
       "      <td>False</td>\n",
       "    </tr>\n",
       "    <tr>\n",
       "      <th>2</th>\n",
       "      <td>citric acid</td>\n",
       "      <td>False</td>\n",
       "    </tr>\n",
       "    <tr>\n",
       "      <th>3</th>\n",
       "      <td>residual sugar</td>\n",
       "      <td>False</td>\n",
       "    </tr>\n",
       "    <tr>\n",
       "      <th>4</th>\n",
       "      <td>chlorides</td>\n",
       "      <td>False</td>\n",
       "    </tr>\n",
       "    <tr>\n",
       "      <th>5</th>\n",
       "      <td>free sulfur dioxide</td>\n",
       "      <td>False</td>\n",
       "    </tr>\n",
       "    <tr>\n",
       "      <th>7</th>\n",
       "      <td>density</td>\n",
       "      <td>False</td>\n",
       "    </tr>\n",
       "  </tbody>\n",
       "</table>\n",
       "</div>"
      ],
      "text/plain": [
       "                 feature selected\n",
       "1       volatile acidity     True\n",
       "6   total sulfur dioxide     True\n",
       "8                     pH     True\n",
       "9              sulphates     True\n",
       "10               alcohol     True\n",
       "0          fixed acidity    False\n",
       "2            citric acid    False\n",
       "3         residual sugar    False\n",
       "4              chlorides    False\n",
       "5    free sulfur dioxide    False\n",
       "7                density    False"
      ]
     },
     "execution_count": 160,
     "metadata": {},
     "output_type": "execute_result"
    }
   ],
   "source": [
    "import numpy as np\n",
    "import pandas as pd\n",
    "features_rfe = pd.DataFrame(data=np.c_[X.columns.values,\n",
    "                                      rfe_model.get_support()],\n",
    "                           columns=['feature', 'selected'])\n",
    "features_rfe.sort_values(by='selected', ascending=False)"
   ]
  },
  {
   "cell_type": "code",
   "execution_count": 161,
   "id": "07e94f16",
   "metadata": {},
   "outputs": [
    {
     "data": {
      "text/html": [
       "<div>\n",
       "<style scoped>\n",
       "    .dataframe tbody tr th:only-of-type {\n",
       "        vertical-align: middle;\n",
       "    }\n",
       "\n",
       "    .dataframe tbody tr th {\n",
       "        vertical-align: top;\n",
       "    }\n",
       "\n",
       "    .dataframe thead th {\n",
       "        text-align: right;\n",
       "    }\n",
       "</style>\n",
       "<table border=\"1\" class=\"dataframe\">\n",
       "  <thead>\n",
       "    <tr style=\"text-align: right;\">\n",
       "      <th></th>\n",
       "      <th>feature</th>\n",
       "      <th>importance</th>\n",
       "      <th>selected</th>\n",
       "    </tr>\n",
       "  </thead>\n",
       "  <tbody>\n",
       "    <tr>\n",
       "      <th>0</th>\n",
       "      <td>alcohol</td>\n",
       "      <td>0.155665</td>\n",
       "      <td>True</td>\n",
       "    </tr>\n",
       "    <tr>\n",
       "      <th>1</th>\n",
       "      <td>sulphates</td>\n",
       "      <td>0.109174</td>\n",
       "      <td>True</td>\n",
       "    </tr>\n",
       "    <tr>\n",
       "      <th>2</th>\n",
       "      <td>total sulfur dioxide</td>\n",
       "      <td>0.108414</td>\n",
       "      <td>True</td>\n",
       "    </tr>\n",
       "    <tr>\n",
       "      <th>3</th>\n",
       "      <td>volatile acidity</td>\n",
       "      <td>0.104218</td>\n",
       "      <td>True</td>\n",
       "    </tr>\n",
       "    <tr>\n",
       "      <th>4</th>\n",
       "      <td>density</td>\n",
       "      <td>0.093134</td>\n",
       "      <td>False</td>\n",
       "    </tr>\n",
       "    <tr>\n",
       "      <th>5</th>\n",
       "      <td>citric acid</td>\n",
       "      <td>0.078026</td>\n",
       "      <td>False</td>\n",
       "    </tr>\n",
       "    <tr>\n",
       "      <th>6</th>\n",
       "      <td>chlorides</td>\n",
       "      <td>0.077069</td>\n",
       "      <td>False</td>\n",
       "    </tr>\n",
       "    <tr>\n",
       "      <th>7</th>\n",
       "      <td>fixed acidity</td>\n",
       "      <td>0.076794</td>\n",
       "      <td>False</td>\n",
       "    </tr>\n",
       "    <tr>\n",
       "      <th>8</th>\n",
       "      <td>pH</td>\n",
       "      <td>0.070383</td>\n",
       "      <td>True</td>\n",
       "    </tr>\n",
       "    <tr>\n",
       "      <th>9</th>\n",
       "      <td>residual sugar</td>\n",
       "      <td>0.065735</td>\n",
       "      <td>False</td>\n",
       "    </tr>\n",
       "    <tr>\n",
       "      <th>10</th>\n",
       "      <td>free sulfur dioxide</td>\n",
       "      <td>0.061389</td>\n",
       "      <td>False</td>\n",
       "    </tr>\n",
       "  </tbody>\n",
       "</table>\n",
       "</div>"
      ],
      "text/plain": [
       "                 feature importance selected\n",
       "0                alcohol   0.155665     True\n",
       "1              sulphates   0.109174     True\n",
       "2   total sulfur dioxide   0.108414     True\n",
       "3       volatile acidity   0.104218     True\n",
       "4                density   0.093134    False\n",
       "5            citric acid   0.078026    False\n",
       "6              chlorides   0.077069    False\n",
       "7          fixed acidity   0.076794    False\n",
       "8                     pH   0.070383     True\n",
       "9         residual sugar   0.065735    False\n",
       "10   free sulfur dioxide   0.061389    False"
      ]
     },
     "execution_count": 161,
     "metadata": {},
     "output_type": "execute_result"
    }
   ],
   "source": [
    "features.merge(features_rfe)"
   ]
  },
  {
   "cell_type": "markdown",
   "id": "ae6d8378",
   "metadata": {},
   "source": [
    "#### 학습된 모델 저장해놓기 "
   ]
  },
  {
   "cell_type": "code",
   "execution_count": 162,
   "id": "f766a32a",
   "metadata": {},
   "outputs": [],
   "source": [
    "import pickle\n",
    "with open('rfe.model', 'wb') as f:\n",
    "    pickle.dump(rfe_model,f)"
   ]
  },
  {
   "cell_type": "code",
   "execution_count": 163,
   "id": "f08441cc",
   "metadata": {},
   "outputs": [],
   "source": [
    "with open('rfe.model','rb') as f:\n",
    "    rfe_model = pickle.load(f)"
   ]
  },
  {
   "cell_type": "code",
   "execution_count": 164,
   "id": "73a2f873",
   "metadata": {},
   "outputs": [
    {
     "data": {
      "text/plain": [
       "array([5, 6, 8, 6, 6, 6, 6, 5, 5, 6], dtype=int64)"
      ]
     },
     "execution_count": 164,
     "metadata": {},
     "output_type": "execute_result"
    }
   ],
   "source": [
    "rfe_model.predict(test_X[:10])"
   ]
  },
  {
   "cell_type": "code",
   "execution_count": 165,
   "id": "74c51327",
   "metadata": {},
   "outputs": [
    {
     "data": {
      "text/plain": [
       "array([5, 6, 6, 6, 6, 6, 6, 5, 5, 5], dtype=int64)"
      ]
     },
     "execution_count": 165,
     "metadata": {},
     "output_type": "execute_result"
    }
   ],
   "source": [
    "test_y[:10].values"
   ]
  },
  {
   "cell_type": "markdown",
   "id": "e5efca21",
   "metadata": {},
   "source": [
    "#### 회귀모형의 변수 선택"
   ]
  },
  {
   "cell_type": "code",
   "execution_count": 166,
   "id": "172c5e24",
   "metadata": {},
   "outputs": [],
   "source": [
    "from sklearn.datasets import load_boston\n",
    "boston = load_boston()\n",
    "X = boston.data\n",
    "y = boston.target"
   ]
  },
  {
   "cell_type": "code",
   "execution_count": 167,
   "id": "650276ab",
   "metadata": {},
   "outputs": [],
   "source": [
    "from sklearn.model_selection import train_test_split\n",
    "train_X, test_X, train_y, test_y = train_test_split(X,y,test_size=0.3,\n",
    "                                                   random_state=1)"
   ]
  },
  {
   "cell_type": "code",
   "execution_count": 168,
   "id": "f52065fe",
   "metadata": {},
   "outputs": [],
   "source": [
    "from sklearn.preprocessing import MinMaxScaler\n",
    "scaler = MinMaxScaler()\n",
    "scaler.fit(train_X)\n",
    "train_X_scaled = scaler.transform(train_X)\n",
    "test_X_scaled = scaler.transform(test_X)"
   ]
  },
  {
   "cell_type": "code",
   "execution_count": 169,
   "id": "f546aacb",
   "metadata": {},
   "outputs": [
    {
     "data": {
      "text/plain": [
       "LinearRegression()"
      ]
     },
     "execution_count": 169,
     "metadata": {},
     "output_type": "execute_result"
    }
   ],
   "source": [
    "from sklearn.linear_model import LinearRegression\n",
    "lr = LinearRegression()\n",
    "lr.fit(train_X_scaled, train_y)"
   ]
  },
  {
   "cell_type": "code",
   "execution_count": 174,
   "id": "367a33d3",
   "metadata": {},
   "outputs": [
    {
     "data": {
      "text/plain": [
       "(13,)"
      ]
     },
     "execution_count": 174,
     "metadata": {},
     "output_type": "execute_result"
    }
   ],
   "source": [
    "lr.coef_.shape"
   ]
  },
  {
   "cell_type": "code",
   "execution_count": 173,
   "id": "96759725",
   "metadata": {},
   "outputs": [
    {
     "data": {
      "text/plain": [
       "(13,)"
      ]
     },
     "execution_count": 173,
     "metadata": {},
     "output_type": "execute_result"
    }
   ],
   "source": [
    "boston.feature_names.shape"
   ]
  },
  {
   "cell_type": "code",
   "execution_count": 177,
   "id": "071cc48c",
   "metadata": {},
   "outputs": [],
   "source": [
    "import pandas as pd\n",
    "import numpy as np\n",
    "features = pd.DataFrame(np.c_[boston.feature_names, lr.coef_],\n",
    "columns = ['feature', 'coef'])"
   ]
  },
  {
   "cell_type": "code",
   "execution_count": 178,
   "id": "6cc098b6",
   "metadata": {},
   "outputs": [],
   "source": [
    "features['coef']=features['coef'].astype(float)"
   ]
  },
  {
   "cell_type": "code",
   "execution_count": 179,
   "id": "a7154bbb",
   "metadata": {},
   "outputs": [
    {
     "data": {
      "text/html": [
       "<div>\n",
       "<style scoped>\n",
       "    .dataframe tbody tr th:only-of-type {\n",
       "        vertical-align: middle;\n",
       "    }\n",
       "\n",
       "    .dataframe tbody tr th {\n",
       "        vertical-align: top;\n",
       "    }\n",
       "\n",
       "    .dataframe thead th {\n",
       "        text-align: right;\n",
       "    }\n",
       "</style>\n",
       "<table border=\"1\" class=\"dataframe\">\n",
       "  <thead>\n",
       "    <tr style=\"text-align: right;\">\n",
       "      <th></th>\n",
       "      <th>feature</th>\n",
       "      <th>coef</th>\n",
       "    </tr>\n",
       "  </thead>\n",
       "  <tbody>\n",
       "    <tr>\n",
       "      <th>5</th>\n",
       "      <td>RM</td>\n",
       "      <td>14.591353</td>\n",
       "    </tr>\n",
       "    <tr>\n",
       "      <th>8</th>\n",
       "      <td>RAD</td>\n",
       "      <td>7.073460</td>\n",
       "    </tr>\n",
       "    <tr>\n",
       "      <th>1</th>\n",
       "      <td>ZN</td>\n",
       "      <td>6.078411</td>\n",
       "    </tr>\n",
       "    <tr>\n",
       "      <th>11</th>\n",
       "      <td>B</td>\n",
       "      <td>2.558014</td>\n",
       "    </tr>\n",
       "    <tr>\n",
       "      <th>3</th>\n",
       "      <td>CHAS</td>\n",
       "      <td>2.439560</td>\n",
       "    </tr>\n",
       "    <tr>\n",
       "      <th>2</th>\n",
       "      <td>INDUS</td>\n",
       "      <td>1.614200</td>\n",
       "    </tr>\n",
       "    <tr>\n",
       "      <th>6</th>\n",
       "      <td>AGE</td>\n",
       "      <td>0.336012</td>\n",
       "    </tr>\n",
       "    <tr>\n",
       "      <th>9</th>\n",
       "      <td>TAX</td>\n",
       "      <td>-5.910729</td>\n",
       "    </tr>\n",
       "    <tr>\n",
       "      <th>0</th>\n",
       "      <td>CRIM</td>\n",
       "      <td>-7.245609</td>\n",
       "    </tr>\n",
       "    <tr>\n",
       "      <th>10</th>\n",
       "      <td>PTRATIO</td>\n",
       "      <td>-9.451384</td>\n",
       "    </tr>\n",
       "    <tr>\n",
       "      <th>4</th>\n",
       "      <td>NOX</td>\n",
       "      <td>-10.434403</td>\n",
       "    </tr>\n",
       "    <tr>\n",
       "      <th>7</th>\n",
       "      <td>DIS</td>\n",
       "      <td>-16.674294</td>\n",
       "    </tr>\n",
       "    <tr>\n",
       "      <th>12</th>\n",
       "      <td>LSTAT</td>\n",
       "      <td>-20.614564</td>\n",
       "    </tr>\n",
       "  </tbody>\n",
       "</table>\n",
       "</div>"
      ],
      "text/plain": [
       "    feature       coef\n",
       "5        RM  14.591353\n",
       "8       RAD   7.073460\n",
       "1        ZN   6.078411\n",
       "11        B   2.558014\n",
       "3      CHAS   2.439560\n",
       "2     INDUS   1.614200\n",
       "6       AGE   0.336012\n",
       "9       TAX  -5.910729\n",
       "0      CRIM  -7.245609\n",
       "10  PTRATIO  -9.451384\n",
       "4       NOX -10.434403\n",
       "7       DIS -16.674294\n",
       "12    LSTAT -20.614564"
      ]
     },
     "execution_count": 179,
     "metadata": {},
     "output_type": "execute_result"
    }
   ],
   "source": [
    "features.sort_values('coef', ascending=False, inplace=True)\n",
    "features"
   ]
  },
  {
   "cell_type": "markdown",
   "id": "b72956a9",
   "metadata": {},
   "source": [
    "#### SelectKBest로 변수 선택"
   ]
  },
  {
   "cell_type": "code",
   "execution_count": 182,
   "id": "447e5fc5",
   "metadata": {},
   "outputs": [
    {
     "data": {
      "text/plain": [
       "(150, 4)"
      ]
     },
     "execution_count": 182,
     "metadata": {},
     "output_type": "execute_result"
    }
   ],
   "source": [
    "from sklearn.datasets import load_iris\n",
    "from sklearn.feature_selection import SelectKBest, chi2\n",
    "X, y = load_iris(return_X_y=True)\n",
    "X.shape"
   ]
  },
  {
   "cell_type": "code",
   "execution_count": 184,
   "id": "c54a2d37",
   "metadata": {},
   "outputs": [
    {
     "data": {
      "text/plain": [
       "(150, 1)"
      ]
     },
     "execution_count": 184,
     "metadata": {},
     "output_type": "execute_result"
    }
   ],
   "source": [
    "X_new = SelectKBest(chi2, k=1).fit_transform(X, y)\n",
    "X_new.shape"
   ]
  },
  {
   "cell_type": "code",
   "execution_count": 185,
   "id": "0d7ce39d",
   "metadata": {},
   "outputs": [],
   "source": [
    "from sklearn.datasets import load_digits\n",
    "from sklearn.feature_selection import SelectKBest, chi2"
   ]
  },
  {
   "cell_type": "code",
   "execution_count": 186,
   "id": "a75a08c2",
   "metadata": {},
   "outputs": [
    {
     "data": {
      "text/plain": [
       "(1797, 64)"
      ]
     },
     "execution_count": 186,
     "metadata": {},
     "output_type": "execute_result"
    }
   ],
   "source": [
    "X, y = load_digits(return_X_y=True)\n",
    "X.shape"
   ]
  },
  {
   "cell_type": "code",
   "execution_count": 187,
   "id": "6e512ead",
   "metadata": {},
   "outputs": [
    {
     "data": {
      "text/plain": [
       "(1797, 20)"
      ]
     },
     "execution_count": 187,
     "metadata": {},
     "output_type": "execute_result"
    }
   ],
   "source": [
    "X_new = SelectKBest(chi2, k=20).fit_transform(X, y)\n",
    "X_new.shape"
   ]
  },
  {
   "cell_type": "markdown",
   "id": "fba2f633",
   "metadata": {},
   "source": [
    "## 평균값 인코딩의 과적합 해결"
   ]
  },
  {
   "cell_type": "markdown",
   "id": "79977831",
   "metadata": {},
   "source": [
    "### Smoothing"
   ]
  },
  {
   "cell_type": "code",
   "execution_count": 190,
   "id": "f21b1e35",
   "metadata": {},
   "outputs": [],
   "source": [
    "import seaborn as sns\n",
    "titanic = sns.load_dataset('titanic')\n",
    "sex_mean = titanic.groupby('sex')['survived'].mean()\n",
    "titanic['sex_mean'] = titanic['sex'].map(sex_mean)"
   ]
  },
  {
   "cell_type": "code",
   "execution_count": 191,
   "id": "145f87b9",
   "metadata": {},
   "outputs": [],
   "source": [
    "titanic['sex_n_rows'] = titanic['sex'].map(titanic.groupby('sex').size())\n",
    "global_mean = titanic['survived'].mean()\n",
    "alpha=0.7"
   ]
  },
  {
   "cell_type": "code",
   "execution_count": 192,
   "id": "70e4455f",
   "metadata": {},
   "outputs": [],
   "source": [
    "def smoothing(n_rows, target_mean):\n",
    "    return (target_mean*n_rows + global_mean*alpha)/ (n_rows + alpha)"
   ]
  },
  {
   "cell_type": "code",
   "execution_count": 194,
   "id": "44448062",
   "metadata": {},
   "outputs": [],
   "source": [
    "titanic['sex_mean_smoothing'] = titanic.apply(\n",
    "lambda x:smoothing(x['sex_n_rows'], x['sex_mean']),axis=1)"
   ]
  },
  {
   "cell_type": "code",
   "execution_count": 195,
   "id": "dcf6b3f3",
   "metadata": {},
   "outputs": [
    {
     "data": {
      "text/html": [
       "<div>\n",
       "<style scoped>\n",
       "    .dataframe tbody tr th:only-of-type {\n",
       "        vertical-align: middle;\n",
       "    }\n",
       "\n",
       "    .dataframe tbody tr th {\n",
       "        vertical-align: top;\n",
       "    }\n",
       "\n",
       "    .dataframe thead th {\n",
       "        text-align: right;\n",
       "    }\n",
       "</style>\n",
       "<table border=\"1\" class=\"dataframe\">\n",
       "  <thead>\n",
       "    <tr style=\"text-align: right;\">\n",
       "      <th></th>\n",
       "      <th>sex_mean</th>\n",
       "      <th>sex_mean_smoothing</th>\n",
       "    </tr>\n",
       "  </thead>\n",
       "  <tbody>\n",
       "    <tr>\n",
       "      <th>0</th>\n",
       "      <td>0.188908</td>\n",
       "      <td>0.189144</td>\n",
       "    </tr>\n",
       "    <tr>\n",
       "      <th>1</th>\n",
       "      <td>0.742038</td>\n",
       "      <td>0.741241</td>\n",
       "    </tr>\n",
       "    <tr>\n",
       "      <th>2</th>\n",
       "      <td>0.742038</td>\n",
       "      <td>0.741241</td>\n",
       "    </tr>\n",
       "    <tr>\n",
       "      <th>3</th>\n",
       "      <td>0.742038</td>\n",
       "      <td>0.741241</td>\n",
       "    </tr>\n",
       "    <tr>\n",
       "      <th>4</th>\n",
       "      <td>0.188908</td>\n",
       "      <td>0.189144</td>\n",
       "    </tr>\n",
       "  </tbody>\n",
       "</table>\n",
       "</div>"
      ],
      "text/plain": [
       "   sex_mean  sex_mean_smoothing\n",
       "0  0.188908            0.189144\n",
       "1  0.742038            0.741241\n",
       "2  0.742038            0.741241\n",
       "3  0.742038            0.741241\n",
       "4  0.188908            0.189144"
      ]
     },
     "execution_count": 195,
     "metadata": {},
     "output_type": "execute_result"
    }
   ],
   "source": [
    "titanic[['sex_mean', 'sex_mean_smoothing']].head()"
   ]
  },
  {
   "cell_type": "markdown",
   "id": "c0d0086a",
   "metadata": {},
   "source": [
    "### CV LOOP"
   ]
  },
  {
   "cell_type": "code",
   "execution_count": 196,
   "id": "c3436de0",
   "metadata": {},
   "outputs": [],
   "source": [
    "from sklearn.model_selection import train_test_split\n",
    "import numpy as np\n",
    "\n",
    "train, test = train_test_split(titanic, test_size=0.2,\n",
    "                              random_state=42, shuffle=True)\n",
    "\n",
    "train_new = train.copy()\n",
    "train_new[:] = np.nan\n",
    "train_new['sex_mean'] = np.nan\n",
    "from sklearn.model_selection import StratifiedKFold"
   ]
  },
  {
   "cell_type": "code",
   "execution_count": 197,
   "id": "b01e609d",
   "metadata": {},
   "outputs": [],
   "source": [
    "train_X = train.drop('survived', axis=1)\n",
    "train_y = train['survived']\n",
    "skf = StratifiedKFold(n_splits=5, shuffle=True, random_state=42)"
   ]
  },
  {
   "cell_type": "code",
   "execution_count": 198,
   "id": "e9b3d8eb",
   "metadata": {},
   "outputs": [
    {
     "name": "stderr",
     "output_type": "stream",
     "text": [
      "<ipython-input-198-233c62842b3d>:5: SettingWithCopyWarning: \n",
      "A value is trying to be set on a copy of a slice from a DataFrame.\n",
      "Try using .loc[row_indexer,col_indexer] = value instead\n",
      "\n",
      "See the caveats in the documentation: https://pandas.pydata.org/pandas-docs/stable/user_guide/indexing.html#returning-a-view-versus-a-copy\n",
      "  X_val['sex_mean'] = means\n"
     ]
    },
    {
     "data": {
      "text/html": [
       "<div>\n",
       "<style scoped>\n",
       "    .dataframe tbody tr th:only-of-type {\n",
       "        vertical-align: middle;\n",
       "    }\n",
       "\n",
       "    .dataframe tbody tr th {\n",
       "        vertical-align: top;\n",
       "    }\n",
       "\n",
       "    .dataframe thead th {\n",
       "        text-align: right;\n",
       "    }\n",
       "</style>\n",
       "<table border=\"1\" class=\"dataframe\">\n",
       "  <thead>\n",
       "    <tr style=\"text-align: right;\">\n",
       "      <th></th>\n",
       "      <th>sex</th>\n",
       "      <th>sex_mean</th>\n",
       "    </tr>\n",
       "  </thead>\n",
       "  <tbody>\n",
       "    <tr>\n",
       "      <th>331</th>\n",
       "      <td>male</td>\n",
       "      <td>0.184987</td>\n",
       "    </tr>\n",
       "    <tr>\n",
       "      <th>733</th>\n",
       "      <td>male</td>\n",
       "      <td>0.193029</td>\n",
       "    </tr>\n",
       "    <tr>\n",
       "      <th>382</th>\n",
       "      <td>male</td>\n",
       "      <td>0.177419</td>\n",
       "    </tr>\n",
       "    <tr>\n",
       "      <th>704</th>\n",
       "      <td>male</td>\n",
       "      <td>0.184000</td>\n",
       "    </tr>\n",
       "    <tr>\n",
       "      <th>813</th>\n",
       "      <td>female</td>\n",
       "      <td>0.751269</td>\n",
       "    </tr>\n",
       "  </tbody>\n",
       "</table>\n",
       "</div>"
      ],
      "text/plain": [
       "        sex  sex_mean\n",
       "331    male  0.184987\n",
       "733    male  0.193029\n",
       "382    male  0.177419\n",
       "704    male  0.184000\n",
       "813  female  0.751269"
      ]
     },
     "execution_count": 198,
     "metadata": {},
     "output_type": "execute_result"
    }
   ],
   "source": [
    "for tr_idx, val_idx in skf.split(train_X, train_y):\n",
    "    train_X, X_val = train.iloc[tr_idx], train.iloc[val_idx]\n",
    "    \n",
    "    means = X_val['sex'].map(train_X.groupby('sex')['survived'].mean())\n",
    "    X_val['sex_mean'] = means\n",
    "    train_new.iloc[val_idx] = X_val\n",
    "    \n",
    "global_mean = train['survived'].mean()\n",
    "train_new['sex'] = train_new['sex'].fillna(global_mean)\n",
    "train_new[['sex','sex_mean']].head()"
   ]
  },
  {
   "cell_type": "code",
   "execution_count": 199,
   "id": "01561636",
   "metadata": {},
   "outputs": [
    {
     "data": {
      "text/plain": [
       "array([[<AxesSubplot:title={'center':'0.0'}>,\n",
       "        <AxesSubplot:title={'center':'1.0'}>]], dtype=object)"
      ]
     },
     "execution_count": 199,
     "metadata": {},
     "output_type": "execute_result"
    },
    {
     "data": {
      "image/png": "[encoded data removed]",
      "text/plain": [
       "<Figure size 432x288 with 2 Axes>"
      ]
     },
     "metadata": {
      "needs_background": "light"
     },
     "output_type": "display_data"
    }
   ],
   "source": [
    "train_new.pivot_table(columns=\"survived\",\n",
    "index=train_new.index,\n",
    "values='sex_mean').hist(bins=100)"
   ]
  },
  {
   "cell_type": "markdown",
   "id": "586b7433",
   "metadata": {},
   "source": [
    "### Expanding mean"
   ]
  },
  {
   "cell_type": "code",
   "execution_count": 201,
   "id": "3dec2175",
   "metadata": {},
   "outputs": [],
   "source": [
    "cumsum = train.groupby('sex')['survived'].cumsum() - train['survived']\n",
    "cumcnt = train.groupby('sex').cumcount() + 1\n",
    "train_new['sex_mean'] = cumsum/ cumcnt"
   ]
  },
  {
   "cell_type": "code",
   "execution_count": 203,
   "id": "82d1ac43",
   "metadata": {},
   "outputs": [
    {
     "data": {
      "text/html": [
       "<div>\n",
       "<style scoped>\n",
       "    .dataframe tbody tr th:only-of-type {\n",
       "        vertical-align: middle;\n",
       "    }\n",
       "\n",
       "    .dataframe tbody tr th {\n",
       "        vertical-align: top;\n",
       "    }\n",
       "\n",
       "    .dataframe thead th {\n",
       "        text-align: right;\n",
       "    }\n",
       "</style>\n",
       "<table border=\"1\" class=\"dataframe\">\n",
       "  <thead>\n",
       "    <tr style=\"text-align: right;\">\n",
       "      <th></th>\n",
       "      <th>sex</th>\n",
       "      <th>sex_mean</th>\n",
       "    </tr>\n",
       "  </thead>\n",
       "  <tbody>\n",
       "    <tr>\n",
       "      <th>106</th>\n",
       "      <td>female</td>\n",
       "      <td>0.733607</td>\n",
       "    </tr>\n",
       "    <tr>\n",
       "      <th>270</th>\n",
       "      <td>male</td>\n",
       "      <td>0.187097</td>\n",
       "    </tr>\n",
       "    <tr>\n",
       "      <th>860</th>\n",
       "      <td>male</td>\n",
       "      <td>0.186695</td>\n",
       "    </tr>\n",
       "    <tr>\n",
       "      <th>435</th>\n",
       "      <td>female</td>\n",
       "      <td>0.734694</td>\n",
       "    </tr>\n",
       "    <tr>\n",
       "      <th>102</th>\n",
       "      <td>male</td>\n",
       "      <td>0.186296</td>\n",
       "    </tr>\n",
       "  </tbody>\n",
       "</table>\n",
       "</div>"
      ],
      "text/plain": [
       "        sex  sex_mean\n",
       "106  female  0.733607\n",
       "270    male  0.187097\n",
       "860    male  0.186695\n",
       "435  female  0.734694\n",
       "102    male  0.186296"
      ]
     },
     "execution_count": 203,
     "metadata": {},
     "output_type": "execute_result"
    }
   ],
   "source": [
    "train_new[['sex', 'sex_mean']].tail()"
   ]
  },
  {
   "cell_type": "code",
   "execution_count": 205,
   "id": "f7cbb0ce",
   "metadata": {},
   "outputs": [
    {
     "data": {
      "text/plain": [
       "array([[<AxesSubplot:title={'center':'0.0'}>,\n",
       "        <AxesSubplot:title={'center':'1.0'}>]], dtype=object)"
      ]
     },
     "execution_count": 205,
     "metadata": {},
     "output_type": "execute_result"
    },
    {
     "data": {
      "image/png": "[encoded data removed]",
      "text/plain": [
       "<Figure size 432x288 with 2 Axes>"
      ]
     },
     "metadata": {
      "needs_background": "light"
     },
     "output_type": "display_data"
    }
   ],
   "source": [
    "train_new.pivot_table(columns='survived',\n",
    "                     index=train_new.index,\n",
    "                     values='sex_mean').hist(bins=100)"
   ]
  },
  {
   "cell_type": "markdown",
   "id": "42195c08",
   "metadata": {},
   "source": [
    "## 파라미터 탐색"
   ]
  },
  {
   "cell_type": "markdown",
   "id": "97fa2290",
   "metadata": {},
   "source": [
    "### validation_curve"
   ]
  },
  {
   "cell_type": "code",
   "execution_count": 206,
   "id": "40e094ac",
   "metadata": {},
   "outputs": [],
   "source": [
    "from sklearn.datasets import load_digits\n",
    "digits = load_digits()\n",
    "X, y = digits.data, digits.target"
   ]
  },
  {
   "cell_type": "code",
   "execution_count": 218,
   "id": "99f4835a",
   "metadata": {},
   "outputs": [
    {
     "ename": "TypeError",
     "evalue": "'str' object is not callable",
     "output_type": "error",
     "traceback": [
      "\u001b[1;31m---------------------------------------------------------------------------\u001b[0m",
      "\u001b[1;31mTypeError\u001b[0m                                 Traceback (most recent call last)",
      "\u001b[1;32m<ipython-input-218-aac79ee58055>\u001b[0m in \u001b[0;36m<module>\u001b[1;34m\u001b[0m\n\u001b[0;32m     10\u001b[0m         plt.imshow(digits.images[i+row*10], cmap=plt.cm.gray_r,\n\u001b[0;32m     11\u001b[0m                   interpolation='nearest')\n\u001b[1;32m---> 12\u001b[1;33m         \u001b[0mplt\u001b[0m\u001b[1;33m.\u001b[0m\u001b[0maxis\u001b[0m\u001b[1;33m(\u001b[0m\u001b[1;34m\"off\"\u001b[0m\u001b[1;33m)\u001b[0m\u001b[1;33m\u001b[0m\u001b[1;33m\u001b[0m\u001b[0m\n\u001b[0m\u001b[0;32m     13\u001b[0m     \u001b[0mplt\u001b[0m\u001b[1;33m.\u001b[0m\u001b[0mshow\u001b[0m\u001b[1;33m(\u001b[0m\u001b[1;33m)\u001b[0m\u001b[1;33m\u001b[0m\u001b[1;33m\u001b[0m\u001b[0m\n",
      "\u001b[1;31mTypeError\u001b[0m: 'str' object is not callable"
     ]
    },
    {
     "data": {
      "image/png": "[encoded data removed]",
      "text/plain": [
       "<Figure size 576x576 with 1 Axes>"
      ]
     },
     "metadata": {
      "needs_background": "light"
     },
     "output_type": "display_data"
    }
   ],
   "source": [
    "%matplotlib inline\n",
    "import matplotlib.pyplot as plt\n",
    "N = 30\n",
    "nrows=(N//10)\n",
    "\n",
    "for row in range(nrows):\n",
    "    plt.figure(figsize=(8,8))\n",
    "    for i in range(10):\n",
    "        plt.subplot(1,10,i+1)\n",
    "        plt.imshow(digits.images[i+row*10], cmap=plt.cm.gray_r,\n",
    "                  interpolation='nearest')\n",
    "        plt.axis(\"off\")\n",
    "    plt.show()"
   ]
  },
  {
   "cell_type": "code",
   "execution_count": 220,
   "id": "0633fecf",
   "metadata": {},
   "outputs": [
    {
     "data": {
      "text/plain": [
       "SVC()"
      ]
     },
     "execution_count": 220,
     "metadata": {},
     "output_type": "execute_result"
    }
   ],
   "source": [
    "from sklearn.svm import SVC\n",
    "model = SVC().fit(X,y)\n",
    "model"
   ]
  },
  {
   "cell_type": "code",
   "execution_count": 221,
   "id": "648810b5",
   "metadata": {},
   "outputs": [
    {
     "data": {
      "text/plain": [
       "0.996661101836394"
      ]
     },
     "execution_count": 221,
     "metadata": {},
     "output_type": "execute_result"
    }
   ],
   "source": [
    "model.score(X,y)"
   ]
  },
  {
   "cell_type": "code",
   "execution_count": 222,
   "id": "47dc6eb3",
   "metadata": {},
   "outputs": [
    {
     "data": {
      "text/plain": [
       "array([0.96111111, 0.94444444, 0.98328691, 0.98885794, 0.93871866])"
      ]
     },
     "execution_count": 222,
     "metadata": {},
     "output_type": "execute_result"
    }
   ],
   "source": [
    "from sklearn.model_selection import cross_val_score\n",
    "cross_val_score(model, X, y, cv=5)"
   ]
  },
  {
   "cell_type": "code",
   "execution_count": 223,
   "id": "9a0ae46b",
   "metadata": {},
   "outputs": [],
   "source": [
    "import numpy as np\n",
    "param_range = np.logspace(-6,-1,10)"
   ]
  },
  {
   "cell_type": "code",
   "execution_count": 224,
   "id": "697857dc",
   "metadata": {},
   "outputs": [
    {
     "name": "stdout",
     "output_type": "stream",
     "text": [
      "Wall time: 52 s\n"
     ]
    }
   ],
   "source": [
    "%%time\n",
    "from sklearn.svm import SVC\n",
    "from sklearn.model_selection import validation_curve\n",
    "train_scores, test_scores = validation_curve(\n",
    "SVC(), X, y, param_name='gamma', param_range=param_range,\n",
    "cv=10, scoring='accuracy', n_jobs=1)"
   ]
  },
  {
   "cell_type": "code",
   "execution_count": 225,
   "id": "b3bd6df4",
   "metadata": {},
   "outputs": [],
   "source": [
    "import numpy as np\n",
    "train_scores_mean = np.mean(train_scores, axis=1)\n",
    "train_scores_std = np.std(train_scores, axis=1)\n",
    "test_scores_mean = np.mean(test_scores, axis=1)\n",
    "test_scores_std = np.std(test_scores, axis=1)"
   ]
  },
  {
   "cell_type": "code",
   "execution_count": 226,
   "id": "eab9ac67",
   "metadata": {},
   "outputs": [
    {
     "data": {
      "image/png": "[encoded data removed]",
      "text/plain": [
       "<Figure size 432x288 with 1 Axes>"
      ]
     },
     "metadata": {
      "needs_background": "light"
     },
     "output_type": "display_data"
    }
   ],
   "source": [
    "import matplotlib.pyplot as plt\n",
    "\n",
    "plt.title('Validation Curve with SVM')\n",
    "plt.xlabel('$\\gamma')\n",
    "plt.ylabel('Score')\n",
    "plt.ylim(0.0,1.1)\n",
    "lw=2\n",
    "plt.semilogx(param_range, train_scores_mean, label= 'Training score',\n",
    "            color='darkorange', lw=lw)\n",
    "plt.fill_between(param_range, train_scores_mean - train_scores_std,\n",
    "train_scores_mean + train_scores_std, alpha=0.2,\n",
    "color=\"darkorange\", lw=lw)\n",
    "plt.semilogx(param_range, test_scores_mean, label=\"Cross-validation score\",\n",
    "color=\"navy\", lw=lw)\n",
    "plt.fill_between(param_range, test_scores_mean - test_scores_std,\n",
    "test_scores_mean + test_scores_std, alpha=0.2,\n",
    "color=\"navy\", lw=lw)\n",
    "plt.legend(loc=\"best\")\n",
    "plt.show()"
   ]
  },
  {
   "cell_type": "code",
   "execution_count": 227,
   "id": "30278770",
   "metadata": {},
   "outputs": [
    {
     "data": {
      "text/plain": [
       "SVC(gamma=0.0021544346900318843)"
      ]
     },
     "execution_count": 227,
     "metadata": {},
     "output_type": "execute_result"
    }
   ],
   "source": [
    "gamma = param_range[test_scores_mean.argmax()]\n",
    "from sklearn.svm import SVC\n",
    "model = SVC(gamma=gamma).fit(X, y)\n",
    "model"
   ]
  },
  {
   "cell_type": "code",
   "execution_count": 228,
   "id": "85e72659",
   "metadata": {},
   "outputs": [
    {
     "data": {
      "text/plain": [
       "1.0"
      ]
     },
     "execution_count": 228,
     "metadata": {},
     "output_type": "execute_result"
    }
   ],
   "source": [
    "model.score(X, y)"
   ]
  },
  {
   "cell_type": "code",
   "execution_count": 229,
   "id": "391b2b84",
   "metadata": {},
   "outputs": [
    {
     "data": {
      "text/plain": [
       "0.9655137728257506"
      ]
     },
     "execution_count": 229,
     "metadata": {},
     "output_type": "execute_result"
    }
   ],
   "source": [
    "from sklearn.model_selection import cross_val_score\n",
    "np.mean(cross_val_score(model, X, y, cv=5))"
   ]
  },
  {
   "cell_type": "code",
   "execution_count": 234,
   "id": "c674ae0c",
   "metadata": {},
   "outputs": [
    {
     "data": {
      "text/plain": [
       "((570, 18), (712,))"
      ]
     },
     "execution_count": 234,
     "metadata": {},
     "output_type": "execute_result"
    }
   ],
   "source": [
    "train_X.shape, train_y.shape"
   ]
  },
  {
   "cell_type": "markdown",
   "id": "9dbf1b53",
   "metadata": {},
   "source": [
    "### GridSearchCV"
   ]
  },
  {
   "cell_type": "code",
   "execution_count": 236,
   "id": "2615dd03",
   "metadata": {},
   "outputs": [],
   "source": [
    "from sklearn.pipeline import Pipeline\n",
    "from sklearn.model_selection import GridSearchCV\n",
    "from sklearn.svm import SVC\n",
    "from sklearn.feature_selection import SelectKBest\n",
    "\n",
    "import pandas as pd\n",
    "redwine = pd.read_csv('winequality-red.csv', sep=';')\n",
    "redwine_X, redwine_y = redwine.iloc[:,:-1], redwine.iloc[:,-1]"
   ]
  },
  {
   "cell_type": "code",
   "execution_count": 238,
   "id": "43bf1780",
   "metadata": {
    "scrolled": true
   },
   "outputs": [
    {
     "name": "stdout",
     "output_type": "stream",
     "text": [
      "Fitting 2 folds for each of 24 candidates, totalling 48 fits\n",
      "[CV 1/2; 1/24] START svm__C=0.1, univ_select__k=4...............................\n",
      "[CV 1/2; 1/24] END .............svm__C=0.1, univ_select__k=4; total time=   0.0s\n",
      "[CV 2/2; 1/24] START svm__C=0.1, univ_select__k=4...............................\n",
      "[CV 2/2; 1/24] END .............svm__C=0.1, univ_select__k=4; total time=   0.0s\n",
      "[CV 1/2; 2/24] START svm__C=0.1, univ_select__k=5...............................\n",
      "[CV 1/2; 2/24] END .............svm__C=0.1, univ_select__k=5; total time=   0.0s\n",
      "[CV 2/2; 2/24] START svm__C=0.1, univ_select__k=5...............................\n",
      "[CV 2/2; 2/24] END .............svm__C=0.1, univ_select__k=5; total time=   0.0s\n",
      "[CV 1/2; 3/24] START svm__C=0.1, univ_select__k=6...............................\n",
      "[CV 1/2; 3/24] END .............svm__C=0.1, univ_select__k=6; total time=   0.2s\n",
      "[CV 2/2; 3/24] START svm__C=0.1, univ_select__k=6...............................\n",
      "[CV 2/2; 3/24] END .............svm__C=0.1, univ_select__k=6; total time=   0.0s\n",
      "[CV 1/2; 4/24] START svm__C=0.1, univ_select__k=7...............................\n",
      "[CV 1/2; 4/24] END .............svm__C=0.1, univ_select__k=7; total time=   0.2s\n",
      "[CV 2/2; 4/24] START svm__C=0.1, univ_select__k=7...............................\n",
      "[CV 2/2; 4/24] END .............svm__C=0.1, univ_select__k=7; total time=   0.1s\n",
      "[CV 1/2; 5/24] START svm__C=0.1, univ_select__k=8...............................\n",
      "[CV 1/2; 5/24] END .............svm__C=0.1, univ_select__k=8; total time=   0.2s\n",
      "[CV 2/2; 5/24] START svm__C=0.1, univ_select__k=8...............................\n",
      "[CV 2/2; 5/24] END .............svm__C=0.1, univ_select__k=8; total time=   0.1s\n",
      "[CV 1/2; 6/24] START svm__C=0.1, univ_select__k=9...............................\n",
      "[CV 1/2; 6/24] END .............svm__C=0.1, univ_select__k=9; total time=   0.3s\n",
      "[CV 2/2; 6/24] START svm__C=0.1, univ_select__k=9...............................\n",
      "[CV 2/2; 6/24] END .............svm__C=0.1, univ_select__k=9; total time=   0.1s\n",
      "[CV 1/2; 7/24] START svm__C=0.1, univ_select__k=10..............................\n",
      "[CV 1/2; 7/24] END ............svm__C=0.1, univ_select__k=10; total time=   0.4s\n",
      "[CV 2/2; 7/24] START svm__C=0.1, univ_select__k=10..............................\n",
      "[CV 2/2; 7/24] END ............svm__C=0.1, univ_select__k=10; total time=   0.1s\n",
      "[CV 1/2; 8/24] START svm__C=0.1, univ_select__k=11..............................\n",
      "[CV 1/2; 8/24] END ............svm__C=0.1, univ_select__k=11; total time=   0.3s\n",
      "[CV 2/2; 8/24] START svm__C=0.1, univ_select__k=11..............................\n",
      "[CV 2/2; 8/24] END ............svm__C=0.1, univ_select__k=11; total time=   0.1s\n",
      "[CV 1/2; 9/24] START svm__C=1, univ_select__k=4.................................\n",
      "[CV 1/2; 9/24] END ...............svm__C=1, univ_select__k=4; total time=   0.0s\n",
      "[CV 2/2; 9/24] START svm__C=1, univ_select__k=4.................................\n",
      "[CV 2/2; 9/24] END ...............svm__C=1, univ_select__k=4; total time=   5.7s\n",
      "[CV 1/2; 10/24] START svm__C=1, univ_select__k=5................................\n",
      "[CV 1/2; 10/24] END ..............svm__C=1, univ_select__k=5; total time=   0.0s\n",
      "[CV 2/2; 10/24] START svm__C=1, univ_select__k=5................................\n",
      "[CV 2/2; 10/24] END ..............svm__C=1, univ_select__k=5; total time=   3.3s\n",
      "[CV 1/2; 11/24] START svm__C=1, univ_select__k=6................................\n",
      "[CV 1/2; 11/24] END ..............svm__C=1, univ_select__k=6; total time=   5.6s\n",
      "[CV 2/2; 11/24] START svm__C=1, univ_select__k=6................................\n",
      "[CV 2/2; 11/24] END ..............svm__C=1, univ_select__k=6; total time=   3.8s\n",
      "[CV 1/2; 12/24] START svm__C=1, univ_select__k=7................................\n",
      "[CV 1/2; 12/24] END ..............svm__C=1, univ_select__k=7; total time=   4.0s\n",
      "[CV 2/2; 12/24] START svm__C=1, univ_select__k=7................................\n",
      "[CV 2/2; 12/24] END ..............svm__C=1, univ_select__k=7; total time=   1.7s\n",
      "[CV 1/2; 13/24] START svm__C=1, univ_select__k=8................................\n",
      "[CV 1/2; 13/24] END ..............svm__C=1, univ_select__k=8; total time=   5.6s\n",
      "[CV 2/2; 13/24] START svm__C=1, univ_select__k=8................................\n",
      "[CV 2/2; 13/24] END ..............svm__C=1, univ_select__k=8; total time=   1.6s\n",
      "[CV 1/2; 14/24] START svm__C=1, univ_select__k=9................................\n",
      "[CV 1/2; 14/24] END ..............svm__C=1, univ_select__k=9; total time=   4.6s\n",
      "[CV 2/2; 14/24] START svm__C=1, univ_select__k=9................................\n",
      "[CV 2/2; 14/24] END ..............svm__C=1, univ_select__k=9; total time=   4.6s\n",
      "[CV 1/2; 15/24] START svm__C=1, univ_select__k=10...............................\n",
      "[CV 1/2; 15/24] END .............svm__C=1, univ_select__k=10; total time=   4.0s\n",
      "[CV 2/2; 15/24] START svm__C=1, univ_select__k=10...............................\n",
      "[CV 2/2; 15/24] END .............svm__C=1, univ_select__k=10; total time=   2.4s\n",
      "[CV 1/2; 16/24] START svm__C=1, univ_select__k=11...............................\n",
      "[CV 1/2; 16/24] END .............svm__C=1, univ_select__k=11; total time=   3.1s\n",
      "[CV 2/2; 16/24] START svm__C=1, univ_select__k=11...............................\n",
      "[CV 2/2; 16/24] END .............svm__C=1, univ_select__k=11; total time=   2.6s\n",
      "[CV 1/2; 17/24] START svm__C=10, univ_select__k=4...............................\n",
      "[CV 1/2; 17/24] END .............svm__C=10, univ_select__k=4; total time=   0.0s\n",
      "[CV 2/2; 17/24] START svm__C=10, univ_select__k=4...............................\n",
      "[CV 2/2; 17/24] END .............svm__C=10, univ_select__k=4; total time=  22.5s\n",
      "[CV 1/2; 18/24] START svm__C=10, univ_select__k=5...............................\n",
      "[CV 1/2; 18/24] END .............svm__C=10, univ_select__k=5; total time=   0.0s\n",
      "[CV 2/2; 18/24] START svm__C=10, univ_select__k=5...............................\n",
      "[CV 2/2; 18/24] END .............svm__C=10, univ_select__k=5; total time=  25.0s\n",
      "[CV 1/2; 19/24] START svm__C=10, univ_select__k=6...............................\n",
      "[CV 1/2; 19/24] END .............svm__C=10, univ_select__k=6; total time=  29.1s\n",
      "[CV 2/2; 19/24] START svm__C=10, univ_select__k=6...............................\n",
      "[CV 2/2; 19/24] END .............svm__C=10, univ_select__k=6; total time=  28.7s\n",
      "[CV 1/2; 20/24] START svm__C=10, univ_select__k=7...............................\n",
      "[CV 1/2; 20/24] END .............svm__C=10, univ_select__k=7; total time=  32.6s\n",
      "[CV 2/2; 20/24] START svm__C=10, univ_select__k=7...............................\n",
      "[CV 2/2; 20/24] END .............svm__C=10, univ_select__k=7; total time=  17.1s\n",
      "[CV 1/2; 21/24] START svm__C=10, univ_select__k=8...............................\n",
      "[CV 1/2; 21/24] END .............svm__C=10, univ_select__k=8; total time=  31.6s\n",
      "[CV 2/2; 21/24] START svm__C=10, univ_select__k=8...............................\n",
      "[CV 2/2; 21/24] END .............svm__C=10, univ_select__k=8; total time=  20.8s\n",
      "[CV 1/2; 22/24] START svm__C=10, univ_select__k=9...............................\n",
      "[CV 1/2; 22/24] END .............svm__C=10, univ_select__k=9; total time=  30.1s\n",
      "[CV 2/2; 22/24] START svm__C=10, univ_select__k=9...............................\n",
      "[CV 2/2; 22/24] END .............svm__C=10, univ_select__k=9; total time=  27.0s\n",
      "[CV 1/2; 23/24] START svm__C=10, univ_select__k=10..............................\n",
      "[CV 1/2; 23/24] END ............svm__C=10, univ_select__k=10; total time=  26.5s\n",
      "[CV 2/2; 23/24] START svm__C=10, univ_select__k=10..............................\n",
      "[CV 2/2; 23/24] END ............svm__C=10, univ_select__k=10; total time=  22.3s\n",
      "[CV 1/2; 24/24] START svm__C=10, univ_select__k=11..............................\n",
      "[CV 1/2; 24/24] END ............svm__C=10, univ_select__k=11; total time=  25.8s\n",
      "[CV 2/2; 24/24] START svm__C=10, univ_select__k=11..............................\n",
      "[CV 2/2; 24/24] END ............svm__C=10, univ_select__k=11; total time=  23.4s\n"
     ]
    },
    {
     "data": {
      "text/plain": [
       "GridSearchCV(cv=2,\n",
       "             estimator=Pipeline(steps=[('univ_select', SelectKBest(k=1)),\n",
       "                                       ('svm', SVC(kernel='linear'))]),\n",
       "             param_grid={'svm__C': [0.1, 1, 10],\n",
       "                         'univ_select__k': [4, 5, 6, 7, 8, 9, 10, 11]},\n",
       "             verbose=10)"
      ]
     },
     "execution_count": 238,
     "metadata": {},
     "output_type": "execute_result"
    }
   ],
   "source": [
    "selection = SelectKBest(k=1)\n",
    "svm = SVC(kernel='linear')\n",
    "pipeline=Pipeline([('univ_select', selection), ('svm', svm)])\n",
    "param_grid = dict(univ_select__k=[4,5,6,7,8,9,10,11],\n",
    "                 svm__C=[0.1,1,10])\n",
    "grid_search = GridSearchCV(pipeline, param_grid=param_grid,\n",
    "                          cv=2, verbose=10)\n",
    "grid_search.fit(redwine_X, redwine_y)"
   ]
  },
  {
   "cell_type": "code",
   "execution_count": 239,
   "id": "21220cb4",
   "metadata": {},
   "outputs": [
    {
     "name": "stdout",
     "output_type": "stream",
     "text": [
      "Pipeline(steps=[('univ_select', SelectKBest(k=9)),\n",
      "                ('svm', SVC(C=1, kernel='linear'))])\n"
     ]
    }
   ],
   "source": [
    "print(grid_search.best_estimator_)"
   ]
  },
  {
   "cell_type": "code",
   "execution_count": 240,
   "id": "1b20a1be",
   "metadata": {},
   "outputs": [
    {
     "data": {
      "text/plain": [
       "{'svm__C': 1, 'univ_select__k': 9}"
      ]
     },
     "execution_count": 240,
     "metadata": {},
     "output_type": "execute_result"
    }
   ],
   "source": [
    "grid_search.best_params_"
   ]
  },
  {
   "cell_type": "code",
   "execution_count": 241,
   "id": "af7e60a7",
   "metadata": {},
   "outputs": [
    {
     "data": {
      "text/plain": [
       "0.5878674171357098"
      ]
     },
     "execution_count": 241,
     "metadata": {},
     "output_type": "execute_result"
    }
   ],
   "source": [
    "grid_search.score(redwine_X, redwine_y)"
   ]
  },
  {
   "cell_type": "markdown",
   "id": "25ca8195",
   "metadata": {},
   "source": [
    "###### PCA, SelectKBest 사용해서 iris데이터 파라미터 탐색"
   ]
  },
  {
   "cell_type": "code",
   "execution_count": 242,
   "id": "1b346054",
   "metadata": {},
   "outputs": [],
   "source": [
    "from sklearn.pipeline import Pipeline, FeatureUnion\n",
    "from sklearn.model_selection import GridSearchCV\n",
    "from sklearn.svm import SVC\n",
    "from sklearn.datasets import load_iris\n",
    "from sklearn.decomposition import PCA\n",
    "from sklearn.feature_selection import SelectKBest"
   ]
  },
  {
   "cell_type": "code",
   "execution_count": 243,
   "id": "bff3cf96",
   "metadata": {},
   "outputs": [],
   "source": [
    "iris = load_iris()\n",
    "iris_X, iris_y = iris.data, iris.target"
   ]
  },
  {
   "cell_type": "code",
   "execution_count": 244,
   "id": "302202e8",
   "metadata": {},
   "outputs": [],
   "source": [
    "pca = PCA(n_components=2)\n",
    "selection = SelectKBest(k=1)\n",
    "combined_features = FeatureUnion([(\"pca\", pca),\n",
    "(\"univ_select\", selection)])\n",
    "X_features = combined_features.fit(iris_X, iris_y).transform(iris_X)\n",
    "svm = SVC(kernel=\"linear\")"
   ]
  },
  {
   "cell_type": "code",
   "execution_count": 245,
   "id": "abee5227",
   "metadata": {},
   "outputs": [],
   "source": [
    "pipeline = Pipeline([(\"features\", combined_features), (\"svm\", svm)])\n",
    "param_grid = dict(features__pca__n_components=[1, 2, 3],\n",
    "features__univ_select__k=[1, 2],\n",
    "svm__C=[0.1, 1, 10])"
   ]
  },
  {
   "cell_type": "code",
   "execution_count": 246,
   "id": "2f995955",
   "metadata": {},
   "outputs": [
    {
     "name": "stdout",
     "output_type": "stream",
     "text": [
      "Fitting 5 folds for each of 18 candidates, totalling 90 fits\n",
      "[CV 1/5; 1/18] START features__pca__n_components=1, features__univ_select__k=1, svm__C=0.1\n",
      "[CV 1/5; 1/18] END features__pca__n_components=1, features__univ_select__k=1, svm__C=0.1; total time=   0.0s\n",
      "[CV 2/5; 1/18] START features__pca__n_components=1, features__univ_select__k=1, svm__C=0.1\n",
      "[CV 2/5; 1/18] END features__pca__n_components=1, features__univ_select__k=1, svm__C=0.1; total time=   0.0s\n",
      "[CV 3/5; 1/18] START features__pca__n_components=1, features__univ_select__k=1, svm__C=0.1\n",
      "[CV 3/5; 1/18] END features__pca__n_components=1, features__univ_select__k=1, svm__C=0.1; total time=   0.0s\n",
      "[CV 4/5; 1/18] START features__pca__n_components=1, features__univ_select__k=1, svm__C=0.1\n",
      "[CV 4/5; 1/18] END features__pca__n_components=1, features__univ_select__k=1, svm__C=0.1; total time=   0.0s\n",
      "[CV 5/5; 1/18] START features__pca__n_components=1, features__univ_select__k=1, svm__C=0.1\n",
      "[CV 5/5; 1/18] END features__pca__n_components=1, features__univ_select__k=1, svm__C=0.1; total time=   0.0s\n",
      "[CV 1/5; 2/18] START features__pca__n_components=1, features__univ_select__k=1, svm__C=1\n",
      "[CV 1/5; 2/18] END features__pca__n_components=1, features__univ_select__k=1, svm__C=1; total time=   0.0s\n",
      "[CV 2/5; 2/18] START features__pca__n_components=1, features__univ_select__k=1, svm__C=1\n",
      "[CV 2/5; 2/18] END features__pca__n_components=1, features__univ_select__k=1, svm__C=1; total time=   0.0s\n",
      "[CV 3/5; 2/18] START features__pca__n_components=1, features__univ_select__k=1, svm__C=1\n",
      "[CV 3/5; 2/18] END features__pca__n_components=1, features__univ_select__k=1, svm__C=1; total time=   0.0s\n",
      "[CV 4/5; 2/18] START features__pca__n_components=1, features__univ_select__k=1, svm__C=1\n",
      "[CV 4/5; 2/18] END features__pca__n_components=1, features__univ_select__k=1, svm__C=1; total time=   0.0s\n",
      "[CV 5/5; 2/18] START features__pca__n_components=1, features__univ_select__k=1, svm__C=1\n",
      "[CV 5/5; 2/18] END features__pca__n_components=1, features__univ_select__k=1, svm__C=1; total time=   0.0s\n",
      "[CV 1/5; 3/18] START features__pca__n_components=1, features__univ_select__k=1, svm__C=10\n",
      "[CV 1/5; 3/18] END features__pca__n_components=1, features__univ_select__k=1, svm__C=10; total time=   0.0s\n",
      "[CV 2/5; 3/18] START features__pca__n_components=1, features__univ_select__k=1, svm__C=10\n",
      "[CV 2/5; 3/18] END features__pca__n_components=1, features__univ_select__k=1, svm__C=10; total time=   0.0s\n",
      "[CV 3/5; 3/18] START features__pca__n_components=1, features__univ_select__k=1, svm__C=10\n",
      "[CV 3/5; 3/18] END features__pca__n_components=1, features__univ_select__k=1, svm__C=10; total time=   0.0s\n",
      "[CV 4/5; 3/18] START features__pca__n_components=1, features__univ_select__k=1, svm__C=10\n",
      "[CV 4/5; 3/18] END features__pca__n_components=1, features__univ_select__k=1, svm__C=10; total time=   0.0s\n",
      "[CV 5/5; 3/18] START features__pca__n_components=1, features__univ_select__k=1, svm__C=10\n",
      "[CV 5/5; 3/18] END features__pca__n_components=1, features__univ_select__k=1, svm__C=10; total time=   0.0s\n",
      "[CV 1/5; 4/18] START features__pca__n_components=1, features__univ_select__k=2, svm__C=0.1\n",
      "[CV 1/5; 4/18] END features__pca__n_components=1, features__univ_select__k=2, svm__C=0.1; total time=   0.0s\n",
      "[CV 2/5; 4/18] START features__pca__n_components=1, features__univ_select__k=2, svm__C=0.1\n",
      "[CV 2/5; 4/18] END features__pca__n_components=1, features__univ_select__k=2, svm__C=0.1; total time=   0.0s\n",
      "[CV 3/5; 4/18] START features__pca__n_components=1, features__univ_select__k=2, svm__C=0.1\n",
      "[CV 3/5; 4/18] END features__pca__n_components=1, features__univ_select__k=2, svm__C=0.1; total time=   0.0s\n",
      "[CV 4/5; 4/18] START features__pca__n_components=1, features__univ_select__k=2, svm__C=0.1\n",
      "[CV 4/5; 4/18] END features__pca__n_components=1, features__univ_select__k=2, svm__C=0.1; total time=   0.0s\n",
      "[CV 5/5; 4/18] START features__pca__n_components=1, features__univ_select__k=2, svm__C=0.1\n",
      "[CV 5/5; 4/18] END features__pca__n_components=1, features__univ_select__k=2, svm__C=0.1; total time=   0.0s\n",
      "[CV 1/5; 5/18] START features__pca__n_components=1, features__univ_select__k=2, svm__C=1\n",
      "[CV 1/5; 5/18] END features__pca__n_components=1, features__univ_select__k=2, svm__C=1; total time=   0.0s\n",
      "[CV 2/5; 5/18] START features__pca__n_components=1, features__univ_select__k=2, svm__C=1\n",
      "[CV 2/5; 5/18] END features__pca__n_components=1, features__univ_select__k=2, svm__C=1; total time=   0.0s\n",
      "[CV 3/5; 5/18] START features__pca__n_components=1, features__univ_select__k=2, svm__C=1\n",
      "[CV 3/5; 5/18] END features__pca__n_components=1, features__univ_select__k=2, svm__C=1; total time=   0.0s\n",
      "[CV 4/5; 5/18] START features__pca__n_components=1, features__univ_select__k=2, svm__C=1\n",
      "[CV 4/5; 5/18] END features__pca__n_components=1, features__univ_select__k=2, svm__C=1; total time=   0.0s\n",
      "[CV 5/5; 5/18] START features__pca__n_components=1, features__univ_select__k=2, svm__C=1\n",
      "[CV 5/5; 5/18] END features__pca__n_components=1, features__univ_select__k=2, svm__C=1; total time=   0.0s\n",
      "[CV 1/5; 6/18] START features__pca__n_components=1, features__univ_select__k=2, svm__C=10\n",
      "[CV 1/5; 6/18] END features__pca__n_components=1, features__univ_select__k=2, svm__C=10; total time=   0.0s\n",
      "[CV 2/5; 6/18] START features__pca__n_components=1, features__univ_select__k=2, svm__C=10\n",
      "[CV 2/5; 6/18] END features__pca__n_components=1, features__univ_select__k=2, svm__C=10; total time=   0.0s\n",
      "[CV 3/5; 6/18] START features__pca__n_components=1, features__univ_select__k=2, svm__C=10\n",
      "[CV 3/5; 6/18] END features__pca__n_components=1, features__univ_select__k=2, svm__C=10; total time=   0.0s\n",
      "[CV 4/5; 6/18] START features__pca__n_components=1, features__univ_select__k=2, svm__C=10\n",
      "[CV 4/5; 6/18] END features__pca__n_components=1, features__univ_select__k=2, svm__C=10; total time=   0.0s\n",
      "[CV 5/5; 6/18] START features__pca__n_components=1, features__univ_select__k=2, svm__C=10\n",
      "[CV 5/5; 6/18] END features__pca__n_components=1, features__univ_select__k=2, svm__C=10; total time=   0.0s\n",
      "[CV 1/5; 7/18] START features__pca__n_components=2, features__univ_select__k=1, svm__C=0.1\n",
      "[CV 1/5; 7/18] END features__pca__n_components=2, features__univ_select__k=1, svm__C=0.1; total time=   0.0s\n",
      "[CV 2/5; 7/18] START features__pca__n_components=2, features__univ_select__k=1, svm__C=0.1\n",
      "[CV 2/5; 7/18] END features__pca__n_components=2, features__univ_select__k=1, svm__C=0.1; total time=   0.0s\n",
      "[CV 3/5; 7/18] START features__pca__n_components=2, features__univ_select__k=1, svm__C=0.1\n",
      "[CV 3/5; 7/18] END features__pca__n_components=2, features__univ_select__k=1, svm__C=0.1; total time=   0.0s\n",
      "[CV 4/5; 7/18] START features__pca__n_components=2, features__univ_select__k=1, svm__C=0.1\n",
      "[CV 4/5; 7/18] END features__pca__n_components=2, features__univ_select__k=1, svm__C=0.1; total time=   0.0s\n",
      "[CV 5/5; 7/18] START features__pca__n_components=2, features__univ_select__k=1, svm__C=0.1\n",
      "[CV 5/5; 7/18] END features__pca__n_components=2, features__univ_select__k=1, svm__C=0.1; total time=   0.0s\n",
      "[CV 1/5; 8/18] START features__pca__n_components=2, features__univ_select__k=1, svm__C=1\n",
      "[CV 1/5; 8/18] END features__pca__n_components=2, features__univ_select__k=1, svm__C=1; total time=   0.0s\n",
      "[CV 2/5; 8/18] START features__pca__n_components=2, features__univ_select__k=1, svm__C=1\n",
      "[CV 2/5; 8/18] END features__pca__n_components=2, features__univ_select__k=1, svm__C=1; total time=   0.0s\n",
      "[CV 3/5; 8/18] START features__pca__n_components=2, features__univ_select__k=1, svm__C=1\n",
      "[CV 3/5; 8/18] END features__pca__n_components=2, features__univ_select__k=1, svm__C=1; total time=   0.0s\n",
      "[CV 4/5; 8/18] START features__pca__n_components=2, features__univ_select__k=1, svm__C=1\n",
      "[CV 4/5; 8/18] END features__pca__n_components=2, features__univ_select__k=1, svm__C=1; total time=   0.0s\n",
      "[CV 5/5; 8/18] START features__pca__n_components=2, features__univ_select__k=1, svm__C=1\n",
      "[CV 5/5; 8/18] END features__pca__n_components=2, features__univ_select__k=1, svm__C=1; total time=   0.0s\n",
      "[CV 1/5; 9/18] START features__pca__n_components=2, features__univ_select__k=1, svm__C=10\n",
      "[CV 1/5; 9/18] END features__pca__n_components=2, features__univ_select__k=1, svm__C=10; total time=   0.0s\n",
      "[CV 2/5; 9/18] START features__pca__n_components=2, features__univ_select__k=1, svm__C=10\n",
      "[CV 2/5; 9/18] END features__pca__n_components=2, features__univ_select__k=1, svm__C=10; total time=   0.0s\n",
      "[CV 3/5; 9/18] START features__pca__n_components=2, features__univ_select__k=1, svm__C=10\n",
      "[CV 3/5; 9/18] END features__pca__n_components=2, features__univ_select__k=1, svm__C=10; total time=   0.0s\n",
      "[CV 4/5; 9/18] START features__pca__n_components=2, features__univ_select__k=1, svm__C=10\n",
      "[CV 4/5; 9/18] END features__pca__n_components=2, features__univ_select__k=1, svm__C=10; total time=   0.0s\n",
      "[CV 5/5; 9/18] START features__pca__n_components=2, features__univ_select__k=1, svm__C=10\n",
      "[CV 5/5; 9/18] END features__pca__n_components=2, features__univ_select__k=1, svm__C=10; total time=   0.0s\n",
      "[CV 1/5; 10/18] START features__pca__n_components=2, features__univ_select__k=2, svm__C=0.1\n",
      "[CV 1/5; 10/18] END features__pca__n_components=2, features__univ_select__k=2, svm__C=0.1; total time=   0.0s\n",
      "[CV 2/5; 10/18] START features__pca__n_components=2, features__univ_select__k=2, svm__C=0.1\n",
      "[CV 2/5; 10/18] END features__pca__n_components=2, features__univ_select__k=2, svm__C=0.1; total time=   0.0s\n",
      "[CV 3/5; 10/18] START features__pca__n_components=2, features__univ_select__k=2, svm__C=0.1\n",
      "[CV 3/5; 10/18] END features__pca__n_components=2, features__univ_select__k=2, svm__C=0.1; total time=   0.0s\n",
      "[CV 4/5; 10/18] START features__pca__n_components=2, features__univ_select__k=2, svm__C=0.1\n",
      "[CV 4/5; 10/18] END features__pca__n_components=2, features__univ_select__k=2, svm__C=0.1; total time=   0.0s\n",
      "[CV 5/5; 10/18] START features__pca__n_components=2, features__univ_select__k=2, svm__C=0.1\n",
      "[CV 5/5; 10/18] END features__pca__n_components=2, features__univ_select__k=2, svm__C=0.1; total time=   0.0s\n",
      "[CV 1/5; 11/18] START features__pca__n_components=2, features__univ_select__k=2, svm__C=1\n",
      "[CV 1/5; 11/18] END features__pca__n_components=2, features__univ_select__k=2, svm__C=1; total time=   0.0s\n",
      "[CV 2/5; 11/18] START features__pca__n_components=2, features__univ_select__k=2, svm__C=1\n",
      "[CV 2/5; 11/18] END features__pca__n_components=2, features__univ_select__k=2, svm__C=1; total time=   0.0s\n",
      "[CV 3/5; 11/18] START features__pca__n_components=2, features__univ_select__k=2, svm__C=1\n",
      "[CV 3/5; 11/18] END features__pca__n_components=2, features__univ_select__k=2, svm__C=1; total time=   0.0s\n",
      "[CV 4/5; 11/18] START features__pca__n_components=2, features__univ_select__k=2, svm__C=1\n",
      "[CV 4/5; 11/18] END features__pca__n_components=2, features__univ_select__k=2, svm__C=1; total time=   0.0s\n",
      "[CV 5/5; 11/18] START features__pca__n_components=2, features__univ_select__k=2, svm__C=1\n",
      "[CV 5/5; 11/18] END features__pca__n_components=2, features__univ_select__k=2, svm__C=1; total time=   0.0s\n",
      "[CV 1/5; 12/18] START features__pca__n_components=2, features__univ_select__k=2, svm__C=10\n",
      "[CV 1/5; 12/18] END features__pca__n_components=2, features__univ_select__k=2, svm__C=10; total time=   0.0s\n",
      "[CV 2/5; 12/18] START features__pca__n_components=2, features__univ_select__k=2, svm__C=10\n",
      "[CV 2/5; 12/18] END features__pca__n_components=2, features__univ_select__k=2, svm__C=10; total time=   0.0s\n",
      "[CV 3/5; 12/18] START features__pca__n_components=2, features__univ_select__k=2, svm__C=10\n",
      "[CV 3/5; 12/18] END features__pca__n_components=2, features__univ_select__k=2, svm__C=10; total time=   0.0s\n",
      "[CV 4/5; 12/18] START features__pca__n_components=2, features__univ_select__k=2, svm__C=10\n",
      "[CV 4/5; 12/18] END features__pca__n_components=2, features__univ_select__k=2, svm__C=10; total time=   0.0s\n",
      "[CV 5/5; 12/18] START features__pca__n_components=2, features__univ_select__k=2, svm__C=10\n",
      "[CV 5/5; 12/18] END features__pca__n_components=2, features__univ_select__k=2, svm__C=10; total time=   0.0s\n",
      "[CV 1/5; 13/18] START features__pca__n_components=3, features__univ_select__k=1, svm__C=0.1\n",
      "[CV 1/5; 13/18] END features__pca__n_components=3, features__univ_select__k=1, svm__C=0.1; total time=   0.0s\n",
      "[CV 2/5; 13/18] START features__pca__n_components=3, features__univ_select__k=1, svm__C=0.1\n",
      "[CV 2/5; 13/18] END features__pca__n_components=3, features__univ_select__k=1, svm__C=0.1; total time=   0.0s\n",
      "[CV 3/5; 13/18] START features__pca__n_components=3, features__univ_select__k=1, svm__C=0.1\n",
      "[CV 3/5; 13/18] END features__pca__n_components=3, features__univ_select__k=1, svm__C=0.1; total time=   0.0s\n",
      "[CV 4/5; 13/18] START features__pca__n_components=3, features__univ_select__k=1, svm__C=0.1\n",
      "[CV 4/5; 13/18] END features__pca__n_components=3, features__univ_select__k=1, svm__C=0.1; total time=   0.0s\n",
      "[CV 5/5; 13/18] START features__pca__n_components=3, features__univ_select__k=1, svm__C=0.1\n",
      "[CV 5/5; 13/18] END features__pca__n_components=3, features__univ_select__k=1, svm__C=0.1; total time=   0.0s\n",
      "[CV 1/5; 14/18] START features__pca__n_components=3, features__univ_select__k=1, svm__C=1\n",
      "[CV 1/5; 14/18] END features__pca__n_components=3, features__univ_select__k=1, svm__C=1; total time=   0.0s\n",
      "[CV 2/5; 14/18] START features__pca__n_components=3, features__univ_select__k=1, svm__C=1\n",
      "[CV 2/5; 14/18] END features__pca__n_components=3, features__univ_select__k=1, svm__C=1; total time=   0.0s\n",
      "[CV 3/5; 14/18] START features__pca__n_components=3, features__univ_select__k=1, svm__C=1\n",
      "[CV 3/5; 14/18] END features__pca__n_components=3, features__univ_select__k=1, svm__C=1; total time=   0.0s\n",
      "[CV 4/5; 14/18] START features__pca__n_components=3, features__univ_select__k=1, svm__C=1\n",
      "[CV 4/5; 14/18] END features__pca__n_components=3, features__univ_select__k=1, svm__C=1; total time=   0.0s\n",
      "[CV 5/5; 14/18] START features__pca__n_components=3, features__univ_select__k=1, svm__C=1\n",
      "[CV 5/5; 14/18] END features__pca__n_components=3, features__univ_select__k=1, svm__C=1; total time=   0.0s\n",
      "[CV 1/5; 15/18] START features__pca__n_components=3, features__univ_select__k=1, svm__C=10\n",
      "[CV 1/5; 15/18] END features__pca__n_components=3, features__univ_select__k=1, svm__C=10; total time=   0.0s\n",
      "[CV 2/5; 15/18] START features__pca__n_components=3, features__univ_select__k=1, svm__C=10\n",
      "[CV 2/5; 15/18] END features__pca__n_components=3, features__univ_select__k=1, svm__C=10; total time=   0.0s\n",
      "[CV 3/5; 15/18] START features__pca__n_components=3, features__univ_select__k=1, svm__C=10\n",
      "[CV 3/5; 15/18] END features__pca__n_components=3, features__univ_select__k=1, svm__C=10; total time=   0.0s\n",
      "[CV 4/5; 15/18] START features__pca__n_components=3, features__univ_select__k=1, svm__C=10\n",
      "[CV 4/5; 15/18] END features__pca__n_components=3, features__univ_select__k=1, svm__C=10; total time=   0.0s\n",
      "[CV 5/5; 15/18] START features__pca__n_components=3, features__univ_select__k=1, svm__C=10\n",
      "[CV 5/5; 15/18] END features__pca__n_components=3, features__univ_select__k=1, svm__C=10; total time=   0.0s\n",
      "[CV 1/5; 16/18] START features__pca__n_components=3, features__univ_select__k=2, svm__C=0.1\n",
      "[CV 1/5; 16/18] END features__pca__n_components=3, features__univ_select__k=2, svm__C=0.1; total time=   0.0s\n",
      "[CV 2/5; 16/18] START features__pca__n_components=3, features__univ_select__k=2, svm__C=0.1\n",
      "[CV 2/5; 16/18] END features__pca__n_components=3, features__univ_select__k=2, svm__C=0.1; total time=   0.0s\n",
      "[CV 3/5; 16/18] START features__pca__n_components=3, features__univ_select__k=2, svm__C=0.1\n",
      "[CV 3/5; 16/18] END features__pca__n_components=3, features__univ_select__k=2, svm__C=0.1; total time=   0.0s\n",
      "[CV 4/5; 16/18] START features__pca__n_components=3, features__univ_select__k=2, svm__C=0.1\n"
     ]
    },
    {
     "name": "stdout",
     "output_type": "stream",
     "text": [
      "[CV 4/5; 16/18] END features__pca__n_components=3, features__univ_select__k=2, svm__C=0.1; total time=   0.0s\n",
      "[CV 5/5; 16/18] START features__pca__n_components=3, features__univ_select__k=2, svm__C=0.1\n",
      "[CV 5/5; 16/18] END features__pca__n_components=3, features__univ_select__k=2, svm__C=0.1; total time=   0.0s\n",
      "[CV 1/5; 17/18] START features__pca__n_components=3, features__univ_select__k=2, svm__C=1\n",
      "[CV 1/5; 17/18] END features__pca__n_components=3, features__univ_select__k=2, svm__C=1; total time=   0.0s\n",
      "[CV 2/5; 17/18] START features__pca__n_components=3, features__univ_select__k=2, svm__C=1\n",
      "[CV 2/5; 17/18] END features__pca__n_components=3, features__univ_select__k=2, svm__C=1; total time=   0.0s\n",
      "[CV 3/5; 17/18] START features__pca__n_components=3, features__univ_select__k=2, svm__C=1\n",
      "[CV 3/5; 17/18] END features__pca__n_components=3, features__univ_select__k=2, svm__C=1; total time=   0.0s\n",
      "[CV 4/5; 17/18] START features__pca__n_components=3, features__univ_select__k=2, svm__C=1\n",
      "[CV 4/5; 17/18] END features__pca__n_components=3, features__univ_select__k=2, svm__C=1; total time=   0.0s\n",
      "[CV 5/5; 17/18] START features__pca__n_components=3, features__univ_select__k=2, svm__C=1\n",
      "[CV 5/5; 17/18] END features__pca__n_components=3, features__univ_select__k=2, svm__C=1; total time=   0.0s\n",
      "[CV 1/5; 18/18] START features__pca__n_components=3, features__univ_select__k=2, svm__C=10\n",
      "[CV 1/5; 18/18] END features__pca__n_components=3, features__univ_select__k=2, svm__C=10; total time=   0.0s\n",
      "[CV 2/5; 18/18] START features__pca__n_components=3, features__univ_select__k=2, svm__C=10\n",
      "[CV 2/5; 18/18] END features__pca__n_components=3, features__univ_select__k=2, svm__C=10; total time=   0.0s\n",
      "[CV 3/5; 18/18] START features__pca__n_components=3, features__univ_select__k=2, svm__C=10\n",
      "[CV 3/5; 18/18] END features__pca__n_components=3, features__univ_select__k=2, svm__C=10; total time=   0.0s\n",
      "[CV 4/5; 18/18] START features__pca__n_components=3, features__univ_select__k=2, svm__C=10\n",
      "[CV 4/5; 18/18] END features__pca__n_components=3, features__univ_select__k=2, svm__C=10; total time=   0.0s\n",
      "[CV 5/5; 18/18] START features__pca__n_components=3, features__univ_select__k=2, svm__C=10\n",
      "[CV 5/5; 18/18] END features__pca__n_components=3, features__univ_select__k=2, svm__C=10; total time=   0.0s\n",
      "Pipeline(steps=[('features',\n",
      "                 FeatureUnion(transformer_list=[('pca', PCA(n_components=3)),\n",
      "                                                ('univ_select',\n",
      "                                                 SelectKBest(k=1))])),\n",
      "                ('svm', SVC(C=10, kernel='linear'))])\n"
     ]
    }
   ],
   "source": [
    "grid_search = GridSearchCV(pipeline, param_grid=param_grid,\n",
    "cv=5, verbose=10)\n",
    "grid_search.fit(iris_X, iris_y)\n",
    "print(grid_search.best_estimator_)"
   ]
  },
  {
   "cell_type": "code",
   "execution_count": 247,
   "id": "86e6a82a",
   "metadata": {},
   "outputs": [
    {
     "data": {
      "text/plain": [
       "0.9733333333333334"
      ]
     },
     "execution_count": 247,
     "metadata": {},
     "output_type": "execute_result"
    }
   ],
   "source": [
    "grid_search.score(iris_X, iris_y)"
   ]
  },
  {
   "cell_type": "code",
   "execution_count": 248,
   "id": "48784905",
   "metadata": {},
   "outputs": [
    {
     "data": {
      "text/plain": [
       "array([0, 0, 0, 0, 0, 0, 0, 0, 0, 0, 0, 0, 0, 0, 0, 0, 0, 0, 0, 0, 0, 0,\n",
       "       0, 0, 0, 0, 0, 0, 0, 0, 0, 0, 0, 0, 0, 0, 0, 0, 0, 0, 0, 0, 0, 0,\n",
       "       0, 0, 0, 0, 0, 0, 1, 1, 1, 1, 1, 1, 1, 1, 1, 1, 1, 1, 1, 1, 1, 1,\n",
       "       1, 1, 1, 1, 2, 1, 2, 1, 1, 1, 1, 2, 1, 1, 1, 1, 1, 2, 1, 1, 1, 1,\n",
       "       1, 1, 1, 1, 1, 1, 1, 1, 1, 1, 1, 1, 2, 2, 2, 2, 2, 2, 2, 2, 2, 2,\n",
       "       2, 2, 2, 2, 2, 2, 2, 2, 2, 2, 2, 2, 2, 2, 2, 2, 2, 2, 2, 2, 2, 2,\n",
       "       2, 2, 2, 2, 2, 2, 2, 2, 2, 2, 2, 2, 2, 2, 2, 2, 2, 2])"
      ]
     },
     "execution_count": 248,
     "metadata": {},
     "output_type": "execute_result"
    }
   ],
   "source": [
    "pred = grid_search.predict(iris_X)\n",
    "pred"
   ]
  },
  {
   "cell_type": "code",
   "execution_count": 249,
   "id": "426f4bb5",
   "metadata": {},
   "outputs": [
    {
     "data": {
      "text/html": [
       "<div>\n",
       "<style scoped>\n",
       "    .dataframe tbody tr th:only-of-type {\n",
       "        vertical-align: middle;\n",
       "    }\n",
       "\n",
       "    .dataframe tbody tr th {\n",
       "        vertical-align: top;\n",
       "    }\n",
       "\n",
       "    .dataframe thead th {\n",
       "        text-align: right;\n",
       "    }\n",
       "</style>\n",
       "<table border=\"1\" class=\"dataframe\">\n",
       "  <thead>\n",
       "    <tr style=\"text-align: right;\">\n",
       "      <th>Pred</th>\n",
       "      <th>0</th>\n",
       "      <th>1</th>\n",
       "      <th>2</th>\n",
       "      <th>All</th>\n",
       "    </tr>\n",
       "    <tr>\n",
       "      <th>True</th>\n",
       "      <th></th>\n",
       "      <th></th>\n",
       "      <th></th>\n",
       "      <th></th>\n",
       "    </tr>\n",
       "  </thead>\n",
       "  <tbody>\n",
       "    <tr>\n",
       "      <th>0</th>\n",
       "      <td>50</td>\n",
       "      <td>0</td>\n",
       "      <td>0</td>\n",
       "      <td>50</td>\n",
       "    </tr>\n",
       "    <tr>\n",
       "      <th>1</th>\n",
       "      <td>0</td>\n",
       "      <td>46</td>\n",
       "      <td>4</td>\n",
       "      <td>50</td>\n",
       "    </tr>\n",
       "    <tr>\n",
       "      <th>2</th>\n",
       "      <td>0</td>\n",
       "      <td>0</td>\n",
       "      <td>50</td>\n",
       "      <td>50</td>\n",
       "    </tr>\n",
       "    <tr>\n",
       "      <th>All</th>\n",
       "      <td>50</td>\n",
       "      <td>46</td>\n",
       "      <td>54</td>\n",
       "      <td>150</td>\n",
       "    </tr>\n",
       "  </tbody>\n",
       "</table>\n",
       "</div>"
      ],
      "text/plain": [
       "Pred   0   1   2  All\n",
       "True                 \n",
       "0     50   0   0   50\n",
       "1      0  46   4   50\n",
       "2      0   0  50   50\n",
       "All   50  46  54  150"
      ]
     },
     "execution_count": 249,
     "metadata": {},
     "output_type": "execute_result"
    }
   ],
   "source": [
    "import pandas as pd\n",
    "pd.crosstab(iris_y, pred,\n",
    "rownames=['True'], colnames=['Pred'],\n",
    "margins=True)"
   ]
  },
  {
   "cell_type": "markdown",
   "id": "bae8e9a1",
   "metadata": {},
   "source": [
    "### ParameterGrid"
   ]
  },
  {
   "cell_type": "code",
   "execution_count": 250,
   "id": "ebd0ed8a",
   "metadata": {},
   "outputs": [
    {
     "data": {
      "text/plain": [
       "[{'a': 1, 'b': True},\n",
       " {'a': 1, 'b': False},\n",
       " {'a': 2, 'b': True},\n",
       " {'a': 2, 'b': False}]"
      ]
     },
     "execution_count": 250,
     "metadata": {},
     "output_type": "execute_result"
    }
   ],
   "source": [
    "from sklearn.model_selection import ParameterGrid\n",
    "param_grid = {'a': [1, 2], 'b': [True, False]}\n",
    "list(ParameterGrid(param_grid))"
   ]
  },
  {
   "cell_type": "code",
   "execution_count": 253,
   "id": "10b1be51",
   "metadata": {},
   "outputs": [
    {
     "data": {
      "text/plain": [
       "[{'kernel': 'linear'},\n",
       " {'gamma': 1, 'kernel': 'rbf'},\n",
       " {'gamma': 10, 'kernel': 'rbf'}]"
      ]
     },
     "execution_count": 253,
     "metadata": {},
     "output_type": "execute_result"
    }
   ],
   "source": [
    "param_grid = [{'kernel': ['linear']},\n",
    "{'kernel': ['rbf'], 'gamma': [1, 10]}]\n",
    "list(ParameterGrid(param_grid))"
   ]
  },
  {
   "cell_type": "code",
   "execution_count": 254,
   "id": "df2c61c9",
   "metadata": {
    "scrolled": true
   },
   "outputs": [
    {
     "ename": "TypeError",
     "evalue": "Parameter grid is not a dict or a list (GridSearchCV(estimator=XGBClassifier(base_score=None, booster=None,\n                                     colsample_bylevel=None,\n                                     colsample_bynode=None,\n                                     colsample_bytree=None,\n                                     enable_categorical=False, gamma=None,\n                                     gpu_id=None, importance_type=None,\n                                     interaction_constraints=None,\n                                     learning_rate=None, max_delta_step=None,\n                                     max_depth=None, min_child_weight=None,\n                                     missing=nan, monotone_constraints=None,\n                                     n_estimators=100, n_jobs=None,\n                                     num_parallel_tree=None, predictor=None,\n                                     random_state=None, reg_alpha=None,\n                                     reg_lambda=None, scale_pos_weight=None,\n                                     subsample=None, tree_method=None,\n                                     validate_parameters=None, verbosity=None),\n             param_grid={'max_depth': [3, 5, 7, 9],\n                         'subsample': [0.4, 0.6, 0.8, 1.0]}))",
     "output_type": "error",
     "traceback": [
      "\u001b[1;31m---------------------------------------------------------------------------\u001b[0m",
      "\u001b[1;31mTypeError\u001b[0m                                 Traceback (most recent call last)",
      "\u001b[1;32m<ipython-input-254-27930e635859>\u001b[0m in \u001b[0;36m<module>\u001b[1;34m\u001b[0m\n\u001b[1;32m----> 1\u001b[1;33m \u001b[0mParameterGrid\u001b[0m\u001b[1;33m(\u001b[0m\u001b[0mgrid\u001b[0m\u001b[1;33m)\u001b[0m\u001b[1;33m[\u001b[0m\u001b[1;36m1\u001b[0m\u001b[1;33m]\u001b[0m\u001b[1;33m\u001b[0m\u001b[1;33m\u001b[0m\u001b[0m\n\u001b[0m",
      "\u001b[1;32m~\\anaconda3\\lib\\site-packages\\sklearn\\model_selection\\_search.py\u001b[0m in \u001b[0;36m__init__\u001b[1;34m(self, param_grid)\u001b[0m\n\u001b[0;32m     95\u001b[0m     \u001b[1;32mdef\u001b[0m \u001b[0m__init__\u001b[0m\u001b[1;33m(\u001b[0m\u001b[0mself\u001b[0m\u001b[1;33m,\u001b[0m \u001b[0mparam_grid\u001b[0m\u001b[1;33m)\u001b[0m\u001b[1;33m:\u001b[0m\u001b[1;33m\u001b[0m\u001b[1;33m\u001b[0m\u001b[0m\n\u001b[0;32m     96\u001b[0m         \u001b[1;32mif\u001b[0m \u001b[1;32mnot\u001b[0m \u001b[0misinstance\u001b[0m\u001b[1;33m(\u001b[0m\u001b[0mparam_grid\u001b[0m\u001b[1;33m,\u001b[0m \u001b[1;33m(\u001b[0m\u001b[0mMapping\u001b[0m\u001b[1;33m,\u001b[0m \u001b[0mIterable\u001b[0m\u001b[1;33m)\u001b[0m\u001b[1;33m)\u001b[0m\u001b[1;33m:\u001b[0m\u001b[1;33m\u001b[0m\u001b[1;33m\u001b[0m\u001b[0m\n\u001b[1;32m---> 97\u001b[1;33m             raise TypeError('Parameter grid is not a dict or '\n\u001b[0m\u001b[0;32m     98\u001b[0m                             'a list ({!r})'.format(param_grid))\n\u001b[0;32m     99\u001b[0m \u001b[1;33m\u001b[0m\u001b[0m\n",
      "\u001b[1;31mTypeError\u001b[0m: Parameter grid is not a dict or a list (GridSearchCV(estimator=XGBClassifier(base_score=None, booster=None,\n                                     colsample_bylevel=None,\n                                     colsample_bynode=None,\n                                     colsample_bytree=None,\n                                     enable_categorical=False, gamma=None,\n                                     gpu_id=None, importance_type=None,\n                                     interaction_constraints=None,\n                                     learning_rate=None, max_delta_step=None,\n                                     max_depth=None, min_child_weight=None,\n                                     missing=nan, monotone_constraints=None,\n                                     n_estimators=100, n_jobs=None,\n                                     num_parallel_tree=None, predictor=None,\n                                     random_state=None, reg_alpha=None,\n                                     reg_lambda=None, scale_pos_weight=None,\n                                     subsample=None, tree_method=None,\n                                     validate_parameters=None, verbosity=None),\n             param_grid={'max_depth': [3, 5, 7, 9],\n                         'subsample': [0.4, 0.6, 0.8, 1.0]}))"
     ]
    }
   ],
   "source": [
    "ParameterGrid(grid)[1]"
   ]
  },
  {
   "cell_type": "markdown",
   "id": "ea7d19f3",
   "metadata": {},
   "source": [
    "### Pipeline과 GridSearchCV를 이용한 차원감소"
   ]
  },
  {
   "cell_type": "code",
   "execution_count": 255,
   "id": "439f7ba7",
   "metadata": {},
   "outputs": [
    {
     "name": "stdout",
     "output_type": "stream",
     "text": [
      "Wall time: 29.3 s\n"
     ]
    },
    {
     "name": "stderr",
     "output_type": "stream",
     "text": [
      "C:\\Users\\san\\anaconda3\\lib\\site-packages\\sklearn\\svm\\_base.py:985: ConvergenceWarning: Liblinear failed to converge, increase the number of iterations.\n",
      "  warnings.warn(\"Liblinear failed to converge, increase \"\n"
     ]
    },
    {
     "data": {
      "text/plain": [
       "GridSearchCV(cv=5,\n",
       "             estimator=Pipeline(steps=[('reduce_dim', None),\n",
       "                                       ('classify', LinearSVC())]),\n",
       "             n_jobs=-1,\n",
       "             param_grid=[{'classify__C': [1, 10, 100, 1000],\n",
       "                          'reduce_dim': [PCA(iterated_power=7, n_components=8),\n",
       "                                         NMF()],\n",
       "                          'reduce_dim__n_components': [2, 4, 8]},\n",
       "                         {'classify__C': [1, 10, 100, 1000],\n",
       "                          'reduce_dim': [SelectKBest(score_func=<function chi2 at 0x00000212842BA940>)],\n",
       "                          'reduce_dim__k': [2, 4, 8]}])"
      ]
     },
     "execution_count": 255,
     "metadata": {},
     "output_type": "execute_result"
    }
   ],
   "source": [
    "%%time\n",
    "from sklearn.datasets import load_digits\n",
    "from sklearn.model_selection import GridSearchCV\n",
    "from sklearn.pipeline import Pipeline\n",
    "from sklearn.svm import LinearSVC\n",
    "from sklearn.decomposition import PCA, NMF\n",
    "from sklearn.feature_selection import SelectKBest, chi2\n",
    "pipe = Pipeline([\n",
    "# the reduce_dim stage is populated by the param_grid\n",
    "('reduce_dim', None),\n",
    "('classify', LinearSVC())\n",
    "])\n",
    "N_FEATURES_OPTIONS = [2, 4, 8]\n",
    "C_OPTIONS = [1, 10, 100, 1000]\n",
    "param_grid = [\n",
    "{\n",
    "'reduce_dim': [PCA(iterated_power=7), NMF()],\n",
    "'reduce_dim__n_components': N_FEATURES_OPTIONS,\n",
    "'classify__C': C_OPTIONS\n",
    "},\n",
    "{\n",
    "'reduce_dim': [SelectKBest(chi2)],\n",
    "'reduce_dim__k': N_FEATURES_OPTIONS,\n",
    "'classify__C': C_OPTIONS\n",
    "},\n",
    "]\n",
    "reducer_labels = ['PCA', 'NMF', 'KBest(chi2)']\n",
    "grid = GridSearchCV(pipe, cv=5, n_jobs=-1, param_grid=param_grid)\n",
    "digits = load_digits()\n",
    "grid.fit(digits.data, digits.target)"
   ]
  },
  {
   "cell_type": "code",
   "execution_count": 258,
   "id": "603cac1f",
   "metadata": {},
   "outputs": [
    {
     "data": {
      "image/png": "[encoded data removed]",
      "text/plain": [
       "<Figure size 432x288 with 1 Axes>"
      ]
     },
     "metadata": {
      "needs_background": "light"
     },
     "output_type": "display_data"
    }
   ],
   "source": [
    "%matplotlib inline\n",
    "import matplotlib.pyplot as plt\n",
    "mean_scores = np.array(grid.cv_results_['mean_test_score'])\n",
    "# scores are in the order of param_grid iteration, which is alphabetical\n",
    "mean_scores = mean_scores.reshape(len(C_OPTIONS), -1,\n",
    "len(N_FEATURES_OPTIONS))\n",
    "mean_scores = mean_scores.max(axis=0)\n",
    "bar_offsets = (np.arange(len(N_FEATURES_OPTIONS)) *\n",
    "(len(reducer_labels) + 1) + .5)\n",
    "plt.figure()\n",
    "COLORS = 'bgrcmyk'\n",
    "for i, (label, reducer_scores) in enumerate(zip(reducer_labels, mean_scores)):\n",
    "    plt.bar(bar_offsets + i, reducer_scores, label=label, color=COLORS[i])\n",
    "    plt.title(\"Comparing feature reduction techniques\")\n",
    "    plt.xlabel('Reduced number of features')\n",
    "    plt.xticks(bar_offsets + len(reducer_labels) / 2, N_FEATURES_OPTIONS)\n",
    "    plt.ylabel('Digit classification accuracy')\n",
    "    plt.ylim((0, 1))\n",
    "    plt.legend(loc='upper left')\n",
    "plt.show()"
   ]
  },
  {
   "cell_type": "markdown",
   "id": "25cf179a",
   "metadata": {},
   "source": [
    "## 자료 불균형 처리"
   ]
  },
  {
   "cell_type": "code",
   "execution_count": 2,
   "id": "09e6afcd",
   "metadata": {},
   "outputs": [],
   "source": [
    "%matplotlib inline\n",
    "import matplotlib.pyplot as plt"
   ]
  },
  {
   "cell_type": "code",
   "execution_count": 3,
   "id": "c0fc3275",
   "metadata": {},
   "outputs": [],
   "source": [
    "from sklearn.datasets import make_classification\n",
    "X,y = make_classification(n_samples=10000, n_features=10, n_informative=5,\n",
    "n_redundant=0, n_clusters_per_class=1,\n",
    "n_classes=2, weights=[0.99, 0.01],\n",
    "random_state=42)"
   ]
  },
  {
   "cell_type": "code",
   "execution_count": 4,
   "id": "599e6820",
   "metadata": {},
   "outputs": [
    {
     "data": {
      "image/png": "[encoded data removed]",
      "text/plain": [
       "<Figure size 432x288 with 1 Axes>"
      ]
     },
     "metadata": {
      "needs_background": "light"
     },
     "output_type": "display_data"
    }
   ],
   "source": [
    "plt.scatter(x=X[:,0], y=X[:,1], marker='o', c=y,\n",
    "s=100, edgecolor=\"k\", linewidth=2, alpha=0.4)\n",
    "plt.show()"
   ]
  },
  {
   "cell_type": "code",
   "execution_count": 5,
   "id": "43acc53c",
   "metadata": {},
   "outputs": [],
   "source": [
    "from sklearn.model_selection import train_test_split\n",
    "train_X, test_X, train_y, test_y = train_test_split(X,y, test_size=0.3,\n",
    "                                                   random_state=42)"
   ]
  },
  {
   "cell_type": "code",
   "execution_count": 6,
   "id": "694ac665",
   "metadata": {},
   "outputs": [
    {
     "data": {
      "text/plain": [
       "RandomForestClassifier(max_features=2, random_state=42)"
      ]
     },
     "execution_count": 6,
     "metadata": {},
     "output_type": "execute_result"
    }
   ],
   "source": [
    "from sklearn.ensemble import RandomForestClassifier\n",
    "rf_model = RandomForestClassifier(n_estimators=100, max_features=2,\n",
    "                                 random_state=42)\n",
    "rf_model.fit(train_X, train_y)"
   ]
  },
  {
   "cell_type": "code",
   "execution_count": 7,
   "id": "e9810905",
   "metadata": {},
   "outputs": [],
   "source": [
    "rfc_pred = rf_model.predict(test_X)"
   ]
  },
  {
   "cell_type": "code",
   "execution_count": 8,
   "id": "270861e4",
   "metadata": {},
   "outputs": [
    {
     "data": {
      "text/plain": [
       "array([[2960,    0],\n",
       "       [  36,    4]], dtype=int64)"
      ]
     },
     "execution_count": 8,
     "metadata": {},
     "output_type": "execute_result"
    }
   ],
   "source": [
    "from sklearn.metrics import confusion_matrix\n",
    "confusion_matrix(test_y, rfc_pred)"
   ]
  },
  {
   "cell_type": "code",
   "execution_count": 9,
   "id": "9d764339",
   "metadata": {},
   "outputs": [
    {
     "name": "stdout",
     "output_type": "stream",
     "text": [
      "              precision    recall  f1-score   support\n",
      "\n",
      "           0       0.99      1.00      0.99      2960\n",
      "           1       1.00      0.10      0.18        40\n",
      "\n",
      "    accuracy                           0.99      3000\n",
      "   macro avg       0.99      0.55      0.59      3000\n",
      "weighted avg       0.99      0.99      0.98      3000\n",
      "\n"
     ]
    }
   ],
   "source": [
    "from sklearn.metrics import classification_report\n",
    "print(classification_report(test_y, rfc_pred))"
   ]
  },
  {
   "cell_type": "markdown",
   "id": "ad5c7ea0",
   "metadata": {},
   "source": [
    "### Smote"
   ]
  },
  {
   "cell_type": "code",
   "execution_count": 10,
   "id": "125506b3",
   "metadata": {},
   "outputs": [],
   "source": [
    "from imblearn.over_sampling import SMOTE\n",
    "sm = SMOTE()\n",
    "X_resampled, y_resampled = sm.fit_resample(X, y)"
   ]
  },
  {
   "cell_type": "code",
   "execution_count": 12,
   "id": "45998e43",
   "metadata": {},
   "outputs": [
    {
     "data": {
      "text/plain": [
       "((19720, 10), (19720,))"
      ]
     },
     "execution_count": 12,
     "metadata": {},
     "output_type": "execute_result"
    }
   ],
   "source": [
    "X_resampled.shape, y_resampled.shape"
   ]
  },
  {
   "cell_type": "code",
   "execution_count": 14,
   "id": "ad414eb8",
   "metadata": {},
   "outputs": [
    {
     "data": {
      "image/png": "[encoded data removed]",
      "text/plain": [
       "<Figure size 432x288 with 1 Axes>"
      ]
     },
     "metadata": {
      "needs_background": "light"
     },
     "output_type": "display_data"
    }
   ],
   "source": [
    "plt.scatter(x=X_resampled[:,0], y=X_resampled[:,1],\n",
    "           marker='o', c=y_resampled,\n",
    "           s=100, edgecolor='k', linewidth=2, alpha=0.1)\n",
    "plt.show()"
   ]
  },
  {
   "cell_type": "code",
   "execution_count": 15,
   "id": "e245af5b",
   "metadata": {},
   "outputs": [
    {
     "data": {
      "text/plain": [
       "((13804, 10), (5916, 10), (13804,), (5916,))"
      ]
     },
     "execution_count": 15,
     "metadata": {},
     "output_type": "execute_result"
    }
   ],
   "source": [
    "from sklearn.model_selection import train_test_split\n",
    "    train_X, test_X, train_y, test_y = train_test_split(X_resampled,\n",
    "y_resampled, test_size=0.3, shuffle=True, random_state=42)\n",
    "    train_X.shape, test_X.shape, train_y.shape, test_y.shape"
   ]
  },
  {
   "cell_type": "code",
   "execution_count": 16,
   "id": "5a5ca0e2",
   "metadata": {},
   "outputs": [
    {
     "data": {
      "text/plain": [
       "RandomForestClassifier(max_features=2, random_state=42)"
      ]
     },
     "execution_count": 16,
     "metadata": {},
     "output_type": "execute_result"
    }
   ],
   "source": [
    "from sklearn.ensemble import RandomForestClassifier\n",
    "rf_model = RandomForestClassifier(n_estimators=100, max_features=2,\n",
    "random_state=42)\n",
    "rf_model.fit(train_X, train_y)"
   ]
  },
  {
   "cell_type": "code",
   "execution_count": 17,
   "id": "69502512",
   "metadata": {},
   "outputs": [
    {
     "data": {
      "text/plain": [
       "array([[2963,    5],\n",
       "       [  39, 2909]], dtype=int64)"
      ]
     },
     "execution_count": 17,
     "metadata": {},
     "output_type": "execute_result"
    }
   ],
   "source": [
    "pred = rf_model.predict(test_X)\n",
    "from sklearn.metrics import confusion_matrix\n",
    "confusion_matrix(test_y, pred)"
   ]
  },
  {
   "cell_type": "code",
   "execution_count": 18,
   "id": "b142e469",
   "metadata": {},
   "outputs": [
    {
     "name": "stdout",
     "output_type": "stream",
     "text": [
      "              precision    recall  f1-score   support\n",
      "\n",
      "           0       0.99      1.00      0.99      2968\n",
      "           1       1.00      0.99      0.99      2948\n",
      "\n",
      "    accuracy                           0.99      5916\n",
      "   macro avg       0.99      0.99      0.99      5916\n",
      "weighted avg       0.99      0.99      0.99      5916\n",
      "\n"
     ]
    }
   ],
   "source": [
    "from sklearn.metrics import classification_report\n",
    "print(classification_report(test_y, pred))"
   ]
  },
  {
   "cell_type": "markdown",
   "id": "b980d297",
   "metadata": {},
   "source": [
    "###### 계층적으로 샘플링하기"
   ]
  },
  {
   "cell_type": "code",
   "execution_count": 19,
   "id": "4a1877d9",
   "metadata": {},
   "outputs": [],
   "source": [
    "from sklearn.datasets import make_classification\n",
    "X,y = make_classification(n_samples=10000, n_features=10, n_informative=5,\n",
    "n_redundant=0, n_clusters_per_class=1,\n",
    "n_classes=2, weights=[0.99, 0.01],\n",
    "random_state=42)"
   ]
  },
  {
   "cell_type": "code",
   "execution_count": 20,
   "id": "00fe9371",
   "metadata": {},
   "outputs": [],
   "source": [
    "from sklearn.model_selection import train_test_split\n",
    "train_X, test_X, train_y, test_y = train_test_split(X, y, test_size=0.3,\n",
    "stratify=y, random_state=42)"
   ]
  },
  {
   "cell_type": "code",
   "execution_count": 21,
   "id": "3cf78d36",
   "metadata": {},
   "outputs": [
    {
     "data": {
      "text/plain": [
       "((13804, 10), (13804,))"
      ]
     },
     "execution_count": 21,
     "metadata": {},
     "output_type": "execute_result"
    }
   ],
   "source": [
    "from imblearn.over_sampling import SMOTE\n",
    "sm = SMOTE()\n",
    "resampled_X, resampled_y = sm.fit_resample(train_X, train_y)\n",
    "resampled_X.shape, resampled_y.shape"
   ]
  },
  {
   "cell_type": "code",
   "execution_count": 22,
   "id": "9e182dd1",
   "metadata": {},
   "outputs": [
    {
     "data": {
      "text/plain": [
       "RandomForestClassifier(max_features=2, random_state=42)"
      ]
     },
     "execution_count": 22,
     "metadata": {},
     "output_type": "execute_result"
    }
   ],
   "source": [
    "from sklearn.ensemble import RandomForestClassifier\n",
    "rf_model = RandomForestClassifier(n_estimators=100, max_features=2,\n",
    "random_state=42)\n",
    "rf_model.fit(resampled_X, resampled_y)"
   ]
  },
  {
   "cell_type": "code",
   "execution_count": 23,
   "id": "826b795e",
   "metadata": {},
   "outputs": [
    {
     "data": {
      "text/plain": [
       "array([[2956,    2],\n",
       "       [  27,   15]], dtype=int64)"
      ]
     },
     "execution_count": 23,
     "metadata": {},
     "output_type": "execute_result"
    }
   ],
   "source": [
    "pred = rf_model.predict(test_X)\n",
    "from sklearn.metrics import confusion_matrix\n",
    "confusion_matrix(test_y, pred)"
   ]
  },
  {
   "cell_type": "code",
   "execution_count": 24,
   "id": "41373655",
   "metadata": {},
   "outputs": [
    {
     "name": "stdout",
     "output_type": "stream",
     "text": [
      "              precision    recall  f1-score   support\n",
      "\n",
      "           0       0.99      1.00      1.00      2958\n",
      "           1       0.88      0.36      0.51        42\n",
      "\n",
      "    accuracy                           0.99      3000\n",
      "   macro avg       0.94      0.68      0.75      3000\n",
      "weighted avg       0.99      0.99      0.99      3000\n",
      "\n"
     ]
    }
   ],
   "source": [
    "from sklearn.metrics import classification_report\n",
    "print(classification_report(test_y, pred))"
   ]
  },
  {
   "cell_type": "markdown",
   "id": "b9076028",
   "metadata": {},
   "source": [
    "### 가중치 제어"
   ]
  },
  {
   "cell_type": "code",
   "execution_count": 25,
   "id": "afc9ba5b",
   "metadata": {},
   "outputs": [],
   "source": [
    "from sklearn.datasets import make_classification\n",
    "X,y = make_classification(n_samples=10000, n_features=10, n_informative=5,\n",
    "n_redundant=0, n_clusters_per_class=1,\n",
    "n_classes=2, weights=[0.99, 0.01],\n",
    "random_state=42)"
   ]
  },
  {
   "cell_type": "code",
   "execution_count": 26,
   "id": "0974df4d",
   "metadata": {},
   "outputs": [],
   "source": [
    "from sklearn.model_selection import train_test_split\n",
    "train_X, test_X, train_y, test_y = train_test_split(X, y, test_size=0.3,\n",
    "stratify=y, random_state=42)"
   ]
  },
  {
   "cell_type": "code",
   "execution_count": 27,
   "id": "c5c9e1c3",
   "metadata": {},
   "outputs": [
    {
     "data": {
      "text/plain": [
       "RandomForestClassifier(class_weight={0: 1, 1: 1.4}, max_features=2,\n",
       "                       random_state=42)"
      ]
     },
     "execution_count": 27,
     "metadata": {},
     "output_type": "execute_result"
    }
   ],
   "source": [
    "# model생성 시 class에 가중치 값을 딕셔너리형태로 전달\n",
    "from sklearn.ensemble import RandomForestClassifier\n",
    "rf_model = RandomForestClassifier(n_estimators=100, max_features=2,\n",
    "                            class_weight={0:1, 1:1.4},random_state=42)\n",
    "rf_model.fit(train_X, train_y)"
   ]
  },
  {
   "cell_type": "code",
   "execution_count": 28,
   "id": "564fd3d1",
   "metadata": {},
   "outputs": [
    {
     "name": "stdout",
     "output_type": "stream",
     "text": [
      "              precision    recall  f1-score   support\n",
      "\n",
      "           0       0.99      1.00      0.99      2958\n",
      "           1       1.00      0.21      0.35        42\n",
      "\n",
      "    accuracy                           0.99      3000\n",
      "   macro avg       0.99      0.61      0.67      3000\n",
      "weighted avg       0.99      0.99      0.99      3000\n",
      "\n"
     ]
    }
   ],
   "source": [
    "rfc_pred = rf_model.predict(test_X)\n",
    "from sklearn.metrics import classification_report\n",
    "print(classification_report(test_y, rfc_pred))"
   ]
  },
  {
   "cell_type": "code",
   "execution_count": null,
   "id": "286507bf",
   "metadata": {},
   "outputs": [],
   "source": []
  }
 ],
 "metadata": {
  "kernelspec": {
   "display_name": "Python 3",
   "language": "python",
   "name": "python3"
  },
  "language_info": {
   "codemirror_mode": {
    "name": "ipython",
    "version": 3
   },
   "file_extension": ".py",
   "mimetype": "text/x-python",
   "name": "python",
   "nbconvert_exporter": "python",
   "pygments_lexer": "ipython3",
   "version": "3.8.8"
  },
  "toc": {
   "base_numbering": 1,
   "nav_menu": {},
   "number_sections": true,
   "sideBar": true,
   "skip_h1_title": false,
   "title_cell": "Table of Contents",
   "title_sidebar": "Contents",
   "toc_cell": false,
   "toc_position": {},
   "toc_section_display": true,
   "toc_window_display": false
  }
 },
 "nbformat": 4,
 "nbformat_minor": 5
}
