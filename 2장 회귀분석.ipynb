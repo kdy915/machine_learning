{
 "cells": [
  {
   "cell_type": "code",
   "execution_count": 1,
   "id": "81ceded8",
   "metadata": {},
   "outputs": [],
   "source": [
    "X = [32, 64, 96, 118, 126, 144, 152, 158]\n",
    "Y = [17, 24, 62, 49, 52, 105, 130, 125]"
   ]
  },
  {
   "cell_type": "code",
   "execution_count": 2,
   "id": "810df48f",
   "metadata": {},
   "outputs": [],
   "source": [
    "import numpy as np\n",
    "A = np.c_[X,np.ones(8)]\n",
    "B = np.array(Y)"
   ]
  },
  {
   "cell_type": "code",
   "execution_count": 3,
   "id": "4517c08b",
   "metadata": {},
   "outputs": [
    {
     "data": {
      "text/plain": [
       "array([  0.87962664, -27.35846347])"
      ]
     },
     "execution_count": 3,
     "metadata": {},
     "output_type": "execute_result"
    }
   ],
   "source": [
    "model = np.linalg.inv(A.T@A) @ A.T @ B\n",
    "model"
   ]
  },
  {
   "cell_type": "code",
   "execution_count": null,
   "id": "84bc39c6",
   "metadata": {},
   "outputs": [],
   "source": [
    "# y = 0.87962 *x -27.3584인 모델이 생성된다"
   ]
  },
  {
   "cell_type": "code",
   "execution_count": 6,
   "id": "cea210a3",
   "metadata": {},
   "outputs": [],
   "source": [
    "from scipy import stats"
   ]
  },
  {
   "cell_type": "code",
   "execution_count": 7,
   "id": "3f1b7d99",
   "metadata": {},
   "outputs": [
    {
     "data": {
      "text/plain": [
       "LinregressResult(slope=0.8796266379465087, intercept=-27.3584634715491, rvalue=0.89008928103186, pvalue=0.003051790677096642, stderr=0.18388671751663876, intercept_stderr=21.848883987057672)"
      ]
     },
     "execution_count": 7,
     "metadata": {},
     "output_type": "execute_result"
    }
   ],
   "source": [
    "stats.linregress(X,Y) "
   ]
  },
  {
   "cell_type": "code",
   "execution_count": null,
   "id": "f1769e11",
   "metadata": {},
   "outputs": [],
   "source": [
    "#오차(추정값-실제값)의 제곱의 평균(mse)\n",
    "#오차(추정값-실제값)의 제곱의 평균에 루트(RMSE)"
   ]
  },
  {
   "cell_type": "code",
   "execution_count": null,
   "id": "fde629b1",
   "metadata": {},
   "outputs": [],
   "source": [
    "# 결정계수 R-squared 회귀식이 데이터를 얼마나 설명하는지의 여부 0~1사이 89%설명한다.\n",
    "# 유의확률 p-value 귀무가설을 기각하지 않을 확률"
   ]
  },
  {
   "cell_type": "code",
   "execution_count": 8,
   "id": "bc7620c3",
   "metadata": {},
   "outputs": [],
   "source": [
    "# y = a*x**2 + b*x +c"
   ]
  },
  {
   "cell_type": "code",
   "execution_count": 9,
   "id": "a2713652",
   "metadata": {},
   "outputs": [
    {
     "data": {
      "text/plain": [
       "[32, 64, 96, 118, 126, 144, 152, 158]"
      ]
     },
     "execution_count": 9,
     "metadata": {},
     "output_type": "execute_result"
    }
   ],
   "source": [
    "X"
   ]
  },
  {
   "cell_type": "code",
   "execution_count": 10,
   "id": "15f6ee1b",
   "metadata": {},
   "outputs": [
    {
     "data": {
      "text/plain": [
       "[17, 24, 62, 49, 52, 105, 130, 125]"
      ]
     },
     "execution_count": 10,
     "metadata": {},
     "output_type": "execute_result"
    }
   ],
   "source": [
    "Y"
   ]
  },
  {
   "cell_type": "code",
   "execution_count": 11,
   "id": "41390ffa",
   "metadata": {},
   "outputs": [],
   "source": [
    "fit = np.polyfit(X,Y,1)"
   ]
  },
  {
   "cell_type": "code",
   "execution_count": 12,
   "id": "a7cb1c8c",
   "metadata": {},
   "outputs": [
    {
     "data": {
      "text/plain": [
       "array([  0.87962664, -27.35846347])"
      ]
     },
     "execution_count": 12,
     "metadata": {},
     "output_type": "execute_result"
    }
   ],
   "source": [
    "fit"
   ]
  },
  {
   "cell_type": "code",
   "execution_count": 13,
   "id": "06cc1d03",
   "metadata": {},
   "outputs": [],
   "source": [
    "def func1(x):\n",
    "    y = fit[0]*x + fit[1]\n",
    "    return y"
   ]
  },
  {
   "cell_type": "code",
   "execution_count": 14,
   "id": "8e449e32",
   "metadata": {},
   "outputs": [
    {
     "data": {
      "text/plain": [
       "16.622868425776364"
      ]
     },
     "execution_count": 14,
     "metadata": {},
     "output_type": "execute_result"
    }
   ],
   "source": [
    "func1(50)"
   ]
  },
  {
   "cell_type": "code",
   "execution_count": 15,
   "id": "4568b5fa",
   "metadata": {},
   "outputs": [],
   "source": [
    "func2 = np.poly1d(fit)"
   ]
  },
  {
   "cell_type": "code",
   "execution_count": 16,
   "id": "3d44eee1",
   "metadata": {},
   "outputs": [
    {
     "data": {
      "text/plain": [
       "poly1d([  0.87962664, -27.35846347])"
      ]
     },
     "execution_count": 16,
     "metadata": {},
     "output_type": "execute_result"
    }
   ],
   "source": [
    "func2"
   ]
  },
  {
   "cell_type": "code",
   "execution_count": 17,
   "id": "68f7e5bd",
   "metadata": {},
   "outputs": [
    {
     "data": {
      "text/plain": [
       "16.622868425776364"
      ]
     },
     "execution_count": 17,
     "metadata": {},
     "output_type": "execute_result"
    }
   ],
   "source": [
    "func2(50)"
   ]
  },
  {
   "cell_type": "code",
   "execution_count": 28,
   "id": "06cb8124",
   "metadata": {},
   "outputs": [],
   "source": [
    "fit2 = np.polyfit(X,Y,2)"
   ]
  },
  {
   "cell_type": "code",
   "execution_count": 29,
   "id": "7a1a1d0f",
   "metadata": {},
   "outputs": [
    {
     "data": {
      "text/plain": [
       "array([ 9.01276143e-03, -8.67975467e-01,  3.98246113e+01])"
      ]
     },
     "execution_count": 29,
     "metadata": {},
     "output_type": "execute_result"
    }
   ],
   "source": [
    "fit2"
   ]
  },
  {
   "cell_type": "code",
   "execution_count": 30,
   "id": "11712928",
   "metadata": {},
   "outputs": [],
   "source": [
    "fit_fn2 = np.poly1d(fit2)"
   ]
  },
  {
   "cell_type": "code",
   "execution_count": 31,
   "id": "dbaa485f",
   "metadata": {},
   "outputs": [
    {
     "data": {
      "text/plain": [
       "[<matplotlib.lines.Line2D at 0x1a80dae95e0>]"
      ]
     },
     "execution_count": 31,
     "metadata": {},
     "output_type": "execute_result"
    },
    {
     "data": {
      "image/png": "[encoded data removed]",
      "text/plain": [
       "<Figure size 432x288 with 1 Axes>"
      ]
     },
     "metadata": {
      "needs_background": "light"
     },
     "output_type": "display_data"
    }
   ],
   "source": [
    "import matplotlib.pyplot as plt\n",
    "plt.scatter(X, Y)\n",
    "sample_X=np.linspace(30,160,100)\n",
    "plt.plot(sample_X,fit_fn2(sample_X))"
   ]
  },
  {
   "cell_type": "code",
   "execution_count": 33,
   "id": "6f603613",
   "metadata": {},
   "outputs": [],
   "source": [
    "def draw_polyfit(X,Y,deg=1):\n",
    "    fit2 = np.polyfit(X,Y,deg)\n",
    "    fit_fn2 = np.poly1d(fit2)\n",
    "    plt.scatter(X, Y)\n",
    "    sample_X=np.linspace(30,160,100)\n",
    "    plt.plot(sample_X,fit_fn2(sample_X))\n",
    "    plt.show()"
   ]
  },
  {
   "cell_type": "code",
   "execution_count": 38,
   "id": "d74c2e4f",
   "metadata": {},
   "outputs": [
    {
     "data": {
      "image/png": "[encoded data removed]",
      "text/plain": [
       "<Figure size 432x288 with 1 Axes>"
      ]
     },
     "metadata": {
      "needs_background": "light"
     },
     "output_type": "display_data"
    }
   ],
   "source": [
    "draw_polyfit(X,Y,4)"
   ]
  },
  {
   "cell_type": "code",
   "execution_count": null,
   "id": "64b6b8da",
   "metadata": {},
   "outputs": [],
   "source": []
  }
 ],
 "metadata": {
  "kernelspec": {
   "display_name": "Python 3 (ipykernel)",
   "language": "python",
   "name": "python3"
  },
  "language_info": {
   "codemirror_mode": {
    "name": "ipython",
    "version": 3
   },
   "file_extension": ".py",
   "mimetype": "text/x-python",
   "name": "python",
   "nbconvert_exporter": "python",
   "pygments_lexer": "ipython3",
   "version": "3.9.7"
  },
  "toc": {
   "base_numbering": 1,
   "nav_menu": {},
   "number_sections": true,
   "sideBar": true,
   "skip_h1_title": false,
   "title_cell": "Table of Contents",
   "title_sidebar": "Contents",
   "toc_cell": false,
   "toc_position": {},
   "toc_section_display": true,
   "toc_window_display": false
  }
 },
 "nbformat": 4,
 "nbformat_minor": 5
}
