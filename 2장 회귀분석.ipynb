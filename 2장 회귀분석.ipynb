{
 "cells": [
  {
   "cell_type": "markdown",
   "id": "0fb4f67f",
   "metadata": {},
   "source": [
    "# 선형 회귀 분석"
   ]
  },
  {
   "cell_type": "code",
   "execution_count": 1,
   "id": "81ceded8",
   "metadata": {},
   "outputs": [],
   "source": [
    "X = [32, 64, 96, 118, 126, 144, 152, 158]\n",
    "Y = [17, 24, 62, 49, 52, 105, 130, 125]"
   ]
  },
  {
   "cell_type": "code",
   "execution_count": 2,
   "id": "810df48f",
   "metadata": {},
   "outputs": [],
   "source": [
    "import numpy as np\n",
    "A = np.c_[X,np.ones(8)]\n",
    "B = np.array(Y)"
   ]
  },
  {
   "cell_type": "code",
   "execution_count": 3,
   "id": "4517c08b",
   "metadata": {},
   "outputs": [
    {
     "data": {
      "text/plain": [
       "array([  0.87962664, -27.35846347])"
      ]
     },
     "execution_count": 3,
     "metadata": {},
     "output_type": "execute_result"
    }
   ],
   "source": [
    "model = np.linalg.inv(A.T@A) @ A.T @ B\n",
    "model"
   ]
  },
  {
   "cell_type": "code",
   "execution_count": null,
   "id": "84bc39c6",
   "metadata": {},
   "outputs": [],
   "source": [
    "# y = 0.87962 *x -27.3584인 모델이 생성된다"
   ]
  },
  {
   "cell_type": "code",
   "execution_count": 6,
   "id": "cea210a3",
   "metadata": {},
   "outputs": [],
   "source": [
    "from scipy import stats"
   ]
  },
  {
   "cell_type": "code",
   "execution_count": 7,
   "id": "3f1b7d99",
   "metadata": {},
   "outputs": [
    {
     "data": {
      "text/plain": [
       "LinregressResult(slope=0.8796266379465087, intercept=-27.3584634715491, rvalue=0.89008928103186, pvalue=0.003051790677096642, stderr=0.18388671751663876, intercept_stderr=21.848883987057672)"
      ]
     },
     "execution_count": 7,
     "metadata": {},
     "output_type": "execute_result"
    }
   ],
   "source": [
    "stats.linregress(X,Y) "
   ]
  },
  {
   "cell_type": "code",
   "execution_count": null,
   "id": "f1769e11",
   "metadata": {},
   "outputs": [],
   "source": [
    "#오차(추정값-실제값)의 제곱의 평균(mse)\n",
    "#오차(추정값-실제값)의 제곱의 평균에 루트(RMSE)"
   ]
  },
  {
   "cell_type": "code",
   "execution_count": null,
   "id": "fde629b1",
   "metadata": {},
   "outputs": [],
   "source": [
    "# 결정계수 R-squared 회귀식이 데이터를 얼마나 설명하는지의 여부 0~1사이 89%설명한다.\n",
    "# 유의확률 p-value 귀무가설을 기각하지 않을 확률"
   ]
  },
  {
   "cell_type": "code",
   "execution_count": 8,
   "id": "bc7620c3",
   "metadata": {},
   "outputs": [],
   "source": [
    "# y = a*x**2 + b*x +c"
   ]
  },
  {
   "cell_type": "code",
   "execution_count": 9,
   "id": "a2713652",
   "metadata": {},
   "outputs": [
    {
     "data": {
      "text/plain": [
       "[32, 64, 96, 118, 126, 144, 152, 158]"
      ]
     },
     "execution_count": 9,
     "metadata": {},
     "output_type": "execute_result"
    }
   ],
   "source": [
    "X"
   ]
  },
  {
   "cell_type": "code",
   "execution_count": 10,
   "id": "15f6ee1b",
   "metadata": {},
   "outputs": [
    {
     "data": {
      "text/plain": [
       "[17, 24, 62, 49, 52, 105, 130, 125]"
      ]
     },
     "execution_count": 10,
     "metadata": {},
     "output_type": "execute_result"
    }
   ],
   "source": [
    "Y"
   ]
  },
  {
   "cell_type": "code",
   "execution_count": 11,
   "id": "41390ffa",
   "metadata": {},
   "outputs": [],
   "source": [
    "fit = np.polyfit(X,Y,1)"
   ]
  },
  {
   "cell_type": "code",
   "execution_count": 12,
   "id": "a7cb1c8c",
   "metadata": {},
   "outputs": [
    {
     "data": {
      "text/plain": [
       "array([  0.87962664, -27.35846347])"
      ]
     },
     "execution_count": 12,
     "metadata": {},
     "output_type": "execute_result"
    }
   ],
   "source": [
    "fit"
   ]
  },
  {
   "cell_type": "code",
   "execution_count": 13,
   "id": "06cc1d03",
   "metadata": {},
   "outputs": [],
   "source": [
    "def func1(x):\n",
    "    y = fit[0]*x + fit[1]\n",
    "    return y"
   ]
  },
  {
   "cell_type": "code",
   "execution_count": 14,
   "id": "8e449e32",
   "metadata": {},
   "outputs": [
    {
     "data": {
      "text/plain": [
       "16.622868425776364"
      ]
     },
     "execution_count": 14,
     "metadata": {},
     "output_type": "execute_result"
    }
   ],
   "source": [
    "func1(50)"
   ]
  },
  {
   "cell_type": "code",
   "execution_count": 15,
   "id": "4568b5fa",
   "metadata": {},
   "outputs": [],
   "source": [
    "func2 = np.poly1d(fit)"
   ]
  },
  {
   "cell_type": "code",
   "execution_count": 16,
   "id": "3d44eee1",
   "metadata": {},
   "outputs": [
    {
     "data": {
      "text/plain": [
       "poly1d([  0.87962664, -27.35846347])"
      ]
     },
     "execution_count": 16,
     "metadata": {},
     "output_type": "execute_result"
    }
   ],
   "source": [
    "func2"
   ]
  },
  {
   "cell_type": "code",
   "execution_count": 17,
   "id": "68f7e5bd",
   "metadata": {},
   "outputs": [
    {
     "data": {
      "text/plain": [
       "16.622868425776364"
      ]
     },
     "execution_count": 17,
     "metadata": {},
     "output_type": "execute_result"
    }
   ],
   "source": [
    "func2(50)"
   ]
  },
  {
   "cell_type": "code",
   "execution_count": 28,
   "id": "06cb8124",
   "metadata": {},
   "outputs": [],
   "source": [
    "fit2 = np.polyfit(X,Y,2)"
   ]
  },
  {
   "cell_type": "code",
   "execution_count": 29,
   "id": "7a1a1d0f",
   "metadata": {},
   "outputs": [
    {
     "data": {
      "text/plain": [
       "array([ 9.01276143e-03, -8.67975467e-01,  3.98246113e+01])"
      ]
     },
     "execution_count": 29,
     "metadata": {},
     "output_type": "execute_result"
    }
   ],
   "source": [
    "fit2"
   ]
  },
  {
   "cell_type": "code",
   "execution_count": 30,
   "id": "11712928",
   "metadata": {},
   "outputs": [],
   "source": [
    "fit_fn2 = np.poly1d(fit2)"
   ]
  },
  {
   "cell_type": "code",
   "execution_count": 31,
   "id": "dbaa485f",
   "metadata": {},
   "outputs": [
    {
     "data": {
      "text/plain": [
       "[<matplotlib.lines.Line2D at 0x1a80dae95e0>]"
      ]
     },
     "execution_count": 31,
     "metadata": {},
     "output_type": "execute_result"
    },
    {
     "data": {
      "image/png": "[encoded data removed]",
      "text/plain": [
       "<Figure size 432x288 with 1 Axes>"
      ]
     },
     "metadata": {
      "needs_background": "light"
     },
     "output_type": "display_data"
    }
   ],
   "source": [
    "import matplotlib.pyplot as plt\n",
    "plt.scatter(X, Y)\n",
    "sample_X=np.linspace(30,160,100)\n",
    "plt.plot(sample_X,fit_fn2(sample_X))"
   ]
  },
  {
   "cell_type": "code",
   "execution_count": 33,
   "id": "6f603613",
   "metadata": {},
   "outputs": [],
   "source": [
    "def draw_polyfit(X,Y,deg=1):\n",
    "    fit2 = np.polyfit(X,Y,deg)\n",
    "    fit_fn2 = np.poly1d(fit2)\n",
    "    plt.scatter(X, Y)\n",
    "    sample_X=np.linspace(30,160,100)\n",
    "    plt.plot(sample_X,fit_fn2(sample_X))\n",
    "    plt.show()"
   ]
  },
  {
   "cell_type": "code",
   "execution_count": 38,
   "id": "d74c2e4f",
   "metadata": {},
   "outputs": [
    {
     "data": {
      "image/png": "[encoded data removed]",
      "text/plain": [
       "<Figure size 432x288 with 1 Axes>"
      ]
     },
     "metadata": {
      "needs_background": "light"
     },
     "output_type": "display_data"
    }
   ],
   "source": [
    "draw_polyfit(X,Y,4)"
   ]
  },
  {
   "cell_type": "markdown",
   "id": "46cfc542",
   "metadata": {},
   "source": [
    "## 포뮬러를 이용한 회귀식"
   ]
  },
  {
   "cell_type": "code",
   "execution_count": 1,
   "id": "f3285e70",
   "metadata": {},
   "outputs": [],
   "source": [
    "import pandas as pd\n",
    "import numpy as np"
   ]
  },
  {
   "cell_type": "code",
   "execution_count": 2,
   "id": "b2856c80",
   "metadata": {},
   "outputs": [],
   "source": [
    "X = [32, 64, 96, 118, 126, 144, 152, 158]\n",
    "Y = [17, 24, 62, 49, 52, 105, 130, 125]"
   ]
  },
  {
   "cell_type": "code",
   "execution_count": 3,
   "id": "9328705f",
   "metadata": {},
   "outputs": [],
   "source": [
    "df = pd.DataFrame(np.c_[X,Y], columns=['x','y'])"
   ]
  },
  {
   "cell_type": "code",
   "execution_count": 5,
   "id": "4c1e6ffb",
   "metadata": {},
   "outputs": [
    {
     "data": {
      "text/plain": [
       "Intercept   -27.358463\n",
       "X             0.879627\n",
       "dtype: float64"
      ]
     },
     "execution_count": 5,
     "metadata": {},
     "output_type": "execute_result"
    }
   ],
   "source": [
    "from statsmodels.formula.api import ols\n",
    "model = ols('Y ~ X', data = df)\n",
    "result = model.fit()\n",
    "result.params"
   ]
  },
  {
   "cell_type": "code",
   "execution_count": 19,
   "id": "0695d569",
   "metadata": {},
   "outputs": [
    {
     "data": {
      "text/plain": [
       "x            1.005637\n",
       "I(x ** 2)   -0.013981\n",
       "I(x ** 3)    0.000082\n",
       "dtype: float64"
      ]
     },
     "execution_count": 19,
     "metadata": {},
     "output_type": "execute_result"
    }
   ],
   "source": [
    "model2 = ols(\"y ~ x + I(x**2) + I(x**3) -1 \",data=df)\n",
    "result2 = model2.fit()\n",
    "result2.params"
   ]
  },
  {
   "cell_type": "code",
   "execution_count": 16,
   "id": "99163f54",
   "metadata": {},
   "outputs": [],
   "source": [
    "y_ = result2.predict(df.x)"
   ]
  },
  {
   "cell_type": "code",
   "execution_count": 17,
   "id": "d056f608",
   "metadata": {},
   "outputs": [],
   "source": [
    "import matplotlib.pyplot as plt\n",
    "%matplotlib inline"
   ]
  },
  {
   "cell_type": "code",
   "execution_count": 18,
   "id": "77409e82",
   "metadata": {},
   "outputs": [
    {
     "data": {
      "image/png": "[encoded data removed]",
      "text/plain": [
       "<Figure size 432x288 with 1 Axes>"
      ]
     },
     "metadata": {
      "needs_background": "light"
     },
     "output_type": "display_data"
    }
   ],
   "source": [
    "plt.scatter(X,Y)\n",
    "plt.plot(X,y_)\n",
    "plt.show()"
   ]
  },
  {
   "cell_type": "code",
   "execution_count": 46,
   "id": "f38fa934",
   "metadata": {},
   "outputs": [],
   "source": [
    "import numpy as np\n",
    "n_samples = 30\n",
    "np.random.seed(0)\n",
    "X = np.sort(np.random.rand(n_samples))\n",
    "y = np.sin(2*np.pi * X) + np.random.randn(n_samples)*0.1"
   ]
  },
  {
   "cell_type": "code",
   "execution_count": 47,
   "id": "5c8f536d",
   "metadata": {},
   "outputs": [],
   "source": [
    "import matplotlib.pyplot as plt\n",
    "%matplotlib inline"
   ]
  },
  {
   "cell_type": "code",
   "execution_count": 48,
   "id": "ea9adda8",
   "metadata": {},
   "outputs": [
    {
     "data": {
      "image/png": "[encoded data removed]",
      "text/plain": [
       "<Figure size 432x288 with 1 Axes>"
      ]
     },
     "metadata": {
      "needs_background": "light"
     },
     "output_type": "display_data"
    }
   ],
   "source": [
    "plt.scatter(X,y)\n",
    "plt.show()"
   ]
  },
  {
   "cell_type": "code",
   "execution_count": 49,
   "id": "8171d2a5",
   "metadata": {},
   "outputs": [
    {
     "data": {
      "text/plain": [
       "Intercept    0.713959\n",
       "x           -1.642204\n",
       "dtype: float64"
      ]
     },
     "execution_count": 49,
     "metadata": {},
     "output_type": "execute_result"
    }
   ],
   "source": [
    "df = pd.DataFrame(np.c_[X,y], columns=['x','y'])\n",
    "model = ols('y ~ x', data=df)\n",
    "result = model.fit()\n",
    "result.params"
   ]
  },
  {
   "cell_type": "code",
   "execution_count": 50,
   "id": "6aa7c8ee",
   "metadata": {},
   "outputs": [],
   "source": [
    "import matplotlib.pyplot as plt\n",
    "%matplotlib inline"
   ]
  },
  {
   "cell_type": "code",
   "execution_count": 51,
   "id": "2abb7d97",
   "metadata": {},
   "outputs": [
    {
     "data": {
      "image/png": "[encoded data removed]",
      "text/plain": [
       "<Figure size 432x288 with 1 Axes>"
      ]
     },
     "metadata": {
      "needs_background": "light"
     },
     "output_type": "display_data"
    }
   ],
   "source": [
    "plt.scatter(X,y)\n",
    "xx = np.linspace(0,1,1000)\n",
    "plt.plot(xx, result.predict({'x':xx}))\n",
    "plt.show()"
   ]
  },
  {
   "cell_type": "markdown",
   "id": "7ee1e227",
   "metadata": {},
   "source": [
    "### 정규화를 하지 않은 회귀모형"
   ]
  },
  {
   "cell_type": "code",
   "execution_count": 52,
   "id": "6c6d469c",
   "metadata": {},
   "outputs": [],
   "source": [
    "from statsmodels.formula.api import ols"
   ]
  },
  {
   "cell_type": "code",
   "execution_count": 53,
   "id": "48f0b73c",
   "metadata": {},
   "outputs": [],
   "source": [
    "model9 = ols(\"y ~ x + I(x**2) + I(x**3) + I(x**4) + I(x**5) + I(x**6) +\\\n",
    "I(x**7) + I(x**8) + I(x**9)\", data=df)"
   ]
  },
  {
   "cell_type": "code",
   "execution_count": 54,
   "id": "20186e40",
   "metadata": {},
   "outputs": [
    {
     "data": {
      "text/plain": [
       "Intercept       -0.169863\n",
       "x               25.735773\n",
       "I(x ** 2)     -428.141683\n",
       "I(x ** 3)     3866.723113\n",
       "I(x ** 4)   -18340.939657\n",
       "I(x ** 5)    49326.072526\n",
       "I(x ** 6)   -78884.743043\n",
       "I(x ** 7)    74538.645124\n",
       "I(x ** 8)   -38453.132176\n",
       "I(x ** 9)     8350.254983\n",
       "dtype: float64"
      ]
     },
     "execution_count": 54,
     "metadata": {},
     "output_type": "execute_result"
    }
   ],
   "source": [
    "result9 = model9.fit()\n",
    "result9.params"
   ]
  },
  {
   "cell_type": "code",
   "execution_count": 55,
   "id": "12065c60",
   "metadata": {},
   "outputs": [
    {
     "data": {
      "image/png": "[encoded data removed]",
      "text/plain": [
       "<Figure size 432x288 with 1 Axes>"
      ]
     },
     "metadata": {
      "needs_background": "light"
     },
     "output_type": "display_data"
    }
   ],
   "source": [
    "plt.scatter(X,y)\n",
    "plt.plot(xx, result9.predict({'x':xx}))\n",
    "plt.show()"
   ]
  },
  {
   "cell_type": "markdown",
   "id": "dd7b1f87",
   "metadata": {},
   "source": [
    "### Lasso 회귀모형"
   ]
  },
  {
   "cell_type": "code",
   "execution_count": 65,
   "id": "2248f982",
   "metadata": {},
   "outputs": [],
   "source": [
    "model9 = ols(\"y ~ x + I(x**2) + I(x**3) + I(x**4) + I(x**5) + I(x**6) +\\\n",
    "I(x**7) + I(x**8) + I(x**9)\", data=df)"
   ]
  },
  {
   "cell_type": "code",
   "execution_count": 66,
   "id": "6a524f90",
   "metadata": {},
   "outputs": [
    {
     "name": "stdout",
     "output_type": "stream",
     "text": [
      "Intercept    0.687949\n",
      "x           -1.129134\n",
      "I(x ** 2)   -1.124878\n",
      "I(x ** 3)    0.000000\n",
      "I(x ** 4)    0.000000\n",
      "I(x ** 5)    0.000000\n",
      "I(x ** 6)    0.000000\n",
      "I(x ** 7)    0.000000\n",
      "I(x ** 8)    0.281484\n",
      "I(x ** 9)    1.075281\n",
      "dtype: float64\n"
     ]
    }
   ],
   "source": [
    "result9 = model9.fit_regularized(L1_wt=1, alpha=0.01)\n",
    "print(result9.params)"
   ]
  },
  {
   "cell_type": "code",
   "execution_count": 58,
   "id": "e0cc11ca",
   "metadata": {},
   "outputs": [
    {
     "data": {
      "image/png": "[encoded data removed]",
      "text/plain": [
       "<Figure size 432x288 with 1 Axes>"
      ]
     },
     "metadata": {
      "needs_background": "light"
     },
     "output_type": "display_data"
    }
   ],
   "source": [
    "plt.scatter(X,y)\n",
    "plt.plot(xx, result9.predict({'x':xx}))\n",
    "plt.show()"
   ]
  },
  {
   "cell_type": "markdown",
   "id": "973dbce9",
   "metadata": {},
   "source": [
    "### Ridge 회귀모형"
   ]
  },
  {
   "cell_type": "code",
   "execution_count": 69,
   "id": "2f63966e",
   "metadata": {},
   "outputs": [],
   "source": [
    "model9 = ols(\"y ~ x + I(x**2) + I(x**3) + I(x**4) + I(x**5) + I(x**6) +\\\n",
    "I(x**7) + I(x**8) + I(x**9)\", data=df)"
   ]
  },
  {
   "cell_type": "code",
   "execution_count": 70,
   "id": "a558de63",
   "metadata": {},
   "outputs": [
    {
     "name": "stdout",
     "output_type": "stream",
     "text": [
      "[ 0.63308745 -0.75705866 -1.07056551 -0.76835135 -0.35530367  0.0121939\n",
      "  0.29917825  0.50969248  0.65793698  0.75851865]\n"
     ]
    }
   ],
   "source": [
    "result9 = model9.fit_regularized(L1_wt = 0, alpha=0.01)\n",
    "print(result9.params)"
   ]
  },
  {
   "cell_type": "code",
   "execution_count": 71,
   "id": "30391412",
   "metadata": {},
   "outputs": [
    {
     "data": {
      "image/png": "[encoded data removed]",
      "text/plain": [
       "<Figure size 432x288 with 1 Axes>"
      ]
     },
     "metadata": {
      "needs_background": "light"
     },
     "output_type": "display_data"
    }
   ],
   "source": [
    "plt.scatter(X, y)\n",
    "plt.plot(xx, result9.predict({\"x\":xx}))\n",
    "plt.show()"
   ]
  },
  {
   "cell_type": "markdown",
   "id": "3d29f36b",
   "metadata": {},
   "source": [
    "### Elastic Net 회귀모형"
   ]
  },
  {
   "cell_type": "code",
   "execution_count": 76,
   "id": "8e6865aa",
   "metadata": {},
   "outputs": [],
   "source": [
    "model9 = ols(\"y ~ x + I(x**2) + I(x**3) + I(x**4) + I(x**5) + I(x**6) +\\\n",
    "I(x**7) + I(x**8) + I(x**9)\", data=df)"
   ]
  },
  {
   "cell_type": "code",
   "execution_count": 79,
   "id": "59c1b217",
   "metadata": {},
   "outputs": [
    {
     "name": "stdout",
     "output_type": "stream",
     "text": [
      "Intercept    0.656203\n",
      "x           -0.849745\n",
      "I(x ** 2)   -1.262902\n",
      "I(x ** 3)   -0.425687\n",
      "I(x ** 4)    0.000000\n",
      "I(x ** 5)    0.000000\n",
      "I(x ** 6)    0.000000\n",
      "I(x ** 7)    0.304049\n",
      "I(x ** 8)    0.631908\n",
      "I(x ** 9)    0.801206\n",
      "dtype: float64\n"
     ]
    }
   ],
   "source": [
    "result9 = model9.fit_regularized(L1_wt=0.5, alpha=0.01)\n",
    "print(result9.params)"
   ]
  },
  {
   "cell_type": "code",
   "execution_count": 80,
   "id": "a4a6a8f0",
   "metadata": {},
   "outputs": [
    {
     "data": {
      "image/png": "[encoded data removed]",
      "text/plain": [
       "<Figure size 432x288 with 1 Axes>"
      ]
     },
     "metadata": {
      "needs_background": "light"
     },
     "output_type": "display_data"
    }
   ],
   "source": [
    "plt.scatter(X,y)\n",
    "plt.plot(xx,result9.predict({'x':xx}))\n",
    "plt.show()"
   ]
  },
  {
   "cell_type": "markdown",
   "id": "4bea7dd6",
   "metadata": {},
   "source": [
    "## scikit-Learn의 정규화 회귀모형"
   ]
  },
  {
   "cell_type": "markdown",
   "id": "c35a13b6",
   "metadata": {},
   "source": [
    "### 일반 회귀"
   ]
  },
  {
   "cell_type": "code",
   "execution_count": 81,
   "id": "6d243fe8",
   "metadata": {},
   "outputs": [],
   "source": [
    "import numpy as np\n",
    "import pandas as pd\n",
    "import matplotlib.pyplot as plt\n",
    "%matplotlib inline"
   ]
  },
  {
   "cell_type": "code",
   "execution_count": 83,
   "id": "3e3af4a7",
   "metadata": {},
   "outputs": [],
   "source": [
    "np.random.seed(0)\n",
    "n_samples=30\n",
    "x = np.sort(np.random.rand(n_samples))\n",
    "y = np.sin(2 * np.pi * x) + np.random.randn(n_samples) * 0.1\n",
    "X = X[:,np.newaxis]"
   ]
  },
  {
   "cell_type": "code",
   "execution_count": 91,
   "id": "cffd05c6",
   "metadata": {},
   "outputs": [],
   "source": [
    "def plot_model(model):\n",
    "    plt.scatter(X,y)\n",
    "    x = np.linspace(0,1,1000)\n",
    "    plt.plot(x, model.predict(x[:,np.newaxis]))\n",
    "    plt.show()"
   ]
  },
  {
   "cell_type": "code",
   "execution_count": 92,
   "id": "93890f7b",
   "metadata": {},
   "outputs": [],
   "source": [
    "from sklearn.preprocessing import PolynomialFeatures\n",
    "from sklearn.pipeline import make_pipeline\n",
    "from sklearn.linear_model import LinearRegression"
   ]
  },
  {
   "cell_type": "code",
   "execution_count": 93,
   "id": "98aeae15",
   "metadata": {},
   "outputs": [
    {
     "name": "stdout",
     "output_type": "stream",
     "text": [
      "[ 0.00000000e+00  2.57357731e+01 -4.28141684e+02  3.86672312e+03\n",
      " -1.83409397e+04  4.93260726e+04 -7.88847431e+04  7.45386452e+04\n",
      " -3.84531322e+04  8.35025499e+03]\n"
     ]
    },
    {
     "data": {
      "image/png": "[encoded data removed]",
      "text/plain": [
       "<Figure size 432x288 with 1 Axes>"
      ]
     },
     "metadata": {
      "needs_background": "light"
     },
     "output_type": "display_data"
    }
   ],
   "source": [
    "poly = PolynomialFeatures(9)\n",
    "model = make_pipeline(poly, LinearRegression()).fit(X,y)\n",
    "print(model.steps[1][1].coef_)\n",
    "plot_model(model)"
   ]
  },
  {
   "cell_type": "markdown",
   "id": "47b359fb",
   "metadata": {},
   "source": [
    "### Lasso"
   ]
  },
  {
   "cell_type": "code",
   "execution_count": null,
   "id": "c2612c83",
   "metadata": {},
   "outputs": [],
   "source": [
    "from sklearn.linear_model import Lasso\n",
    "model = make_pipeline(poly, Lasso(alpha=0.01)).fit(X, y)\n",
    "print(model.steps[1][1].coef_)\n",
    "plot_model(model)"
   ]
  },
  {
   "cell_type": "markdown",
   "id": "5c500803",
   "metadata": {},
   "source": [
    "### Ridge"
   ]
  },
  {
   "cell_type": "code",
   "execution_count": null,
   "id": "6d9baab4",
   "metadata": {},
   "outputs": [],
   "source": [
    "from sklearn.linear_model import Ridge\n",
    "model = make_pipeline(poly, Ridge(alpha=0.01)).fit(X, y)\n",
    "print(model.steps[1][1].coef_)\n",
    "plot_model(model)"
   ]
  },
  {
   "cell_type": "markdown",
   "id": "08ce845d",
   "metadata": {},
   "source": [
    "### Elastic Net"
   ]
  },
  {
   "cell_type": "code",
   "execution_count": null,
   "id": "9a59dcc6",
   "metadata": {},
   "outputs": [],
   "source": [
    "from sklearn.linear_model import ElasticNet\n",
    "model = make_pipeline(poly, ElasticNet(alpha=0.01, l1_ratio=0.5)).fit(X, y)\n",
    "print(model.steps[1][1].coef_)\n",
    "plot_model(model)"
   ]
  },
  {
   "cell_type": "code",
   "execution_count": null,
   "id": "4acb0879",
   "metadata": {},
   "outputs": [],
   "source": [
    "from sklearn.datasets import load_diabetes\n",
    "diabetes = load_diabetes()\n",
    "X = diabetes.data\n",
    "y = diabetes.target\n",
    "import numpy as np\n",
    "import pandas as pd\n",
    "from sklearn.linear_model import Ridge\n",
    "alpha = np.logspace(-3, 1, 5)\n",
    "data = []\n",
    "for i, a in enumerate(alpha):\n",
    "ridge = Ridge(alpha=a).fit(X, y)\n",
    "data.append(pd.Series(np.hstack([ridge.intercept_, ridge.coef_])))\n",
    "df_ridge = pd.DataFrame(data, index=alpha).T\n",
    "df_ridge"
   ]
  },
  {
   "cell_type": "code",
   "execution_count": null,
   "id": "49a60a32",
   "metadata": {},
   "outputs": [],
   "source": [
    "import numpy as np\n",
    "import pandas as pd\n",
    "from sklearn.linear_model import Lasso\n",
    "alpha = np.logspace(-3, 1, 5)\n",
    "data = []\n",
    "for i, a in enumerate(alpha):\n",
    "    lasso = Lasso(alpha=a).fit(X, y)\n",
    "    data.append(pd.Series(np.hstack([lasso.intercept_, lasso.coef_])))\n",
    "df_lasso = pd.DataFrame(data, index=alpha).T\n",
    "df_lasso"
   ]
  },
  {
   "cell_type": "code",
   "execution_count": null,
   "id": "b0246fe2",
   "metadata": {},
   "outputs": [],
   "source": [
    "ax1 = plt.subplot(121)\n",
    "plt.semilogx(df_ridge.T)\n",
    "plt.xticks(alpha, label=np.log10(alpha))\n",
    "plt.title(\"Ridge\")\n",
    "ax2 = plt.subplot(122)\n",
    "plt.semilogx(df_lasso.T)\n",
    "plt.xticks(alpha, label=np.log10(alpha))\n",
    "plt.title(\"Lasso\")\n",
    "plt.show()"
   ]
  },
  {
   "cell_type": "markdown",
   "id": "c38b29c9",
   "metadata": {},
   "source": [
    "# 다중 회귀분석"
   ]
  },
  {
   "cell_type": "code",
   "execution_count": 94,
   "id": "ca49c6d2",
   "metadata": {},
   "outputs": [],
   "source": [
    "from sklearn.datasets import load_boston\n",
    "boston = load_boston()\n",
    "X = boston.data\n",
    "y = boston.target"
   ]
  },
  {
   "cell_type": "code",
   "execution_count": 95,
   "id": "3d01a787",
   "metadata": {},
   "outputs": [],
   "source": [
    "from sklearn.model_selection import train_test_split\n",
    "train_X, test_X, train_y, test_y = train_test_split(X,y,test_size=0.3)"
   ]
  },
  {
   "cell_type": "code",
   "execution_count": 96,
   "id": "6f979f75",
   "metadata": {},
   "outputs": [
    {
     "data": {
      "text/plain": [
       "LinearRegression()"
      ]
     },
     "execution_count": 96,
     "metadata": {},
     "output_type": "execute_result"
    }
   ],
   "source": [
    "from sklearn.linear_model import LinearRegression\n",
    "model_boston = LinearRegression()\n",
    "model_boston.fit(train_X, train_y)"
   ]
  },
  {
   "cell_type": "markdown",
   "id": "e7a58809",
   "metadata": {},
   "source": [
    "##### score는 R2결정계수(상관계수 제곱)를 출력한다"
   ]
  },
  {
   "cell_type": "code",
   "execution_count": 97,
   "id": "1f5bb340",
   "metadata": {},
   "outputs": [
    {
     "data": {
      "text/plain": [
       "0.7239556993159119"
      ]
     },
     "execution_count": 97,
     "metadata": {},
     "output_type": "execute_result"
    }
   ],
   "source": [
    "model_boston.score(train_X, train_y)"
   ]
  },
  {
   "cell_type": "code",
   "execution_count": 101,
   "id": "11f6d1e6",
   "metadata": {},
   "outputs": [
    {
     "data": {
      "text/plain": [
       "array([0.66113501, 0.69214809, 0.57776026, 0.74143865, 0.59846302])"
      ]
     },
     "execution_count": 101,
     "metadata": {},
     "output_type": "execute_result"
    }
   ],
   "source": [
    "from sklearn.model_selection import cross_val_score\n",
    "r2 = cross_val_score(model_boston, train_X, train_y, cv=5)\n",
    "r2"
   ]
  },
  {
   "cell_type": "code",
   "execution_count": 102,
   "id": "873190d4",
   "metadata": {},
   "outputs": [
    {
     "data": {
      "text/plain": [
       "0.6541890080257788"
      ]
     },
     "execution_count": 102,
     "metadata": {},
     "output_type": "execute_result"
    }
   ],
   "source": [
    "r2.mean()"
   ]
  },
  {
   "cell_type": "markdown",
   "id": "e49a74d5",
   "metadata": {},
   "source": [
    "##### mse, rmse로 모델 평가하기 mse에 루트는 rmse"
   ]
  },
  {
   "cell_type": "code",
   "execution_count": 104,
   "id": "bf4924c1",
   "metadata": {},
   "outputs": [
    {
     "data": {
      "text/plain": [
       "4.897816990524917"
      ]
     },
     "execution_count": 104,
     "metadata": {},
     "output_type": "execute_result"
    }
   ],
   "source": [
    "import math\n",
    "from sklearn.metrics import mean_squared_error\n",
    "math.sqrt(mean_squared_error(train_y, model_boston.predict(train_X)))"
   ]
  },
  {
   "cell_type": "code",
   "execution_count": 105,
   "id": "2138d0fd",
   "metadata": {},
   "outputs": [
    {
     "data": {
      "text/plain": [
       "array([30.7032547 , 35.80979992, 18.04955474, 22.89317862, 23.14953529,\n",
       "       20.50455574,  6.84024331, 21.01811277, 23.32224062, 18.36324033,\n",
       "       10.11720854, 27.1652576 , 25.4076632 , 18.85803365, 32.92741839,\n",
       "       30.69851475, 17.76547532, 10.60177536, 27.14925315, 15.06461734,\n",
       "       18.26929532, 27.82076062, 21.54797712, 34.42336903, 23.27878763,\n",
       "       28.29563701, 26.50356218, 19.45605401, 20.42651237, 26.2626683 ,\n",
       "       38.67717312, 24.86272107, 20.07410651, 13.39156544, 14.73220266,\n",
       "       20.35324272, 17.96466757, 31.25045294, 39.11708652, 27.1283693 ,\n",
       "       24.98434249, 19.78798185, 18.92826258, 24.32047345, 15.58407122,\n",
       "       14.76511889, 30.92076081, 22.13540571, 19.06096416, 25.53225876,\n",
       "       19.44199593, 20.73940371, 24.94600043, 23.65677886, 20.76606663,\n",
       "       14.3727438 ,  7.32417756, 24.46311992, 12.25150209, 19.26202879,\n",
       "       17.77032628, 22.11063325, 12.27156309, 24.73882362, 21.23578672,\n",
       "       23.33716934, 20.42077019, 36.03190177, 24.02350731, 32.98581902,\n",
       "       25.38144485, 27.86593682, 17.190201  ,  5.48261105, 21.53654828,\n",
       "       21.85950592, 20.65935865, 32.79978446, 38.67873281, 23.68977823,\n",
       "       37.08704487, 18.87050673, 21.35849243, 20.37449768, 25.22923617,\n",
       "       14.24166907, 37.07351306, 20.50541374, 19.99910314, 20.30014573,\n",
       "       25.44267811, 21.32548873, 17.93614694, 40.21135047, 19.41553217,\n",
       "       40.43773963, 30.87424711, 23.51089877, 24.93936427, 21.27594854,\n",
       "       14.63135927, 32.87356877, 21.66982377,  7.94024833, 19.61151012,\n",
       "       23.14585405, 32.75654838, 27.76264802, 28.67235092, 24.72280772,\n",
       "       24.78461045, 16.20778932, 18.77741688, 22.46381476, 20.56556673,\n",
       "       16.96123254, 22.93126045, 30.16197553, 31.22774521, 18.98867777,\n",
       "       30.32344675, 24.75184849, 30.92279844, 26.86185336, 31.48961205,\n",
       "       13.44824508, 10.00674909,  3.83462436, 21.65298855, 27.41763298,\n",
       "       31.7475772 , 32.43103052, 16.69403579, 32.34645507, 12.19865771,\n",
       "       19.48469178, 21.47291965, 17.73509372, 22.44218545, 19.80400365,\n",
       "       27.30423263, 21.04765094, 19.25580981, 23.03251069, 24.78625455,\n",
       "       13.90672336, 44.45518528, 18.68417868, 17.16983505, 34.02312348,\n",
       "       20.99647103, 22.03912149])"
      ]
     },
     "execution_count": 105,
     "metadata": {},
     "output_type": "execute_result"
    }
   ],
   "source": [
    "y_pred = model_boston.predict(test_X)\n",
    "y_pred"
   ]
  },
  {
   "cell_type": "code",
   "execution_count": 106,
   "id": "6d555496",
   "metadata": {},
   "outputs": [],
   "source": [
    "import math\n",
    "from sklearn.metrics import mean_squared_error"
   ]
  },
  {
   "cell_type": "code",
   "execution_count": 107,
   "id": "e3840b75",
   "metadata": {},
   "outputs": [
    {
     "data": {
      "text/plain": [
       "4.1982157082568055"
      ]
     },
     "execution_count": 107,
     "metadata": {},
     "output_type": "execute_result"
    }
   ],
   "source": [
    "rmse_test= math.sqrt(mean_squared_error(test_y, y_pred))\n",
    "rmse_test"
   ]
  },
  {
   "cell_type": "code",
   "execution_count": 108,
   "id": "56da9907",
   "metadata": {},
   "outputs": [
    {
     "data": {
      "text/plain": [
       "0.7757635206336674"
      ]
     },
     "execution_count": 108,
     "metadata": {},
     "output_type": "execute_result"
    }
   ],
   "source": [
    "from sklearn.metrics import r2_score\n",
    "r2_score(test_y, y_pred)"
   ]
  },
  {
   "cell_type": "code",
   "execution_count": 109,
   "id": "d16f2443",
   "metadata": {},
   "outputs": [
    {
     "data": {
      "text/html": [
       "<div>\n",
       "<style scoped>\n",
       "    .dataframe tbody tr th:only-of-type {\n",
       "        vertical-align: middle;\n",
       "    }\n",
       "\n",
       "    .dataframe tbody tr th {\n",
       "        vertical-align: top;\n",
       "    }\n",
       "\n",
       "    .dataframe thead th {\n",
       "        text-align: right;\n",
       "    }\n",
       "</style>\n",
       "<table border=\"1\" class=\"dataframe\">\n",
       "  <thead>\n",
       "    <tr style=\"text-align: right;\">\n",
       "      <th></th>\n",
       "      <th>crim</th>\n",
       "      <th>zn</th>\n",
       "      <th>indus</th>\n",
       "      <th>chas</th>\n",
       "      <th>nox</th>\n",
       "      <th>rm</th>\n",
       "      <th>age</th>\n",
       "      <th>dis</th>\n",
       "      <th>rad</th>\n",
       "      <th>tax</th>\n",
       "      <th>ptratio</th>\n",
       "      <th>black</th>\n",
       "      <th>lstat</th>\n",
       "      <th>medv</th>\n",
       "    </tr>\n",
       "  </thead>\n",
       "  <tbody>\n",
       "    <tr>\n",
       "      <th>0</th>\n",
       "      <td>0.00632</td>\n",
       "      <td>18.0</td>\n",
       "      <td>2.31</td>\n",
       "      <td>0</td>\n",
       "      <td>0.538</td>\n",
       "      <td>6.575</td>\n",
       "      <td>65.2</td>\n",
       "      <td>4.0900</td>\n",
       "      <td>1</td>\n",
       "      <td>296</td>\n",
       "      <td>15.3</td>\n",
       "      <td>396.90</td>\n",
       "      <td>4.98</td>\n",
       "      <td>24.0</td>\n",
       "    </tr>\n",
       "    <tr>\n",
       "      <th>1</th>\n",
       "      <td>0.02731</td>\n",
       "      <td>0.0</td>\n",
       "      <td>7.07</td>\n",
       "      <td>0</td>\n",
       "      <td>0.469</td>\n",
       "      <td>6.421</td>\n",
       "      <td>78.9</td>\n",
       "      <td>4.9671</td>\n",
       "      <td>2</td>\n",
       "      <td>242</td>\n",
       "      <td>17.8</td>\n",
       "      <td>396.90</td>\n",
       "      <td>9.14</td>\n",
       "      <td>21.6</td>\n",
       "    </tr>\n",
       "    <tr>\n",
       "      <th>2</th>\n",
       "      <td>0.02729</td>\n",
       "      <td>0.0</td>\n",
       "      <td>7.07</td>\n",
       "      <td>0</td>\n",
       "      <td>0.469</td>\n",
       "      <td>7.185</td>\n",
       "      <td>61.1</td>\n",
       "      <td>4.9671</td>\n",
       "      <td>2</td>\n",
       "      <td>242</td>\n",
       "      <td>17.8</td>\n",
       "      <td>392.83</td>\n",
       "      <td>4.03</td>\n",
       "      <td>34.7</td>\n",
       "    </tr>\n",
       "    <tr>\n",
       "      <th>3</th>\n",
       "      <td>0.03237</td>\n",
       "      <td>0.0</td>\n",
       "      <td>2.18</td>\n",
       "      <td>0</td>\n",
       "      <td>0.458</td>\n",
       "      <td>6.998</td>\n",
       "      <td>45.8</td>\n",
       "      <td>6.0622</td>\n",
       "      <td>3</td>\n",
       "      <td>222</td>\n",
       "      <td>18.7</td>\n",
       "      <td>394.63</td>\n",
       "      <td>2.94</td>\n",
       "      <td>33.4</td>\n",
       "    </tr>\n",
       "    <tr>\n",
       "      <th>4</th>\n",
       "      <td>0.06905</td>\n",
       "      <td>0.0</td>\n",
       "      <td>2.18</td>\n",
       "      <td>0</td>\n",
       "      <td>0.458</td>\n",
       "      <td>7.147</td>\n",
       "      <td>54.2</td>\n",
       "      <td>6.0622</td>\n",
       "      <td>3</td>\n",
       "      <td>222</td>\n",
       "      <td>18.7</td>\n",
       "      <td>396.90</td>\n",
       "      <td>5.33</td>\n",
       "      <td>36.2</td>\n",
       "    </tr>\n",
       "  </tbody>\n",
       "</table>\n",
       "</div>"
      ],
      "text/plain": [
       "      crim    zn  indus  chas    nox     rm   age     dis  rad  tax  ptratio  \\\n",
       "0  0.00632  18.0   2.31     0  0.538  6.575  65.2  4.0900    1  296     15.3   \n",
       "1  0.02731   0.0   7.07     0  0.469  6.421  78.9  4.9671    2  242     17.8   \n",
       "2  0.02729   0.0   7.07     0  0.469  7.185  61.1  4.9671    2  242     17.8   \n",
       "3  0.03237   0.0   2.18     0  0.458  6.998  45.8  6.0622    3  222     18.7   \n",
       "4  0.06905   0.0   2.18     0  0.458  7.147  54.2  6.0622    3  222     18.7   \n",
       "\n",
       "    black  lstat  medv  \n",
       "0  396.90   4.98  24.0  \n",
       "1  396.90   9.14  21.6  \n",
       "2  392.83   4.03  34.7  \n",
       "3  394.63   2.94  33.4  \n",
       "4  396.90   5.33  36.2  "
      ]
     },
     "execution_count": 109,
     "metadata": {},
     "output_type": "execute_result"
    }
   ],
   "source": [
    "import statsmodels.api as sm\n",
    "Boston = sm.datasets.get_rdataset('Boston', package='MASS')\n",
    "boston_df = Boston.data\n",
    "boston_df.head()"
   ]
  },
  {
   "cell_type": "code",
   "execution_count": 111,
   "id": "14e46e05",
   "metadata": {},
   "outputs": [],
   "source": [
    "import statsmodels.formula.api as smf\n",
    "formula = 'medv~'+'+'.join(boston_df.iloc[:,:-1].columns)\n",
    "model_boston = smf.ols(formula=formula, data=boston_df).fit()"
   ]
  },
  {
   "cell_type": "code",
   "execution_count": 112,
   "id": "b89bb86e",
   "metadata": {},
   "outputs": [
    {
     "data": {
      "text/html": [
       "<table class=\"simpletable\">\n",
       "<caption>OLS Regression Results</caption>\n",
       "<tr>\n",
       "  <th>Dep. Variable:</th>          <td>medv</td>       <th>  R-squared:         </th> <td>   0.741</td> \n",
       "</tr>\n",
       "<tr>\n",
       "  <th>Model:</th>                   <td>OLS</td>       <th>  Adj. R-squared:    </th> <td>   0.734</td> \n",
       "</tr>\n",
       "<tr>\n",
       "  <th>Method:</th>             <td>Least Squares</td>  <th>  F-statistic:       </th> <td>   108.1</td> \n",
       "</tr>\n",
       "<tr>\n",
       "  <th>Date:</th>             <td>Mon, 10 Jan 2022</td> <th>  Prob (F-statistic):</th> <td>6.72e-135</td>\n",
       "</tr>\n",
       "<tr>\n",
       "  <th>Time:</th>                 <td>12:28:31</td>     <th>  Log-Likelihood:    </th> <td> -1498.8</td> \n",
       "</tr>\n",
       "<tr>\n",
       "  <th>No. Observations:</th>      <td>   506</td>      <th>  AIC:               </th> <td>   3026.</td> \n",
       "</tr>\n",
       "<tr>\n",
       "  <th>Df Residuals:</th>          <td>   492</td>      <th>  BIC:               </th> <td>   3085.</td> \n",
       "</tr>\n",
       "<tr>\n",
       "  <th>Df Model:</th>              <td>    13</td>      <th>                     </th>     <td> </td>    \n",
       "</tr>\n",
       "<tr>\n",
       "  <th>Covariance Type:</th>      <td>nonrobust</td>    <th>                     </th>     <td> </td>    \n",
       "</tr>\n",
       "</table>\n",
       "<table class=\"simpletable\">\n",
       "<tr>\n",
       "      <td></td>         <th>coef</th>     <th>std err</th>      <th>t</th>      <th>P>|t|</th>  <th>[0.025</th>    <th>0.975]</th>  \n",
       "</tr>\n",
       "<tr>\n",
       "  <th>Intercept</th> <td>   36.4595</td> <td>    5.103</td> <td>    7.144</td> <td> 0.000</td> <td>   26.432</td> <td>   46.487</td>\n",
       "</tr>\n",
       "<tr>\n",
       "  <th>crim</th>      <td>   -0.1080</td> <td>    0.033</td> <td>   -3.287</td> <td> 0.001</td> <td>   -0.173</td> <td>   -0.043</td>\n",
       "</tr>\n",
       "<tr>\n",
       "  <th>zn</th>        <td>    0.0464</td> <td>    0.014</td> <td>    3.382</td> <td> 0.001</td> <td>    0.019</td> <td>    0.073</td>\n",
       "</tr>\n",
       "<tr>\n",
       "  <th>indus</th>     <td>    0.0206</td> <td>    0.061</td> <td>    0.334</td> <td> 0.738</td> <td>   -0.100</td> <td>    0.141</td>\n",
       "</tr>\n",
       "<tr>\n",
       "  <th>chas</th>      <td>    2.6867</td> <td>    0.862</td> <td>    3.118</td> <td> 0.002</td> <td>    0.994</td> <td>    4.380</td>\n",
       "</tr>\n",
       "<tr>\n",
       "  <th>nox</th>       <td>  -17.7666</td> <td>    3.820</td> <td>   -4.651</td> <td> 0.000</td> <td>  -25.272</td> <td>  -10.262</td>\n",
       "</tr>\n",
       "<tr>\n",
       "  <th>rm</th>        <td>    3.8099</td> <td>    0.418</td> <td>    9.116</td> <td> 0.000</td> <td>    2.989</td> <td>    4.631</td>\n",
       "</tr>\n",
       "<tr>\n",
       "  <th>age</th>       <td>    0.0007</td> <td>    0.013</td> <td>    0.052</td> <td> 0.958</td> <td>   -0.025</td> <td>    0.027</td>\n",
       "</tr>\n",
       "<tr>\n",
       "  <th>dis</th>       <td>   -1.4756</td> <td>    0.199</td> <td>   -7.398</td> <td> 0.000</td> <td>   -1.867</td> <td>   -1.084</td>\n",
       "</tr>\n",
       "<tr>\n",
       "  <th>rad</th>       <td>    0.3060</td> <td>    0.066</td> <td>    4.613</td> <td> 0.000</td> <td>    0.176</td> <td>    0.436</td>\n",
       "</tr>\n",
       "<tr>\n",
       "  <th>tax</th>       <td>   -0.0123</td> <td>    0.004</td> <td>   -3.280</td> <td> 0.001</td> <td>   -0.020</td> <td>   -0.005</td>\n",
       "</tr>\n",
       "<tr>\n",
       "  <th>ptratio</th>   <td>   -0.9527</td> <td>    0.131</td> <td>   -7.283</td> <td> 0.000</td> <td>   -1.210</td> <td>   -0.696</td>\n",
       "</tr>\n",
       "<tr>\n",
       "  <th>black</th>     <td>    0.0093</td> <td>    0.003</td> <td>    3.467</td> <td> 0.001</td> <td>    0.004</td> <td>    0.015</td>\n",
       "</tr>\n",
       "<tr>\n",
       "  <th>lstat</th>     <td>   -0.5248</td> <td>    0.051</td> <td>  -10.347</td> <td> 0.000</td> <td>   -0.624</td> <td>   -0.425</td>\n",
       "</tr>\n",
       "</table>\n",
       "<table class=\"simpletable\">\n",
       "<tr>\n",
       "  <th>Omnibus:</th>       <td>178.041</td> <th>  Durbin-Watson:     </th> <td>   1.078</td> \n",
       "</tr>\n",
       "<tr>\n",
       "  <th>Prob(Omnibus):</th> <td> 0.000</td>  <th>  Jarque-Bera (JB):  </th> <td> 783.126</td> \n",
       "</tr>\n",
       "<tr>\n",
       "  <th>Skew:</th>          <td> 1.521</td>  <th>  Prob(JB):          </th> <td>8.84e-171</td>\n",
       "</tr>\n",
       "<tr>\n",
       "  <th>Kurtosis:</th>      <td> 8.281</td>  <th>  Cond. No.          </th> <td>1.51e+04</td> \n",
       "</tr>\n",
       "</table><br/><br/>Notes:<br/>[1] Standard Errors assume that the covariance matrix of the errors is correctly specified.<br/>[2] The condition number is large, 1.51e+04. This might indicate that there are<br/>strong multicollinearity or other numerical problems."
      ],
      "text/plain": [
       "<class 'statsmodels.iolib.summary.Summary'>\n",
       "\"\"\"\n",
       "                            OLS Regression Results                            \n",
       "==============================================================================\n",
       "Dep. Variable:                   medv   R-squared:                       0.741\n",
       "Model:                            OLS   Adj. R-squared:                  0.734\n",
       "Method:                 Least Squares   F-statistic:                     108.1\n",
       "Date:                Mon, 10 Jan 2022   Prob (F-statistic):          6.72e-135\n",
       "Time:                        12:28:31   Log-Likelihood:                -1498.8\n",
       "No. Observations:                 506   AIC:                             3026.\n",
       "Df Residuals:                     492   BIC:                             3085.\n",
       "Df Model:                          13                                         \n",
       "Covariance Type:            nonrobust                                         \n",
       "==============================================================================\n",
       "                 coef    std err          t      P>|t|      [0.025      0.975]\n",
       "------------------------------------------------------------------------------\n",
       "Intercept     36.4595      5.103      7.144      0.000      26.432      46.487\n",
       "crim          -0.1080      0.033     -3.287      0.001      -0.173      -0.043\n",
       "zn             0.0464      0.014      3.382      0.001       0.019       0.073\n",
       "indus          0.0206      0.061      0.334      0.738      -0.100       0.141\n",
       "chas           2.6867      0.862      3.118      0.002       0.994       4.380\n",
       "nox          -17.7666      3.820     -4.651      0.000     -25.272     -10.262\n",
       "rm             3.8099      0.418      9.116      0.000       2.989       4.631\n",
       "age            0.0007      0.013      0.052      0.958      -0.025       0.027\n",
       "dis           -1.4756      0.199     -7.398      0.000      -1.867      -1.084\n",
       "rad            0.3060      0.066      4.613      0.000       0.176       0.436\n",
       "tax           -0.0123      0.004     -3.280      0.001      -0.020      -0.005\n",
       "ptratio       -0.9527      0.131     -7.283      0.000      -1.210      -0.696\n",
       "black          0.0093      0.003      3.467      0.001       0.004       0.015\n",
       "lstat         -0.5248      0.051    -10.347      0.000      -0.624      -0.425\n",
       "==============================================================================\n",
       "Omnibus:                      178.041   Durbin-Watson:                   1.078\n",
       "Prob(Omnibus):                  0.000   Jarque-Bera (JB):              783.126\n",
       "Skew:                           1.521   Prob(JB):                    8.84e-171\n",
       "Kurtosis:                       8.281   Cond. No.                     1.51e+04\n",
       "==============================================================================\n",
       "\n",
       "Notes:\n",
       "[1] Standard Errors assume that the covariance matrix of the errors is correctly specified.\n",
       "[2] The condition number is large, 1.51e+04. This might indicate that there are\n",
       "strong multicollinearity or other numerical problems.\n",
       "\"\"\""
      ]
     },
     "execution_count": 112,
     "metadata": {},
     "output_type": "execute_result"
    }
   ],
   "source": [
    "model_boston.summary()"
   ]
  },
  {
   "cell_type": "code",
   "execution_count": 113,
   "id": "db77d223",
   "metadata": {},
   "outputs": [],
   "source": [
    "import statsmodels.formula.api as smf\n",
    "formula = 'medv ~ rad + zn + rm + chas + age -1'\n",
    "model_boston2 = smf.ols(formula=formula, data=boston_df).fit()"
   ]
  },
  {
   "cell_type": "code",
   "execution_count": 114,
   "id": "65abc07e",
   "metadata": {},
   "outputs": [
    {
     "data": {
      "text/html": [
       "<table class=\"simpletable\">\n",
       "<caption>OLS Regression Results</caption>\n",
       "<tr>\n",
       "  <th>Dep. Variable:</th>          <td>medv</td>       <th>  R-squared (uncentered):</th>      <td>   0.932</td> \n",
       "</tr>\n",
       "<tr>\n",
       "  <th>Model:</th>                   <td>OLS</td>       <th>  Adj. R-squared (uncentered):</th> <td>   0.931</td> \n",
       "</tr>\n",
       "<tr>\n",
       "  <th>Method:</th>             <td>Least Squares</td>  <th>  F-statistic:       </th>          <td>   1363.</td> \n",
       "</tr>\n",
       "<tr>\n",
       "  <th>Date:</th>             <td>Mon, 10 Jan 2022</td> <th>  Prob (F-statistic):</th>          <td>5.05e-289</td>\n",
       "</tr>\n",
       "<tr>\n",
       "  <th>Time:</th>                 <td>12:30:27</td>     <th>  Log-Likelihood:    </th>          <td> -1654.6</td> \n",
       "</tr>\n",
       "<tr>\n",
       "  <th>No. Observations:</th>      <td>   506</td>      <th>  AIC:               </th>          <td>   3319.</td> \n",
       "</tr>\n",
       "<tr>\n",
       "  <th>Df Residuals:</th>          <td>   501</td>      <th>  BIC:               </th>          <td>   3340.</td> \n",
       "</tr>\n",
       "<tr>\n",
       "  <th>Df Model:</th>              <td>     5</td>      <th>                     </th>              <td> </td>    \n",
       "</tr>\n",
       "<tr>\n",
       "  <th>Covariance Type:</th>      <td>nonrobust</td>    <th>                     </th>              <td> </td>    \n",
       "</tr>\n",
       "</table>\n",
       "<table class=\"simpletable\">\n",
       "<tr>\n",
       "    <td></td>      <th>coef</th>     <th>std err</th>      <th>t</th>      <th>P>|t|</th>  <th>[0.025</th>    <th>0.975]</th>  \n",
       "</tr>\n",
       "<tr>\n",
       "  <th>rad</th>  <td>   -0.2183</td> <td>    0.037</td> <td>   -5.924</td> <td> 0.000</td> <td>   -0.291</td> <td>   -0.146</td>\n",
       "</tr>\n",
       "<tr>\n",
       "  <th>zn</th>   <td>    0.0161</td> <td>    0.015</td> <td>    1.056</td> <td> 0.291</td> <td>   -0.014</td> <td>    0.046</td>\n",
       "</tr>\n",
       "<tr>\n",
       "  <th>rm</th>   <td>    4.7232</td> <td>    0.147</td> <td>   32.166</td> <td> 0.000</td> <td>    4.435</td> <td>    5.012</td>\n",
       "</tr>\n",
       "<tr>\n",
       "  <th>chas</th> <td>    5.6944</td> <td>    1.128</td> <td>    5.047</td> <td> 0.000</td> <td>    3.478</td> <td>    7.911</td>\n",
       "</tr>\n",
       "<tr>\n",
       "  <th>age</th>  <td>   -0.0792</td> <td>    0.012</td> <td>   -6.358</td> <td> 0.000</td> <td>   -0.104</td> <td>   -0.055</td>\n",
       "</tr>\n",
       "</table>\n",
       "<table class=\"simpletable\">\n",
       "<tr>\n",
       "  <th>Omnibus:</th>       <td>234.375</td> <th>  Durbin-Watson:     </th> <td>   0.708</td> \n",
       "</tr>\n",
       "<tr>\n",
       "  <th>Prob(Omnibus):</th> <td> 0.000</td>  <th>  Jarque-Bera (JB):  </th> <td>1253.471</td> \n",
       "</tr>\n",
       "<tr>\n",
       "  <th>Skew:</th>          <td> 2.008</td>  <th>  Prob(JB):          </th> <td>6.49e-273</td>\n",
       "</tr>\n",
       "<tr>\n",
       "  <th>Kurtosis:</th>      <td> 9.583</td>  <th>  Cond. No.          </th> <td>    299.</td> \n",
       "</tr>\n",
       "</table><br/><br/>Notes:<br/>[1] R² is computed without centering (uncentered) since the model does not contain a constant.<br/>[2] Standard Errors assume that the covariance matrix of the errors is correctly specified."
      ],
      "text/plain": [
       "<class 'statsmodels.iolib.summary.Summary'>\n",
       "\"\"\"\n",
       "                                 OLS Regression Results                                \n",
       "=======================================================================================\n",
       "Dep. Variable:                   medv   R-squared (uncentered):                   0.932\n",
       "Model:                            OLS   Adj. R-squared (uncentered):              0.931\n",
       "Method:                 Least Squares   F-statistic:                              1363.\n",
       "Date:                Mon, 10 Jan 2022   Prob (F-statistic):                   5.05e-289\n",
       "Time:                        12:30:27   Log-Likelihood:                         -1654.6\n",
       "No. Observations:                 506   AIC:                                      3319.\n",
       "Df Residuals:                     501   BIC:                                      3340.\n",
       "Df Model:                           5                                                  \n",
       "Covariance Type:            nonrobust                                                  \n",
       "==============================================================================\n",
       "                 coef    std err          t      P>|t|      [0.025      0.975]\n",
       "------------------------------------------------------------------------------\n",
       "rad           -0.2183      0.037     -5.924      0.000      -0.291      -0.146\n",
       "zn             0.0161      0.015      1.056      0.291      -0.014       0.046\n",
       "rm             4.7232      0.147     32.166      0.000       4.435       5.012\n",
       "chas           5.6944      1.128      5.047      0.000       3.478       7.911\n",
       "age           -0.0792      0.012     -6.358      0.000      -0.104      -0.055\n",
       "==============================================================================\n",
       "Omnibus:                      234.375   Durbin-Watson:                   0.708\n",
       "Prob(Omnibus):                  0.000   Jarque-Bera (JB):             1253.471\n",
       "Skew:                           2.008   Prob(JB):                    6.49e-273\n",
       "Kurtosis:                       9.583   Cond. No.                         299.\n",
       "==============================================================================\n",
       "\n",
       "Notes:\n",
       "[1] R² is computed without centering (uncentered) since the model does not contain a constant.\n",
       "[2] Standard Errors assume that the covariance matrix of the errors is correctly specified.\n",
       "\"\"\""
      ]
     },
     "execution_count": 114,
     "metadata": {},
     "output_type": "execute_result"
    }
   ],
   "source": [
    "model_boston2.summary()"
   ]
  },
  {
   "cell_type": "markdown",
   "id": "22e3b28e",
   "metadata": {},
   "source": [
    "## 다중공선성"
   ]
  },
  {
   "cell_type": "code",
   "execution_count": 115,
   "id": "ed588223",
   "metadata": {},
   "outputs": [],
   "source": [
    "#VIF 확인하기\n",
    "import statsmodels.api as sm\n",
    "Boston = sm.datasets.get_rdataset('Boston', package='MASS')\n",
    "boston_df = Boston.data"
   ]
  },
  {
   "cell_type": "code",
   "execution_count": 116,
   "id": "62251788",
   "metadata": {},
   "outputs": [],
   "source": [
    "formula = 'medv~'+ '+'.join(boston_df.columns[:-1])"
   ]
  },
  {
   "cell_type": "code",
   "execution_count": 117,
   "id": "34c8fafa",
   "metadata": {},
   "outputs": [],
   "source": [
    "from patsy import dmatrices\n",
    "y, X = dmatrices(formula, boston_df, return_type='dataframe')"
   ]
  },
  {
   "cell_type": "code",
   "execution_count": 118,
   "id": "e82f4a17",
   "metadata": {},
   "outputs": [],
   "source": [
    "import pandas as pd\n",
    "vif = pd.DataFrame()"
   ]
  },
  {
   "cell_type": "code",
   "execution_count": 122,
   "id": "d1242518",
   "metadata": {},
   "outputs": [
    {
     "data": {
      "text/html": [
       "<div>\n",
       "<style scoped>\n",
       "    .dataframe tbody tr th:only-of-type {\n",
       "        vertical-align: middle;\n",
       "    }\n",
       "\n",
       "    .dataframe tbody tr th {\n",
       "        vertical-align: top;\n",
       "    }\n",
       "\n",
       "    .dataframe thead th {\n",
       "        text-align: right;\n",
       "    }\n",
       "</style>\n",
       "<table border=\"1\" class=\"dataframe\">\n",
       "  <thead>\n",
       "    <tr style=\"text-align: right;\">\n",
       "      <th></th>\n",
       "      <th>VIF Factor</th>\n",
       "      <th>Features</th>\n",
       "    </tr>\n",
       "  </thead>\n",
       "  <tbody>\n",
       "    <tr>\n",
       "      <th>0</th>\n",
       "      <td>585.265238</td>\n",
       "      <td>Intercept</td>\n",
       "    </tr>\n",
       "    <tr>\n",
       "      <th>10</th>\n",
       "      <td>9.008554</td>\n",
       "      <td>tax</td>\n",
       "    </tr>\n",
       "    <tr>\n",
       "      <th>9</th>\n",
       "      <td>7.484496</td>\n",
       "      <td>rad</td>\n",
       "    </tr>\n",
       "    <tr>\n",
       "      <th>5</th>\n",
       "      <td>4.393720</td>\n",
       "      <td>nox</td>\n",
       "    </tr>\n",
       "    <tr>\n",
       "      <th>3</th>\n",
       "      <td>3.991596</td>\n",
       "      <td>indus</td>\n",
       "    </tr>\n",
       "    <tr>\n",
       "      <th>8</th>\n",
       "      <td>3.955945</td>\n",
       "      <td>dis</td>\n",
       "    </tr>\n",
       "    <tr>\n",
       "      <th>7</th>\n",
       "      <td>3.100826</td>\n",
       "      <td>age</td>\n",
       "    </tr>\n",
       "    <tr>\n",
       "      <th>13</th>\n",
       "      <td>2.941491</td>\n",
       "      <td>lstat</td>\n",
       "    </tr>\n",
       "    <tr>\n",
       "      <th>2</th>\n",
       "      <td>2.298758</td>\n",
       "      <td>zn</td>\n",
       "    </tr>\n",
       "    <tr>\n",
       "      <th>6</th>\n",
       "      <td>1.933744</td>\n",
       "      <td>rm</td>\n",
       "    </tr>\n",
       "    <tr>\n",
       "      <th>11</th>\n",
       "      <td>1.799084</td>\n",
       "      <td>ptratio</td>\n",
       "    </tr>\n",
       "    <tr>\n",
       "      <th>1</th>\n",
       "      <td>1.792192</td>\n",
       "      <td>crim</td>\n",
       "    </tr>\n",
       "    <tr>\n",
       "      <th>12</th>\n",
       "      <td>1.348521</td>\n",
       "      <td>black</td>\n",
       "    </tr>\n",
       "    <tr>\n",
       "      <th>4</th>\n",
       "      <td>1.073995</td>\n",
       "      <td>chas</td>\n",
       "    </tr>\n",
       "  </tbody>\n",
       "</table>\n",
       "</div>"
      ],
      "text/plain": [
       "    VIF Factor   Features\n",
       "0   585.265238  Intercept\n",
       "10    9.008554        tax\n",
       "9     7.484496        rad\n",
       "5     4.393720        nox\n",
       "3     3.991596      indus\n",
       "8     3.955945        dis\n",
       "7     3.100826        age\n",
       "13    2.941491      lstat\n",
       "2     2.298758         zn\n",
       "6     1.933744         rm\n",
       "11    1.799084    ptratio\n",
       "1     1.792192       crim\n",
       "12    1.348521      black\n",
       "4     1.073995       chas"
      ]
     },
     "execution_count": 122,
     "metadata": {},
     "output_type": "execute_result"
    }
   ],
   "source": [
    "from statsmodels.stats.outliers_influence import variance_inflation_factor\n",
    "vif['VIF Factor'] = [variance_inflation_factor(X.values,i)\n",
    "                     for i in range(X.shape[1])]\n",
    "vif['Features'] = X.columns\n",
    "vif.sort_values(by='VIF Factor', ascending=False)"
   ]
  },
  {
   "cell_type": "code",
   "execution_count": 125,
   "id": "b1b50fc2",
   "metadata": {},
   "outputs": [],
   "source": [
    "def get_vif(formula, df):\n",
    "    from patsy import dmatrices\n",
    "    y, X = dmatrices(formula, df, return_type='dataframe')\n",
    "    import pandas as pd\n",
    "    vif = pd.DataFrame()\n",
    "    from statsmodels.stats.outliers_influence import variance_inflation_factor\n",
    "    vif['VIF Factor'] = [variance_inflation_factor(X.values,i)\n",
    "                        for i in range(X.shape[1])]\n",
    "    vif['features'] = X.columns\n",
    "    vif.sort_values(by='VIF Factor', ascending=False, inplace=True)\n",
    "    return vif"
   ]
  },
  {
   "cell_type": "code",
   "execution_count": 127,
   "id": "ee40467c",
   "metadata": {},
   "outputs": [],
   "source": [
    "feature_cols = list(boston_df.columns[:-1])\n",
    "while True :\n",
    "    formula = \"medv~\" + \"+\".join(feature_cols)+\"-1\"\n",
    "    vif = get_vif(formula, boston_df)\n",
    "    if vif.iloc[0,0] > 10:\n",
    "        feature_cols.remove(vif.iloc[0,1])\n",
    "    else :\n",
    "        break"
   ]
  },
  {
   "cell_type": "code",
   "execution_count": 128,
   "id": "a5c3f033",
   "metadata": {},
   "outputs": [
    {
     "data": {
      "text/html": [
       "<div>\n",
       "<style scoped>\n",
       "    .dataframe tbody tr th:only-of-type {\n",
       "        vertical-align: middle;\n",
       "    }\n",
       "\n",
       "    .dataframe tbody tr th {\n",
       "        vertical-align: top;\n",
       "    }\n",
       "\n",
       "    .dataframe thead th {\n",
       "        text-align: right;\n",
       "    }\n",
       "</style>\n",
       "<table border=\"1\" class=\"dataframe\">\n",
       "  <thead>\n",
       "    <tr style=\"text-align: right;\">\n",
       "      <th></th>\n",
       "      <th>VIF Factor</th>\n",
       "      <th>features</th>\n",
       "    </tr>\n",
       "  </thead>\n",
       "  <tbody>\n",
       "    <tr>\n",
       "      <th>2</th>\n",
       "      <td>6.900077</td>\n",
       "      <td>indus</td>\n",
       "    </tr>\n",
       "    <tr>\n",
       "      <th>6</th>\n",
       "      <td>6.726973</td>\n",
       "      <td>lstat</td>\n",
       "    </tr>\n",
       "    <tr>\n",
       "      <th>5</th>\n",
       "      <td>4.678181</td>\n",
       "      <td>rad</td>\n",
       "    </tr>\n",
       "    <tr>\n",
       "      <th>4</th>\n",
       "      <td>3.968908</td>\n",
       "      <td>dis</td>\n",
       "    </tr>\n",
       "    <tr>\n",
       "      <th>1</th>\n",
       "      <td>2.299351</td>\n",
       "      <td>zn</td>\n",
       "    </tr>\n",
       "    <tr>\n",
       "      <th>0</th>\n",
       "      <td>2.067135</td>\n",
       "      <td>crim</td>\n",
       "    </tr>\n",
       "    <tr>\n",
       "      <th>3</th>\n",
       "      <td>1.086574</td>\n",
       "      <td>chas</td>\n",
       "    </tr>\n",
       "  </tbody>\n",
       "</table>\n",
       "</div>"
      ],
      "text/plain": [
       "   VIF Factor features\n",
       "2    6.900077    indus\n",
       "6    6.726973    lstat\n",
       "5    4.678181      rad\n",
       "4    3.968908      dis\n",
       "1    2.299351       zn\n",
       "0    2.067135     crim\n",
       "3    1.086574     chas"
      ]
     },
     "execution_count": 128,
     "metadata": {},
     "output_type": "execute_result"
    }
   ],
   "source": [
    "vif"
   ]
  },
  {
   "cell_type": "markdown",
   "id": "58965bac",
   "metadata": {},
   "source": [
    "# 회귀모형 성능평가"
   ]
  },
  {
   "cell_type": "code",
   "execution_count": 129,
   "id": "0d763e88",
   "metadata": {},
   "outputs": [
    {
     "data": {
      "text/plain": [
       "dict_keys(['explained_variance', 'r2', 'max_error', 'neg_median_absolute_error', 'neg_mean_absolute_error', 'neg_mean_absolute_percentage_error', 'neg_mean_squared_error', 'neg_mean_squared_log_error', 'neg_root_mean_squared_error', 'neg_mean_poisson_deviance', 'neg_mean_gamma_deviance', 'accuracy', 'top_k_accuracy', 'roc_auc', 'roc_auc_ovr', 'roc_auc_ovo', 'roc_auc_ovr_weighted', 'roc_auc_ovo_weighted', 'balanced_accuracy', 'average_precision', 'neg_log_loss', 'neg_brier_score', 'adjusted_rand_score', 'rand_score', 'homogeneity_score', 'completeness_score', 'v_measure_score', 'mutual_info_score', 'adjusted_mutual_info_score', 'normalized_mutual_info_score', 'fowlkes_mallows_score', 'precision', 'precision_macro', 'precision_micro', 'precision_samples', 'precision_weighted', 'recall', 'recall_macro', 'recall_micro', 'recall_samples', 'recall_weighted', 'f1', 'f1_macro', 'f1_micro', 'f1_samples', 'f1_weighted', 'jaccard', 'jaccard_macro', 'jaccard_micro', 'jaccard_samples', 'jaccard_weighted'])"
      ]
     },
     "execution_count": 129,
     "metadata": {},
     "output_type": "execute_result"
    }
   ],
   "source": [
    "from sklearn.metrics import SCORERS\n",
    "SCORERS.keys()"
   ]
  },
  {
   "cell_type": "code",
   "execution_count": 131,
   "id": "a51d2551",
   "metadata": {},
   "outputs": [],
   "source": [
    "from sklearn import datasets, linear_model\n",
    "from sklearn.model_selection import train_test_split"
   ]
  },
  {
   "cell_type": "code",
   "execution_count": 132,
   "id": "47a98553",
   "metadata": {},
   "outputs": [],
   "source": [
    "diabetes = datasets.load_diabetes()\n",
    "X = diabetes.data\n",
    "y = diabetes.target"
   ]
  },
  {
   "cell_type": "code",
   "execution_count": 133,
   "id": "f9afc7cc",
   "metadata": {},
   "outputs": [],
   "source": [
    "train_X, test_X, train_y, test_y = train_test_split(X,y,test_size=0.3)"
   ]
  },
  {
   "cell_type": "code",
   "execution_count": 134,
   "id": "fa09e3a9",
   "metadata": {},
   "outputs": [
    {
     "data": {
      "text/plain": [
       "Lasso()"
      ]
     },
     "execution_count": 134,
     "metadata": {},
     "output_type": "execute_result"
    }
   ],
   "source": [
    "lasso = linear_model.Lasso()\n",
    "model = lasso.fit(train_X, train_y)\n",
    "model"
   ]
  },
  {
   "cell_type": "code",
   "execution_count": 135,
   "id": "ee0f64d6",
   "metadata": {},
   "outputs": [
    {
     "data": {
      "text/plain": [
       "array([196.02885183, 136.7917551 , 142.53485501, 137.79396214,\n",
       "       129.36524515, 176.86462989, 115.32324222, 193.36167238,\n",
       "       186.77968383, 125.56193654])"
      ]
     },
     "execution_count": 135,
     "metadata": {},
     "output_type": "execute_result"
    }
   ],
   "source": [
    "pred = model.predict(test_X)\n",
    "pred[:10]"
   ]
  },
  {
   "cell_type": "markdown",
   "id": "6d09fee0",
   "metadata": {},
   "source": [
    "## mean_squared_error"
   ]
  },
  {
   "cell_type": "code",
   "execution_count": 141,
   "id": "6319eb61",
   "metadata": {},
   "outputs": [
    {
     "data": {
      "text/plain": [
       "3431.1954811992846"
      ]
     },
     "execution_count": 141,
     "metadata": {},
     "output_type": "execute_result"
    }
   ],
   "source": [
    "from sklearn.metrics import mean_squared_error\n",
    "mean_squared_error(test_y, pred)"
   ]
  },
  {
   "cell_type": "markdown",
   "id": "46a8b11b",
   "metadata": {},
   "source": [
    "## Root_mean_squared_error"
   ]
  },
  {
   "cell_type": "code",
   "execution_count": 142,
   "id": "41017f75",
   "metadata": {},
   "outputs": [
    {
     "data": {
      "text/plain": [
       "58.57640720630862"
      ]
     },
     "execution_count": 142,
     "metadata": {},
     "output_type": "execute_result"
    }
   ],
   "source": [
    "import math\n",
    "rmse = math.sqrt(mean_squared_error(test_y,pred))\n",
    "rmse"
   ]
  },
  {
   "cell_type": "markdown",
   "id": "29b42e46",
   "metadata": {},
   "source": [
    "## mean_absolute_error"
   ]
  },
  {
   "cell_type": "code",
   "execution_count": 143,
   "id": "924d7c54",
   "metadata": {},
   "outputs": [
    {
     "data": {
      "text/plain": [
       "49.540550616414194"
      ]
     },
     "execution_count": 143,
     "metadata": {},
     "output_type": "execute_result"
    }
   ],
   "source": [
    "from sklearn.metrics import mean_absolute_error\n",
    "mean_absolute_error(test_y,pred)"
   ]
  },
  {
   "cell_type": "markdown",
   "id": "48ef8d2f",
   "metadata": {},
   "source": [
    "## explained_variance_score"
   ]
  },
  {
   "cell_type": "code",
   "execution_count": 144,
   "id": "1bb6d28c",
   "metadata": {},
   "outputs": [
    {
     "data": {
      "text/plain": [
       "0.3915834412757312"
      ]
     },
     "execution_count": 144,
     "metadata": {},
     "output_type": "execute_result"
    }
   ],
   "source": [
    "from sklearn.metrics import explained_variance_score\n",
    "explained_variance_score(test_y, pred)"
   ]
  },
  {
   "cell_type": "markdown",
   "id": "8fe49ebe",
   "metadata": {},
   "source": [
    "## r2_score"
   ]
  },
  {
   "cell_type": "code",
   "execution_count": 145,
   "id": "72dd1000",
   "metadata": {},
   "outputs": [
    {
     "data": {
      "text/plain": [
       "0.3882990366614101"
      ]
     },
     "execution_count": 145,
     "metadata": {},
     "output_type": "execute_result"
    }
   ],
   "source": [
    "from sklearn.metrics import r2_score\n",
    "r2_score(test_y, pred)"
   ]
  },
  {
   "cell_type": "markdown",
   "id": "35fbc231",
   "metadata": {},
   "source": [
    "# 연습문제"
   ]
  },
  {
   "cell_type": "code",
   "execution_count": 146,
   "id": "9d951c20",
   "metadata": {},
   "outputs": [],
   "source": [
    "import statsmodels.api as sm\n",
    "cars = sm.datasets.get_rdataset('cars', package='datasets')\n",
    "cars_df = cars.data"
   ]
  },
  {
   "cell_type": "code",
   "execution_count": 147,
   "id": "36ec89c1",
   "metadata": {},
   "outputs": [
    {
     "data": {
      "image/png": "[encoded data removed]",
      "text/plain": [
       "<Figure size 432x288 with 1 Axes>"
      ]
     },
     "metadata": {
      "needs_background": "light"
     },
     "output_type": "display_data"
    }
   ],
   "source": [
    "import matplotlib.pyplot as plt\n",
    "%matplotlib inline\n",
    "fig = plt.figure()\n",
    "plt.scatter(cars_df.speed, cars_df.dist)\n",
    "fit = np.polyfit(cars_df.speed, cars_df.dist,1)\n",
    "fit_fn = np.poly1d(fit)\n",
    "plt.plot(cars_df.speed, fit_fn(cars_df.speed))\n",
    "plt.xlabel('speed')\n",
    "plt.ylabel('dist')\n",
    "plt.title('cars')\n",
    "plt.show()"
   ]
  },
  {
   "cell_type": "code",
   "execution_count": 148,
   "id": "79c39dcb",
   "metadata": {},
   "outputs": [
    {
     "data": {
      "text/html": [
       "<table class=\"simpletable\">\n",
       "<caption>OLS Regression Results</caption>\n",
       "<tr>\n",
       "  <th>Dep. Variable:</th>          <td>dist</td>       <th>  R-squared:         </th> <td>   0.651</td>\n",
       "</tr>\n",
       "<tr>\n",
       "  <th>Model:</th>                   <td>OLS</td>       <th>  Adj. R-squared:    </th> <td>   0.644</td>\n",
       "</tr>\n",
       "<tr>\n",
       "  <th>Method:</th>             <td>Least Squares</td>  <th>  F-statistic:       </th> <td>   89.57</td>\n",
       "</tr>\n",
       "<tr>\n",
       "  <th>Date:</th>             <td>Mon, 10 Jan 2022</td> <th>  Prob (F-statistic):</th> <td>1.49e-12</td>\n",
       "</tr>\n",
       "<tr>\n",
       "  <th>Time:</th>                 <td>14:43:30</td>     <th>  Log-Likelihood:    </th> <td> -206.58</td>\n",
       "</tr>\n",
       "<tr>\n",
       "  <th>No. Observations:</th>      <td>    50</td>      <th>  AIC:               </th> <td>   417.2</td>\n",
       "</tr>\n",
       "<tr>\n",
       "  <th>Df Residuals:</th>          <td>    48</td>      <th>  BIC:               </th> <td>   421.0</td>\n",
       "</tr>\n",
       "<tr>\n",
       "  <th>Df Model:</th>              <td>     1</td>      <th>                     </th>     <td> </td>   \n",
       "</tr>\n",
       "<tr>\n",
       "  <th>Covariance Type:</th>      <td>nonrobust</td>    <th>                     </th>     <td> </td>   \n",
       "</tr>\n",
       "</table>\n",
       "<table class=\"simpletable\">\n",
       "<tr>\n",
       "      <td></td>         <th>coef</th>     <th>std err</th>      <th>t</th>      <th>P>|t|</th>  <th>[0.025</th>    <th>0.975]</th>  \n",
       "</tr>\n",
       "<tr>\n",
       "  <th>Intercept</th> <td>  -17.5791</td> <td>    6.758</td> <td>   -2.601</td> <td> 0.012</td> <td>  -31.168</td> <td>   -3.990</td>\n",
       "</tr>\n",
       "<tr>\n",
       "  <th>speed</th>     <td>    3.9324</td> <td>    0.416</td> <td>    9.464</td> <td> 0.000</td> <td>    3.097</td> <td>    4.768</td>\n",
       "</tr>\n",
       "</table>\n",
       "<table class=\"simpletable\">\n",
       "<tr>\n",
       "  <th>Omnibus:</th>       <td> 8.975</td> <th>  Durbin-Watson:     </th> <td>   1.676</td>\n",
       "</tr>\n",
       "<tr>\n",
       "  <th>Prob(Omnibus):</th> <td> 0.011</td> <th>  Jarque-Bera (JB):  </th> <td>   8.189</td>\n",
       "</tr>\n",
       "<tr>\n",
       "  <th>Skew:</th>          <td> 0.885</td> <th>  Prob(JB):          </th> <td>  0.0167</td>\n",
       "</tr>\n",
       "<tr>\n",
       "  <th>Kurtosis:</th>      <td> 3.893</td> <th>  Cond. No.          </th> <td>    50.7</td>\n",
       "</tr>\n",
       "</table><br/><br/>Notes:<br/>[1] Standard Errors assume that the covariance matrix of the errors is correctly specified."
      ],
      "text/plain": [
       "<class 'statsmodels.iolib.summary.Summary'>\n",
       "\"\"\"\n",
       "                            OLS Regression Results                            \n",
       "==============================================================================\n",
       "Dep. Variable:                   dist   R-squared:                       0.651\n",
       "Model:                            OLS   Adj. R-squared:                  0.644\n",
       "Method:                 Least Squares   F-statistic:                     89.57\n",
       "Date:                Mon, 10 Jan 2022   Prob (F-statistic):           1.49e-12\n",
       "Time:                        14:43:30   Log-Likelihood:                -206.58\n",
       "No. Observations:                  50   AIC:                             417.2\n",
       "Df Residuals:                      48   BIC:                             421.0\n",
       "Df Model:                           1                                         \n",
       "Covariance Type:            nonrobust                                         \n",
       "==============================================================================\n",
       "                 coef    std err          t      P>|t|      [0.025      0.975]\n",
       "------------------------------------------------------------------------------\n",
       "Intercept    -17.5791      6.758     -2.601      0.012     -31.168      -3.990\n",
       "speed          3.9324      0.416      9.464      0.000       3.097       4.768\n",
       "==============================================================================\n",
       "Omnibus:                        8.975   Durbin-Watson:                   1.676\n",
       "Prob(Omnibus):                  0.011   Jarque-Bera (JB):                8.189\n",
       "Skew:                           0.885   Prob(JB):                       0.0167\n",
       "Kurtosis:                       3.893   Cond. No.                         50.7\n",
       "==============================================================================\n",
       "\n",
       "Notes:\n",
       "[1] Standard Errors assume that the covariance matrix of the errors is correctly specified.\n",
       "\"\"\""
      ]
     },
     "execution_count": 148,
     "metadata": {},
     "output_type": "execute_result"
    }
   ],
   "source": [
    "import statsmodels.formula.api as sm\n",
    "model_cars = sm.ols(formula='dist~speed', data=cars_df).fit()\n",
    "model_cars.summary()"
   ]
  },
  {
   "cell_type": "code",
   "execution_count": 149,
   "id": "c9f65dc0",
   "metadata": {},
   "outputs": [],
   "source": [
    "from scipy import stats\n",
    "import matplotlib.pyplot as plt\n",
    "%matplotlib inline"
   ]
  },
  {
   "cell_type": "code",
   "execution_count": 150,
   "id": "3548cf81",
   "metadata": {},
   "outputs": [
    {
     "data": {
      "image/png": "[encoded data removed]",
      "text/plain": [
       "<Figure size 432x288 with 1 Axes>"
      ]
     },
     "metadata": {
      "needs_background": "light"
     },
     "output_type": "display_data"
    }
   ],
   "source": [
    "y_pred = model_cars.predict(cars_df)\n",
    "fig = plt.figure()\n",
    "res = stats.probplot(y_pred, plot=plt)\n",
    "plt.title('Probability plot')\n",
    "plt.show()"
   ]
  },
  {
   "cell_type": "code",
   "execution_count": 151,
   "id": "7d7ddb6d",
   "metadata": {},
   "outputs": [
    {
     "data": {
      "text/html": [
       "<div>\n",
       "<style scoped>\n",
       "    .dataframe tbody tr th:only-of-type {\n",
       "        vertical-align: middle;\n",
       "    }\n",
       "\n",
       "    .dataframe tbody tr th {\n",
       "        vertical-align: top;\n",
       "    }\n",
       "\n",
       "    .dataframe thead th {\n",
       "        text-align: right;\n",
       "    }\n",
       "</style>\n",
       "<table border=\"1\" class=\"dataframe\">\n",
       "  <thead>\n",
       "    <tr style=\"text-align: right;\">\n",
       "      <th></th>\n",
       "      <th>dfb_Intercept</th>\n",
       "      <th>dfb_speed</th>\n",
       "      <th>cooks_d</th>\n",
       "      <th>standard_resid</th>\n",
       "      <th>hat_diag</th>\n",
       "      <th>dffits_internal</th>\n",
       "      <th>student_resid</th>\n",
       "      <th>dffits</th>\n",
       "    </tr>\n",
       "  </thead>\n",
       "  <tbody>\n",
       "    <tr>\n",
       "      <th>0</th>\n",
       "      <td>0.094402</td>\n",
       "      <td>-0.086246</td>\n",
       "      <td>0.004592</td>\n",
       "      <td>0.266042</td>\n",
       "      <td>0.114861</td>\n",
       "      <td>0.095836</td>\n",
       "      <td>0.263450</td>\n",
       "      <td>0.094903</td>\n",
       "    </tr>\n",
       "    <tr>\n",
       "      <th>1</th>\n",
       "      <td>0.292425</td>\n",
       "      <td>-0.267160</td>\n",
       "      <td>0.043514</td>\n",
       "      <td>0.818933</td>\n",
       "      <td>0.114861</td>\n",
       "      <td>0.295005</td>\n",
       "      <td>0.816078</td>\n",
       "      <td>0.293977</td>\n",
       "    </tr>\n",
       "    <tr>\n",
       "      <th>2</th>\n",
       "      <td>-0.107498</td>\n",
       "      <td>0.093693</td>\n",
       "      <td>0.006202</td>\n",
       "      <td>-0.401346</td>\n",
       "      <td>0.071504</td>\n",
       "      <td>-0.111376</td>\n",
       "      <td>-0.397812</td>\n",
       "      <td>-0.110396</td>\n",
       "    </tr>\n",
       "    <tr>\n",
       "      <th>3</th>\n",
       "      <td>0.218976</td>\n",
       "      <td>-0.190855</td>\n",
       "      <td>0.025467</td>\n",
       "      <td>0.813266</td>\n",
       "      <td>0.071504</td>\n",
       "      <td>0.225687</td>\n",
       "      <td>0.810353</td>\n",
       "      <td>0.224879</td>\n",
       "    </tr>\n",
       "    <tr>\n",
       "      <th>4</th>\n",
       "      <td>0.034075</td>\n",
       "      <td>-0.029014</td>\n",
       "      <td>0.000645</td>\n",
       "      <td>0.142162</td>\n",
       "      <td>0.059971</td>\n",
       "      <td>0.035907</td>\n",
       "      <td>0.140703</td>\n",
       "      <td>0.035539</td>\n",
       "    </tr>\n",
       "  </tbody>\n",
       "</table>\n",
       "</div>"
      ],
      "text/plain": [
       "   dfb_Intercept  dfb_speed   cooks_d  standard_resid  hat_diag  \\\n",
       "0       0.094402  -0.086246  0.004592        0.266042  0.114861   \n",
       "1       0.292425  -0.267160  0.043514        0.818933  0.114861   \n",
       "2      -0.107498   0.093693  0.006202       -0.401346  0.071504   \n",
       "3       0.218976  -0.190855  0.025467        0.813266  0.071504   \n",
       "4       0.034075  -0.029014  0.000645        0.142162  0.059971   \n",
       "\n",
       "   dffits_internal  student_resid    dffits  \n",
       "0         0.095836       0.263450  0.094903  \n",
       "1         0.295005       0.816078  0.293977  \n",
       "2        -0.111376      -0.397812 -0.110396  \n",
       "3         0.225687       0.810353  0.224879  \n",
       "4         0.035907       0.140703  0.035539  "
      ]
     },
     "execution_count": 151,
     "metadata": {},
     "output_type": "execute_result"
    }
   ],
   "source": [
    "import numpy as np\n",
    "influence = model_cars.get_influence()\n",
    "inf_df = influence.summary_frame()\n",
    "inf_df.head()"
   ]
  },
  {
   "cell_type": "code",
   "execution_count": 152,
   "id": "2b03da33",
   "metadata": {},
   "outputs": [
    {
     "data": {
      "image/png": "[encoded data removed]",
      "text/plain": [
       "<Figure size 432x288 with 1 Axes>"
      ]
     },
     "metadata": {
      "needs_background": "light"
     },
     "output_type": "display_data"
    }
   ],
   "source": [
    "import numpy as np\n",
    "from sklearn.linear_model import LinearRegression\n",
    "plt.scatter(influence.hat_matrix_diag, inf_df.standard_resid)\n",
    "fit = np.polyfit(influence.hat_matrix_diag, inf_df.standard_resid, 1)\n",
    "fit_fn = np.poly1d(fit)\n",
    "plt.plot(influence.hat_matrix_diag, fit_fn(influence.hat_matrix_diag),\n",
    "\"r\")\n",
    "plt.xlabel(\"Leverage\")\n",
    "plt.ylabel(\"Standardized residual\")\n",
    "plt.title(\"Leverage vs. Residual\")\n",
    "plt.show()"
   ]
  }
 ],
 "metadata": {
  "kernelspec": {
   "display_name": "Python 3",
   "language": "python",
   "name": "python3"
  },
  "language_info": {
   "codemirror_mode": {
    "name": "ipython",
    "version": 3
   },
   "file_extension": ".py",
   "mimetype": "text/x-python",
   "name": "python",
   "nbconvert_exporter": "python",
   "pygments_lexer": "ipython3",
   "version": "3.8.8"
  },
  "toc": {
   "base_numbering": 1,
   "nav_menu": {},
   "number_sections": true,
   "sideBar": true,
   "skip_h1_title": false,
   "title_cell": "Table of Contents",
   "title_sidebar": "Contents",
   "toc_cell": false,
   "toc_position": {},
   "toc_section_display": true,
   "toc_window_display": true
  }
 },
 "nbformat": 4,
 "nbformat_minor": 5
}
