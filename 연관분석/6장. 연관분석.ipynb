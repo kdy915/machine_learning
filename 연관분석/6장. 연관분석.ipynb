{
 "cells": [
  {
   "cell_type": "markdown",
   "id": "f8266d95",
   "metadata": {},
   "source": [
    "# 2절. 트랜잭션 데이터"
   ]
  },
  {
   "cell_type": "code",
   "execution_count": 3,
   "id": "b7afd940",
   "metadata": {
    "ExecuteTime": {
     "end_time": "2022-01-06T01:06:51.525801Z",
     "start_time": "2022-01-06T01:06:51.503860Z"
    }
   },
   "outputs": [],
   "source": [
    "import csv\n",
    "with open(\"basket.csv\", \"r\", encoding=\"utf-8\") as cf:\n",
    "    transactions = []\n",
    "    r = csv.reader(cf)\n",
    "    for row in r:\n",
    "        transactions.append(row)"
   ]
  },
  {
   "cell_type": "code",
   "execution_count": 4,
   "id": "23e9de59",
   "metadata": {
    "ExecuteTime": {
     "end_time": "2022-01-06T01:06:55.874530Z",
     "start_time": "2022-01-06T01:06:55.839032Z"
    }
   },
   "outputs": [
    {
     "data": {
      "text/plain": [
       "[['소주', '콜라', '와인'],\n",
       " ['소주', '오렌지주스', '콜라'],\n",
       " ['콜라', '맥주', '와인'],\n",
       " ['소주', '콜라', '맥주'],\n",
       " ['오렌지주스', '와인']]"
      ]
     },
     "execution_count": 4,
     "metadata": {},
     "output_type": "execute_result"
    }
   ],
   "source": [
    "transactions"
   ]
  },
  {
   "cell_type": "markdown",
   "id": "3a0593b2",
   "metadata": {},
   "source": [
    "# 3절. 연관분석"
   ]
  },
  {
   "cell_type": "code",
   "execution_count": 8,
   "id": "cbe2bf59",
   "metadata": {
    "ExecuteTime": {
     "end_time": "2022-01-06T01:35:01.849786Z",
     "start_time": "2022-01-06T01:35:01.834825Z"
    }
   },
   "outputs": [],
   "source": [
    "from apyori import apriori\n",
    "rules = apriori(transactions, min_support=0.1, min_confidence=0.1)\n",
    "results = list(rules)"
   ]
  },
  {
   "cell_type": "code",
   "execution_count": 14,
   "id": "491e6d28",
   "metadata": {
    "ExecuteTime": {
     "end_time": "2022-01-06T01:40:25.685751Z",
     "start_time": "2022-01-06T01:40:25.670764Z"
    }
   },
   "outputs": [
    {
     "data": {
      "text/plain": [
       "RelationRecord(items=frozenset({'맥주'}), support=0.4, ordered_statistics=[OrderedStatistic(items_base=frozenset(), items_add=frozenset({'맥주'}), confidence=0.4, lift=1.0)])"
      ]
     },
     "execution_count": 14,
     "metadata": {},
     "output_type": "execute_result"
    }
   ],
   "source": [
    "results[0]"
   ]
  },
  {
   "cell_type": "code",
   "execution_count": 12,
   "id": "808ee06d",
   "metadata": {
    "ExecuteTime": {
     "end_time": "2022-01-06T01:35:47.210900Z",
     "start_time": "2022-01-06T01:35:47.201916Z"
    }
   },
   "outputs": [
    {
     "data": {
      "text/plain": [
       "RelationRecord(items=frozenset({'소주', '콜라'}), support=0.6, ordered_statistics=[OrderedStatistic(items_base=frozenset(), items_add=frozenset({'소주', '콜라'}), confidence=0.6, lift=1.0), OrderedStatistic(items_base=frozenset({'소주'}), items_add=frozenset({'콜라'}), confidence=1.0, lift=1.25), OrderedStatistic(items_base=frozenset({'콜라'}), items_add=frozenset({'소주'}), confidence=0.7499999999999999, lift=1.2499999999999998)])"
      ]
     },
     "execution_count": 12,
     "metadata": {},
     "output_type": "execute_result"
    }
   ],
   "source": [
    "results[10]"
   ]
  },
  {
   "cell_type": "code",
   "execution_count": 15,
   "id": "68aab2ab",
   "metadata": {
    "ExecuteTime": {
     "end_time": "2022-01-06T01:42:57.494419Z",
     "start_time": "2022-01-06T01:42:53.561574Z"
    }
   },
   "outputs": [],
   "source": [
    "import pandas as pd\n",
    "result_df = pd.DataFrame(None, columns=[\"LHS\", \"RHS\", \"support\", \"confidence\", \"lift\"])\n",
    "\n",
    "index = 0\n",
    "\n",
    "for result in results:\n",
    "    support = result[1]\n",
    "    for ordered_item in result[2]:\n",
    "        lhs = \",\".join(ordered_item[0])\n",
    "        rhs = \",\".join(ordered_item[1])\n",
    "        confidence = ordered_item[2]\n",
    "        lift = ordered_item[3]\n",
    "        result_df.loc[index] = [lhs, rhs, support, confidence, lift]\n",
    "        index += 1"
   ]
  },
  {
   "cell_type": "code",
   "execution_count": 19,
   "id": "e6a47fc1",
   "metadata": {
    "ExecuteTime": {
     "end_time": "2022-01-06T01:57:46.081487Z",
     "start_time": "2022-01-06T01:57:46.028620Z"
    }
   },
   "outputs": [
    {
     "data": {
      "text/html": [
       "<div>\n",
       "<style scoped>\n",
       "    .dataframe tbody tr th:only-of-type {\n",
       "        vertical-align: middle;\n",
       "    }\n",
       "\n",
       "    .dataframe tbody tr th {\n",
       "        vertical-align: top;\n",
       "    }\n",
       "\n",
       "    .dataframe thead th {\n",
       "        text-align: right;\n",
       "    }\n",
       "</style>\n",
       "<table border=\"1\" class=\"dataframe\">\n",
       "  <thead>\n",
       "    <tr style=\"text-align: right;\">\n",
       "      <th></th>\n",
       "      <th>LHS</th>\n",
       "      <th>RHS</th>\n",
       "      <th>support</th>\n",
       "      <th>confidence</th>\n",
       "      <th>lift</th>\n",
       "    </tr>\n",
       "  </thead>\n",
       "  <tbody>\n",
       "    <tr>\n",
       "      <th>0</th>\n",
       "      <td></td>\n",
       "      <td>맥주</td>\n",
       "      <td>0.4</td>\n",
       "      <td>0.4</td>\n",
       "      <td>1.0</td>\n",
       "    </tr>\n",
       "    <tr>\n",
       "      <th>1</th>\n",
       "      <td></td>\n",
       "      <td>소주</td>\n",
       "      <td>0.6</td>\n",
       "      <td>0.6</td>\n",
       "      <td>1.0</td>\n",
       "    </tr>\n",
       "    <tr>\n",
       "      <th>2</th>\n",
       "      <td></td>\n",
       "      <td>오렌지주스</td>\n",
       "      <td>0.4</td>\n",
       "      <td>0.4</td>\n",
       "      <td>1.0</td>\n",
       "    </tr>\n",
       "    <tr>\n",
       "      <th>3</th>\n",
       "      <td></td>\n",
       "      <td>와인</td>\n",
       "      <td>0.6</td>\n",
       "      <td>0.6</td>\n",
       "      <td>1.0</td>\n",
       "    </tr>\n",
       "    <tr>\n",
       "      <th>4</th>\n",
       "      <td></td>\n",
       "      <td>콜라</td>\n",
       "      <td>0.8</td>\n",
       "      <td>0.8</td>\n",
       "      <td>1.0</td>\n",
       "    </tr>\n",
       "  </tbody>\n",
       "</table>\n",
       "</div>"
      ],
      "text/plain": [
       "  LHS    RHS  support  confidence  lift\n",
       "0         맥주      0.4         0.4   1.0\n",
       "1         소주      0.6         0.6   1.0\n",
       "2      오렌지주스      0.4         0.4   1.0\n",
       "3         와인      0.6         0.6   1.0\n",
       "4         콜라      0.8         0.8   1.0"
      ]
     },
     "execution_count": 19,
     "metadata": {},
     "output_type": "execute_result"
    }
   ],
   "source": [
    "result_df.head()"
   ]
  },
  {
   "cell_type": "code",
   "execution_count": 18,
   "id": "40b4d0cc",
   "metadata": {
    "ExecuteTime": {
     "end_time": "2022-01-06T01:43:57.949615Z",
     "start_time": "2022-01-06T01:43:57.914978Z"
    }
   },
   "outputs": [
    {
     "data": {
      "text/html": [
       "<div>\n",
       "<style scoped>\n",
       "    .dataframe tbody tr th:only-of-type {\n",
       "        vertical-align: middle;\n",
       "    }\n",
       "\n",
       "    .dataframe tbody tr th {\n",
       "        vertical-align: top;\n",
       "    }\n",
       "\n",
       "    .dataframe thead th {\n",
       "        text-align: right;\n",
       "    }\n",
       "</style>\n",
       "<table border=\"1\" class=\"dataframe\">\n",
       "  <thead>\n",
       "    <tr style=\"text-align: right;\">\n",
       "      <th></th>\n",
       "      <th>LHS</th>\n",
       "      <th>RHS</th>\n",
       "      <th>support</th>\n",
       "      <th>confidence</th>\n",
       "      <th>lift</th>\n",
       "    </tr>\n",
       "  </thead>\n",
       "  <tbody>\n",
       "    <tr>\n",
       "      <th>24</th>\n",
       "      <td>오렌지주스</td>\n",
       "      <td>와인</td>\n",
       "      <td>0.2</td>\n",
       "      <td>0.5</td>\n",
       "      <td>0.833333</td>\n",
       "    </tr>\n",
       "  </tbody>\n",
       "</table>\n",
       "</div>"
      ],
      "text/plain": [
       "      LHS RHS  support  confidence      lift\n",
       "24  오렌지주스  와인      0.2         0.5  0.833333"
      ]
     },
     "execution_count": 18,
     "metadata": {},
     "output_type": "execute_result"
    }
   ],
   "source": [
    "result_df[(result_df[\"LHS\"]==\"오렌지주스\") & (result_df[\"RHS\"]==\"와인\")]"
   ]
  },
  {
   "cell_type": "markdown",
   "id": "55cadab2",
   "metadata": {},
   "source": [
    "# 4절. 뉴스 기사 연관분석 실습"
   ]
  },
  {
   "cell_type": "markdown",
   "id": "93d25ac5",
   "metadata": {},
   "source": [
    "## 뉴스 링크 가져오기"
   ]
  },
  {
   "cell_type": "code",
   "execution_count": 24,
   "id": "31ade97a",
   "metadata": {
    "ExecuteTime": {
     "end_time": "2022-01-06T02:18:00.167460Z",
     "start_time": "2022-01-06T02:18:00.030883Z"
    }
   },
   "outputs": [],
   "source": [
    "import requests\n",
    "url = \"https://fs.jtbc.joins.com//RSS/sports.xml\"\n",
    "news = requests.get(url)"
   ]
  },
  {
   "cell_type": "code",
   "execution_count": 26,
   "id": "46724be7",
   "metadata": {
    "ExecuteTime": {
     "end_time": "2022-01-06T02:18:40.905554Z",
     "start_time": "2022-01-06T02:18:40.876313Z"
    }
   },
   "outputs": [],
   "source": [
    "from bs4 import BeautifulSoup\n",
    "sport_news = BeautifulSoup(news.content, \"xml\")\n",
    "sport_news_list = sport_news.select(\"item > link\")"
   ]
  },
  {
   "cell_type": "code",
   "execution_count": 28,
   "id": "7799115f",
   "metadata": {
    "ExecuteTime": {
     "end_time": "2022-01-06T02:22:55.932194Z",
     "start_time": "2022-01-06T02:22:55.916941Z"
    }
   },
   "outputs": [
    {
     "data": {
      "text/plain": [
       "[<link>https://news.jtbc.joins.com/article/article.aspx?news_id=NB12041616</link>,\n",
       " <link>https://news.jtbc.joins.com/article/article.aspx?news_id=NB12041638</link>,\n",
       " <link>https://news.jtbc.joins.com/article/article.aspx?news_id=NB12041646</link>,\n",
       " <link>https://news.jtbc.joins.com/article/article.aspx?news_id=NB12041514</link>,\n",
       " <link>https://news.jtbc.joins.com/article/article.aspx?news_id=NB12041512</link>,\n",
       " <link>https://news.jtbc.joins.com/article/article.aspx?news_id=NB12041513</link>,\n",
       " <link>https://news.jtbc.joins.com/article/article.aspx?news_id=NB12041376</link>,\n",
       " <link>https://news.jtbc.joins.com/article/article.aspx?news_id=NB12041377</link>,\n",
       " <link>https://news.jtbc.joins.com/article/article.aspx?news_id=NB12041345</link>,\n",
       " <link>https://news.jtbc.joins.com/article/article.aspx?news_id=NB12041372</link>,\n",
       " <link>https://news.jtbc.joins.com/article/article.aspx?news_id=NB12041238</link>,\n",
       " <link>https://news.jtbc.joins.com/article/article.aspx?news_id=NB12041237</link>,\n",
       " <link>https://news.jtbc.joins.com/article/article.aspx?news_id=NB12041235</link>,\n",
       " <link>https://news.jtbc.joins.com/article/article.aspx?news_id=NB12041216</link>,\n",
       " <link>https://news.jtbc.joins.com/article/article.aspx?news_id=NB12041068</link>,\n",
       " <link>https://news.jtbc.joins.com/article/article.aspx?news_id=NB12041069</link>,\n",
       " <link>https://news.jtbc.joins.com/article/article.aspx?news_id=NB12041070</link>,\n",
       " <link>https://news.jtbc.joins.com/article/article.aspx?news_id=NB12040931</link>,\n",
       " <link>https://news.jtbc.joins.com/article/article.aspx?news_id=NB12040930</link>,\n",
       " <link>https://news.jtbc.joins.com/article/article.aspx?news_id=NB12040932</link>]"
      ]
     },
     "execution_count": 28,
     "metadata": {},
     "output_type": "execute_result"
    }
   ],
   "source": [
    "sport_news_list"
   ]
  },
  {
   "cell_type": "markdown",
   "id": "b063823a",
   "metadata": {},
   "source": [
    "## 뉴스 기사 형태소 분석"
   ]
  },
  {
   "cell_type": "code",
   "execution_count": 42,
   "id": "a4950144",
   "metadata": {
    "ExecuteTime": {
     "end_time": "2022-01-06T02:30:27.933387Z",
     "start_time": "2022-01-06T02:29:56.816769Z"
    }
   },
   "outputs": [],
   "source": [
    "from konlpy.tag import Kkma\n",
    "kkma = Kkma()\n",
    "news_filter = [] #transaction\n",
    "for link in sport_news_list:\n",
    "    news_url = link.text\n",
    "    news_response = requests.get(news_url)\n",
    "    news_soup = BeautifulSoup(news_response.content, \"html.parser\")\n",
    "    news_content = news_soup.select_one(\"#articlebody > .article_content\")\n",
    "    news_filter.append(list(filter(lambda word: len(word)>1, kkma.nouns(news_content.text))))"
   ]
  },
  {
   "cell_type": "code",
   "execution_count": 43,
   "id": "7863302f",
   "metadata": {
    "ExecuteTime": {
     "end_time": "2022-01-06T03:23:00.732481Z",
     "start_time": "2022-01-06T02:31:35.084184Z"
    }
   },
   "outputs": [
    {
     "ename": "KeyboardInterrupt",
     "evalue": "",
     "output_type": "error",
     "traceback": [
      "\u001b[1;31m---------------------------------------------------------------------------\u001b[0m",
      "\u001b[1;31mKeyboardInterrupt\u001b[0m                         Traceback (most recent call last)",
      "    \u001b[1;31m[... skipping hidden 1 frame]\u001b[0m\n",
      "\u001b[1;32m<ipython-input-43-832a1718c1ca>\u001b[0m in \u001b[0;36m<module>\u001b[1;34m\u001b[0m\n\u001b[0;32m      2\u001b[0m \u001b[0mrules\u001b[0m \u001b[1;33m=\u001b[0m \u001b[0mapriori\u001b[0m\u001b[1;33m(\u001b[0m\u001b[0mnews_filter\u001b[0m\u001b[1;33m,\u001b[0m \u001b[0mmin_support\u001b[0m\u001b[1;33m=\u001b[0m\u001b[1;36m0.2\u001b[0m\u001b[1;33m,\u001b[0m \u001b[0mmin_confidence\u001b[0m\u001b[1;33m=\u001b[0m\u001b[1;36m0.2\u001b[0m\u001b[1;33m)\u001b[0m\u001b[1;33m\u001b[0m\u001b[1;33m\u001b[0m\u001b[0m\n\u001b[1;32m----> 3\u001b[1;33m \u001b[0mresults\u001b[0m \u001b[1;33m=\u001b[0m \u001b[0mlist\u001b[0m\u001b[1;33m(\u001b[0m\u001b[0mrules\u001b[0m\u001b[1;33m)\u001b[0m\u001b[1;33m\u001b[0m\u001b[1;33m\u001b[0m\u001b[0m\n\u001b[0m",
      "\u001b[1;32m~\\anaconda3\\lib\\site-packages\\apyori.py\u001b[0m in \u001b[0;36mapriori\u001b[1;34m(transactions, **kwargs)\u001b[0m\n\u001b[0;32m    286\u001b[0m     \u001b[1;32mfor\u001b[0m \u001b[0msupport_record\u001b[0m \u001b[1;32min\u001b[0m \u001b[0msupport_records\u001b[0m\u001b[1;33m:\u001b[0m\u001b[1;33m\u001b[0m\u001b[1;33m\u001b[0m\u001b[0m\n\u001b[1;32m--> 287\u001b[1;33m         ordered_statistics = list(\n\u001b[0m\u001b[0;32m    288\u001b[0m             _filter_ordered_statistics(\n",
      "\u001b[1;32m~\\anaconda3\\lib\\site-packages\\apyori.py\u001b[0m in \u001b[0;36mfilter_ordered_statistics\u001b[1;34m(ordered_statistics, **kwargs)\u001b[0m\n\u001b[0;32m    236\u001b[0m \u001b[1;33m\u001b[0m\u001b[0m\n\u001b[1;32m--> 237\u001b[1;33m     \u001b[1;32mfor\u001b[0m \u001b[0mordered_statistic\u001b[0m \u001b[1;32min\u001b[0m \u001b[0mordered_statistics\u001b[0m\u001b[1;33m:\u001b[0m\u001b[1;33m\u001b[0m\u001b[1;33m\u001b[0m\u001b[0m\n\u001b[0m\u001b[0;32m    238\u001b[0m         \u001b[1;32mif\u001b[0m \u001b[0mordered_statistic\u001b[0m\u001b[1;33m.\u001b[0m\u001b[0mconfidence\u001b[0m \u001b[1;33m<\u001b[0m \u001b[0mmin_confidence\u001b[0m\u001b[1;33m:\u001b[0m\u001b[1;33m\u001b[0m\u001b[1;33m\u001b[0m\u001b[0m\n",
      "\u001b[1;32m~\\anaconda3\\lib\\site-packages\\apyori.py\u001b[0m in \u001b[0;36mgen_ordered_statistics\u001b[1;34m(transaction_manager, record)\u001b[0m\n\u001b[0;32m    216\u001b[0m             confidence = (\n\u001b[1;32m--> 217\u001b[1;33m                 record.support / transaction_manager.calc_support(items_base))\n\u001b[0m\u001b[0;32m    218\u001b[0m             \u001b[0mlift\u001b[0m \u001b[1;33m=\u001b[0m \u001b[0mconfidence\u001b[0m \u001b[1;33m/\u001b[0m \u001b[0mtransaction_manager\u001b[0m\u001b[1;33m.\u001b[0m\u001b[0mcalc_support\u001b[0m\u001b[1;33m(\u001b[0m\u001b[0mitems_add\u001b[0m\u001b[1;33m)\u001b[0m\u001b[1;33m\u001b[0m\u001b[1;33m\u001b[0m\u001b[0m\n",
      "\u001b[1;32m~\\anaconda3\\lib\\site-packages\\apyori.py\u001b[0m in \u001b[0;36mcalc_support\u001b[1;34m(self, items)\u001b[0m\n\u001b[0;32m     77\u001b[0m         \u001b[1;32mfor\u001b[0m \u001b[0mitem\u001b[0m \u001b[1;32min\u001b[0m \u001b[0mitems\u001b[0m\u001b[1;33m:\u001b[0m\u001b[1;33m\u001b[0m\u001b[1;33m\u001b[0m\u001b[0m\n\u001b[1;32m---> 78\u001b[1;33m             \u001b[0mindexes\u001b[0m \u001b[1;33m=\u001b[0m \u001b[0mself\u001b[0m\u001b[1;33m.\u001b[0m\u001b[0m__transaction_index_map\u001b[0m\u001b[1;33m.\u001b[0m\u001b[0mget\u001b[0m\u001b[1;33m(\u001b[0m\u001b[0mitem\u001b[0m\u001b[1;33m)\u001b[0m\u001b[1;33m\u001b[0m\u001b[1;33m\u001b[0m\u001b[0m\n\u001b[0m\u001b[0;32m     79\u001b[0m             \u001b[1;32mif\u001b[0m \u001b[0mindexes\u001b[0m \u001b[1;32mis\u001b[0m \u001b[1;32mNone\u001b[0m\u001b[1;33m:\u001b[0m\u001b[1;33m\u001b[0m\u001b[1;33m\u001b[0m\u001b[0m\n",
      "\u001b[1;31mKeyboardInterrupt\u001b[0m: ",
      "\nDuring handling of the above exception, another exception occurred:\n",
      "\u001b[1;31mKeyboardInterrupt\u001b[0m                         Traceback (most recent call last)",
      "\u001b[1;31mKeyboardInterrupt\u001b[0m: "
     ]
    }
   ],
   "source": [
    "from apyori import apriori\n",
    "rules = apriori(news_filter, min_support=0.3, min_confidence=0.3)\n",
    "results = list(rules)"
   ]
  },
  {
   "cell_type": "code",
   "execution_count": null,
   "id": "8487375e",
   "metadata": {
    "ExecuteTime": {
     "end_time": "2022-01-06T03:23:00.738462Z",
     "start_time": "2022-01-06T02:32:16.078Z"
    }
   },
   "outputs": [],
   "source": [
    "results.head()"
   ]
  },
  {
   "cell_type": "code",
   "execution_count": null,
   "id": "a1ae444c",
   "metadata": {},
   "outputs": [],
   "source": [
    "import pandas as pd\n",
    "result_df = pd.DataFrame(None, columns=[\"LHS\", \"RHS\", \"support\", \"confidence\", \"lift\"])\n",
    "index = 0\n",
    "for row in results:\n",
    "    support = row[1]\n",
    "    ordered_stat = row[2]\n",
    "    for ordered_item in ordered_stat:\n",
    "        lhs = \" \".join(ordered_item[0])\n",
    "        rhs = \" \".join(ordered_item[1])\n",
    "        confidence = ordered_item[2]\n",
    "        lift = ordered_item[3]\n",
    "        result_df.loc[index] = [lhs, rhs, support, confidence, lift]\n",
    "        index += 1"
   ]
  },
  {
   "cell_type": "code",
   "execution_count": null,
   "id": "67e7024e",
   "metadata": {},
   "outputs": [],
   "source": [
    "result_df.loc[result_df.lhs==\"\"].sort_values(by=\"support\", ascending=False)"
   ]
  },
  {
   "cell_type": "markdown",
   "id": "8e27c5c9",
   "metadata": {},
   "source": [
    "# 5절. 연습문제"
   ]
  },
  {
   "cell_type": "code",
   "execution_count": 44,
   "id": "d994f794",
   "metadata": {
    "ExecuteTime": {
     "end_time": "2022-01-06T03:25:54.961906Z",
     "start_time": "2022-01-06T03:25:54.940078Z"
    }
   },
   "outputs": [],
   "source": [
    "import csv\n",
    "with open(\"mybasket.csv\", \"r\", encoding=\"utf-8\") as cf:\n",
    "    transactions = []\n",
    "    r = csv.reader(cf)\n",
    "    for row in r:\n",
    "        transactions.append(row)"
   ]
  },
  {
   "cell_type": "code",
   "execution_count": 46,
   "id": "e3a5b8dd",
   "metadata": {
    "ExecuteTime": {
     "end_time": "2022-01-06T03:26:23.627171Z",
     "start_time": "2022-01-06T03:26:23.606225Z"
    }
   },
   "outputs": [
    {
     "data": {
      "text/plain": [
       "786"
      ]
     },
     "execution_count": 46,
     "metadata": {},
     "output_type": "execute_result"
    }
   ],
   "source": [
    "len(transactions)"
   ]
  },
  {
   "cell_type": "code",
   "execution_count": 47,
   "id": "68266376",
   "metadata": {
    "ExecuteTime": {
     "end_time": "2022-01-06T03:28:53.786623Z",
     "start_time": "2022-01-06T03:28:53.749724Z"
    }
   },
   "outputs": [],
   "source": [
    "from apyori import apriori\n",
    "rules = apriori(transactions, min_support=0.1, min_confidence=0.1)\n",
    "results = list(rules)"
   ]
  },
  {
   "cell_type": "code",
   "execution_count": 49,
   "id": "95282425",
   "metadata": {
    "ExecuteTime": {
     "end_time": "2022-01-06T03:30:26.784836Z",
     "start_time": "2022-01-06T03:30:26.775859Z"
    }
   },
   "outputs": [
    {
     "data": {
      "text/plain": [
       "53"
      ]
     },
     "execution_count": 49,
     "metadata": {},
     "output_type": "execute_result"
    }
   ],
   "source": [
    "len(results)"
   ]
  },
  {
   "cell_type": "code",
   "execution_count": 50,
   "id": "9e96cd65",
   "metadata": {
    "ExecuteTime": {
     "end_time": "2022-01-06T03:33:44.631906Z",
     "start_time": "2022-01-06T03:33:43.591960Z"
    }
   },
   "outputs": [],
   "source": [
    "import pandas as pd\n",
    "result_df = pd.DataFrame(None, columns=[\"LHS\", \"RHS\", \"support\", \"confidence\", \"lift\"])\n",
    "index=0\n",
    "\n",
    "for row in results:\n",
    "    support = row[1]\n",
    "    ordered_stat = row[2]\n",
    "    for ordered_item in ordered_stat:\n",
    "        lhs = \" \".join(x.strip() for x in ordered_item[0])\n",
    "        rhs = \" \".join(x.strip() for x in ordered_item[1])\n",
    "        confidence = ordered_item[2]\n",
    "        lift = ordered_item[3]\n",
    "        result_df.loc[index] = [lhs, rhs, support, confidence, lift]\n",
    "        index += 1"
   ]
  },
  {
   "cell_type": "code",
   "execution_count": 52,
   "id": "d23c99b8",
   "metadata": {
    "ExecuteTime": {
     "end_time": "2022-01-06T03:34:15.114403Z",
     "start_time": "2022-01-06T03:34:15.073508Z"
    }
   },
   "outputs": [
    {
     "data": {
      "text/html": [
       "<div>\n",
       "<style scoped>\n",
       "    .dataframe tbody tr th:only-of-type {\n",
       "        vertical-align: middle;\n",
       "    }\n",
       "\n",
       "    .dataframe tbody tr th {\n",
       "        vertical-align: top;\n",
       "    }\n",
       "\n",
       "    .dataframe thead th {\n",
       "        text-align: right;\n",
       "    }\n",
       "</style>\n",
       "<table border=\"1\" class=\"dataframe\">\n",
       "  <thead>\n",
       "    <tr style=\"text-align: right;\">\n",
       "      <th></th>\n",
       "      <th>LHS</th>\n",
       "      <th>RHS</th>\n",
       "      <th>support</th>\n",
       "      <th>confidence</th>\n",
       "      <th>lift</th>\n",
       "    </tr>\n",
       "  </thead>\n",
       "  <tbody>\n",
       "    <tr>\n",
       "      <th>179</th>\n",
       "      <td>bakery deco</td>\n",
       "      <td>milk</td>\n",
       "      <td>0.100509</td>\n",
       "      <td>0.441341</td>\n",
       "      <td>2.343877</td>\n",
       "    </tr>\n",
       "    <tr>\n",
       "      <th>178</th>\n",
       "      <td>milk</td>\n",
       "      <td>bakery deco</td>\n",
       "      <td>0.100509</td>\n",
       "      <td>0.533784</td>\n",
       "      <td>2.343877</td>\n",
       "    </tr>\n",
       "    <tr>\n",
       "      <th>244</th>\n",
       "      <td>bakery alcohol</td>\n",
       "      <td>clothes frozen</td>\n",
       "      <td>0.104326</td>\n",
       "      <td>0.485207</td>\n",
       "      <td>2.283669</td>\n",
       "    </tr>\n",
       "    <tr>\n",
       "      <th>249</th>\n",
       "      <td>clothes frozen</td>\n",
       "      <td>bakery alcohol</td>\n",
       "      <td>0.104326</td>\n",
       "      <td>0.491018</td>\n",
       "      <td>2.283669</td>\n",
       "    </tr>\n",
       "    <tr>\n",
       "      <th>231</th>\n",
       "      <td>alcohol deco</td>\n",
       "      <td>bakery clothes</td>\n",
       "      <td>0.100509</td>\n",
       "      <td>0.580882</td>\n",
       "      <td>2.271510</td>\n",
       "    </tr>\n",
       "    <tr>\n",
       "      <th>...</th>\n",
       "      <td>...</td>\n",
       "      <td>...</td>\n",
       "      <td>...</td>\n",
       "      <td>...</td>\n",
       "      <td>...</td>\n",
       "    </tr>\n",
       "    <tr>\n",
       "      <th>210</th>\n",
       "      <td></td>\n",
       "      <td>clothes frozen snack</td>\n",
       "      <td>0.128499</td>\n",
       "      <td>0.128499</td>\n",
       "      <td>1.000000</td>\n",
       "    </tr>\n",
       "    <tr>\n",
       "      <th>41</th>\n",
       "      <td>clothes</td>\n",
       "      <td>deco</td>\n",
       "      <td>0.216285</td>\n",
       "      <td>0.440415</td>\n",
       "      <td>0.966944</td>\n",
       "    </tr>\n",
       "    <tr>\n",
       "      <th>42</th>\n",
       "      <td>deco</td>\n",
       "      <td>clothes</td>\n",
       "      <td>0.216285</td>\n",
       "      <td>0.474860</td>\n",
       "      <td>0.966944</td>\n",
       "    </tr>\n",
       "    <tr>\n",
       "      <th>15</th>\n",
       "      <td>deco</td>\n",
       "      <td>alcohol</td>\n",
       "      <td>0.173028</td>\n",
       "      <td>0.379888</td>\n",
       "      <td>0.960103</td>\n",
       "    </tr>\n",
       "    <tr>\n",
       "      <th>14</th>\n",
       "      <td>alcohol</td>\n",
       "      <td>deco</td>\n",
       "      <td>0.173028</td>\n",
       "      <td>0.437299</td>\n",
       "      <td>0.960103</td>\n",
       "    </tr>\n",
       "  </tbody>\n",
       "</table>\n",
       "<p>269 rows × 5 columns</p>\n",
       "</div>"
      ],
      "text/plain": [
       "                LHS                   RHS   support  confidence      lift\n",
       "179     bakery deco                  milk  0.100509    0.441341  2.343877\n",
       "178            milk           bakery deco  0.100509    0.533784  2.343877\n",
       "244  bakery alcohol        clothes frozen  0.104326    0.485207  2.283669\n",
       "249  clothes frozen        bakery alcohol  0.104326    0.491018  2.283669\n",
       "231    alcohol deco        bakery clothes  0.100509    0.580882  2.271510\n",
       "..              ...                   ...       ...         ...       ...\n",
       "210                  clothes frozen snack  0.128499    0.128499  1.000000\n",
       "41          clothes                  deco  0.216285    0.440415  0.966944\n",
       "42             deco               clothes  0.216285    0.474860  0.966944\n",
       "15             deco               alcohol  0.173028    0.379888  0.960103\n",
       "14          alcohol                  deco  0.173028    0.437299  0.960103\n",
       "\n",
       "[269 rows x 5 columns]"
      ]
     },
     "execution_count": 52,
     "metadata": {},
     "output_type": "execute_result"
    }
   ],
   "source": [
    "#향상도가 가장 높은 연관 규칙\n",
    "result_df.sort_values(\"lift\", ascending=False)"
   ]
  },
  {
   "cell_type": "code",
   "execution_count": 59,
   "id": "bfd0bef1",
   "metadata": {
    "ExecuteTime": {
     "end_time": "2022-01-06T03:36:58.699262Z",
     "start_time": "2022-01-06T03:36:58.645397Z"
    },
    "scrolled": true
   },
   "outputs": [
    {
     "data": {
      "text/html": [
       "<div>\n",
       "<style scoped>\n",
       "    .dataframe tbody tr th:only-of-type {\n",
       "        vertical-align: middle;\n",
       "    }\n",
       "\n",
       "    .dataframe tbody tr th {\n",
       "        vertical-align: top;\n",
       "    }\n",
       "\n",
       "    .dataframe thead th {\n",
       "        text-align: right;\n",
       "    }\n",
       "</style>\n",
       "<table border=\"1\" class=\"dataframe\">\n",
       "  <thead>\n",
       "    <tr style=\"text-align: right;\">\n",
       "      <th></th>\n",
       "      <th>LHS</th>\n",
       "      <th>RHS</th>\n",
       "      <th>support</th>\n",
       "      <th>confidence</th>\n",
       "      <th>lift</th>\n",
       "    </tr>\n",
       "  </thead>\n",
       "  <tbody>\n",
       "    <tr>\n",
       "      <th>2</th>\n",
       "      <td></td>\n",
       "      <td>clothes</td>\n",
       "      <td>0.491094</td>\n",
       "      <td>0.491094</td>\n",
       "      <td>1.0</td>\n",
       "    </tr>\n",
       "    <tr>\n",
       "      <th>6</th>\n",
       "      <td></td>\n",
       "      <td>snack</td>\n",
       "      <td>0.474555</td>\n",
       "      <td>0.474555</td>\n",
       "      <td>1.0</td>\n",
       "    </tr>\n",
       "    <tr>\n",
       "      <th>3</th>\n",
       "      <td></td>\n",
       "      <td>deco</td>\n",
       "      <td>0.455471</td>\n",
       "      <td>0.455471</td>\n",
       "      <td>1.0</td>\n",
       "    </tr>\n",
       "    <tr>\n",
       "      <th>1</th>\n",
       "      <td></td>\n",
       "      <td>bakery</td>\n",
       "      <td>0.428753</td>\n",
       "      <td>0.428753</td>\n",
       "      <td>1.0</td>\n",
       "    </tr>\n",
       "    <tr>\n",
       "      <th>4</th>\n",
       "      <td></td>\n",
       "      <td>frozen</td>\n",
       "      <td>0.404580</td>\n",
       "      <td>0.404580</td>\n",
       "      <td>1.0</td>\n",
       "    </tr>\n",
       "    <tr>\n",
       "      <th>0</th>\n",
       "      <td></td>\n",
       "      <td>alcohol</td>\n",
       "      <td>0.395674</td>\n",
       "      <td>0.395674</td>\n",
       "      <td>1.0</td>\n",
       "    </tr>\n",
       "    <tr>\n",
       "      <th>25</th>\n",
       "      <td></td>\n",
       "      <td>bakery clothes</td>\n",
       "      <td>0.255725</td>\n",
       "      <td>0.255725</td>\n",
       "      <td>1.0</td>\n",
       "    </tr>\n",
       "    <tr>\n",
       "      <th>49</th>\n",
       "      <td></td>\n",
       "      <td>clothes snack</td>\n",
       "      <td>0.244275</td>\n",
       "      <td>0.244275</td>\n",
       "      <td>1.0</td>\n",
       "    </tr>\n",
       "    <tr>\n",
       "      <th>37</th>\n",
       "      <td></td>\n",
       "      <td>bakery snack</td>\n",
       "      <td>0.232824</td>\n",
       "      <td>0.232824</td>\n",
       "      <td>1.0</td>\n",
       "    </tr>\n",
       "    <tr>\n",
       "      <th>16</th>\n",
       "      <td></td>\n",
       "      <td>alcohol frozen</td>\n",
       "      <td>0.230280</td>\n",
       "      <td>0.230280</td>\n",
       "      <td>1.0</td>\n",
       "    </tr>\n",
       "    <tr>\n",
       "      <th>28</th>\n",
       "      <td></td>\n",
       "      <td>bakery deco</td>\n",
       "      <td>0.227735</td>\n",
       "      <td>0.227735</td>\n",
       "      <td>1.0</td>\n",
       "    </tr>\n",
       "    <tr>\n",
       "      <th>58</th>\n",
       "      <td></td>\n",
       "      <td>deco snack</td>\n",
       "      <td>0.223919</td>\n",
       "      <td>0.223919</td>\n",
       "      <td>1.0</td>\n",
       "    </tr>\n",
       "    <tr>\n",
       "      <th>31</th>\n",
       "      <td></td>\n",
       "      <td>bakery frozen</td>\n",
       "      <td>0.221374</td>\n",
       "      <td>0.221374</td>\n",
       "      <td>1.0</td>\n",
       "    </tr>\n",
       "    <tr>\n",
       "      <th>22</th>\n",
       "      <td></td>\n",
       "      <td>alcohol snack</td>\n",
       "      <td>0.220102</td>\n",
       "      <td>0.220102</td>\n",
       "      <td>1.0</td>\n",
       "    </tr>\n",
       "    <tr>\n",
       "      <th>40</th>\n",
       "      <td></td>\n",
       "      <td>deco clothes</td>\n",
       "      <td>0.216285</td>\n",
       "      <td>0.216285</td>\n",
       "      <td>1.0</td>\n",
       "    </tr>\n",
       "    <tr>\n",
       "      <th>64</th>\n",
       "      <td></td>\n",
       "      <td>frozen snack</td>\n",
       "      <td>0.215013</td>\n",
       "      <td>0.215013</td>\n",
       "      <td>1.0</td>\n",
       "    </tr>\n",
       "    <tr>\n",
       "      <th>7</th>\n",
       "      <td></td>\n",
       "      <td>bakery alcohol</td>\n",
       "      <td>0.215013</td>\n",
       "      <td>0.215013</td>\n",
       "      <td>1.0</td>\n",
       "    </tr>\n",
       "    <tr>\n",
       "      <th>10</th>\n",
       "      <td></td>\n",
       "      <td>alcohol clothes</td>\n",
       "      <td>0.213740</td>\n",
       "      <td>0.213740</td>\n",
       "      <td>1.0</td>\n",
       "    </tr>\n",
       "    <tr>\n",
       "      <th>43</th>\n",
       "      <td></td>\n",
       "      <td>clothes frozen</td>\n",
       "      <td>0.212468</td>\n",
       "      <td>0.212468</td>\n",
       "      <td>1.0</td>\n",
       "    </tr>\n",
       "    <tr>\n",
       "      <th>52</th>\n",
       "      <td></td>\n",
       "      <td>deco frozen</td>\n",
       "      <td>0.207379</td>\n",
       "      <td>0.207379</td>\n",
       "      <td>1.0</td>\n",
       "    </tr>\n",
       "    <tr>\n",
       "      <th>5</th>\n",
       "      <td></td>\n",
       "      <td>milk</td>\n",
       "      <td>0.188295</td>\n",
       "      <td>0.188295</td>\n",
       "      <td>1.0</td>\n",
       "    </tr>\n",
       "    <tr>\n",
       "      <th>13</th>\n",
       "      <td></td>\n",
       "      <td>alcohol deco</td>\n",
       "      <td>0.173028</td>\n",
       "      <td>0.173028</td>\n",
       "      <td>1.0</td>\n",
       "    </tr>\n",
       "    <tr>\n",
       "      <th>168</th>\n",
       "      <td></td>\n",
       "      <td>bakery deco frozen</td>\n",
       "      <td>0.148855</td>\n",
       "      <td>0.148855</td>\n",
       "      <td>1.0</td>\n",
       "    </tr>\n",
       "    <tr>\n",
       "      <th>161</th>\n",
       "      <td></td>\n",
       "      <td>bakery clothes snack</td>\n",
       "      <td>0.147583</td>\n",
       "      <td>0.147583</td>\n",
       "      <td>1.0</td>\n",
       "    </tr>\n",
       "    <tr>\n",
       "      <th>140</th>\n",
       "      <td></td>\n",
       "      <td>bakery deco clothes</td>\n",
       "      <td>0.146310</td>\n",
       "      <td>0.146310</td>\n",
       "      <td>1.0</td>\n",
       "    </tr>\n",
       "    <tr>\n",
       "      <th>70</th>\n",
       "      <td></td>\n",
       "      <td>bakery alcohol clothes</td>\n",
       "      <td>0.146310</td>\n",
       "      <td>0.146310</td>\n",
       "      <td>1.0</td>\n",
       "    </tr>\n",
       "    <tr>\n",
       "      <th>105</th>\n",
       "      <td></td>\n",
       "      <td>alcohol clothes frozen</td>\n",
       "      <td>0.143766</td>\n",
       "      <td>0.143766</td>\n",
       "      <td>1.0</td>\n",
       "    </tr>\n",
       "    <tr>\n",
       "      <th>84</th>\n",
       "      <td></td>\n",
       "      <td>bakery alcohol frozen</td>\n",
       "      <td>0.142494</td>\n",
       "      <td>0.142494</td>\n",
       "      <td>1.0</td>\n",
       "    </tr>\n",
       "    <tr>\n",
       "      <th>133</th>\n",
       "      <td></td>\n",
       "      <td>alcohol frozen snack</td>\n",
       "      <td>0.142494</td>\n",
       "      <td>0.142494</td>\n",
       "      <td>1.0</td>\n",
       "    </tr>\n",
       "    <tr>\n",
       "      <th>34</th>\n",
       "      <td></td>\n",
       "      <td>bakery milk</td>\n",
       "      <td>0.139949</td>\n",
       "      <td>0.139949</td>\n",
       "      <td>1.0</td>\n",
       "    </tr>\n",
       "    <tr>\n",
       "      <th>147</th>\n",
       "      <td></td>\n",
       "      <td>bakery clothes frozen</td>\n",
       "      <td>0.138677</td>\n",
       "      <td>0.138677</td>\n",
       "      <td>1.0</td>\n",
       "    </tr>\n",
       "    <tr>\n",
       "      <th>203</th>\n",
       "      <td></td>\n",
       "      <td>deco clothes snack</td>\n",
       "      <td>0.138677</td>\n",
       "      <td>0.138677</td>\n",
       "      <td>1.0</td>\n",
       "    </tr>\n",
       "    <tr>\n",
       "      <th>91</th>\n",
       "      <td></td>\n",
       "      <td>bakery alcohol snack</td>\n",
       "      <td>0.137405</td>\n",
       "      <td>0.137405</td>\n",
       "      <td>1.0</td>\n",
       "    </tr>\n",
       "    <tr>\n",
       "      <th>182</th>\n",
       "      <td></td>\n",
       "      <td>bakery deco snack</td>\n",
       "      <td>0.137405</td>\n",
       "      <td>0.137405</td>\n",
       "      <td>1.0</td>\n",
       "    </tr>\n",
       "    <tr>\n",
       "      <th>189</th>\n",
       "      <td></td>\n",
       "      <td>bakery frozen snack</td>\n",
       "      <td>0.136132</td>\n",
       "      <td>0.136132</td>\n",
       "      <td>1.0</td>\n",
       "    </tr>\n",
       "    <tr>\n",
       "      <th>112</th>\n",
       "      <td></td>\n",
       "      <td>alcohol clothes snack</td>\n",
       "      <td>0.136132</td>\n",
       "      <td>0.136132</td>\n",
       "      <td>1.0</td>\n",
       "    </tr>\n",
       "    <tr>\n",
       "      <th>46</th>\n",
       "      <td></td>\n",
       "      <td>clothes milk</td>\n",
       "      <td>0.133588</td>\n",
       "      <td>0.133588</td>\n",
       "      <td>1.0</td>\n",
       "    </tr>\n",
       "    <tr>\n",
       "      <th>210</th>\n",
       "      <td></td>\n",
       "      <td>clothes frozen snack</td>\n",
       "      <td>0.128499</td>\n",
       "      <td>0.128499</td>\n",
       "      <td>1.0</td>\n",
       "    </tr>\n",
       "    <tr>\n",
       "      <th>55</th>\n",
       "      <td></td>\n",
       "      <td>deco milk</td>\n",
       "      <td>0.127226</td>\n",
       "      <td>0.127226</td>\n",
       "      <td>1.0</td>\n",
       "    </tr>\n",
       "    <tr>\n",
       "      <th>196</th>\n",
       "      <td></td>\n",
       "      <td>deco clothes frozen</td>\n",
       "      <td>0.125954</td>\n",
       "      <td>0.125954</td>\n",
       "      <td>1.0</td>\n",
       "    </tr>\n",
       "    <tr>\n",
       "      <th>67</th>\n",
       "      <td></td>\n",
       "      <td>milk snack</td>\n",
       "      <td>0.124682</td>\n",
       "      <td>0.124682</td>\n",
       "      <td>1.0</td>\n",
       "    </tr>\n",
       "    <tr>\n",
       "      <th>77</th>\n",
       "      <td></td>\n",
       "      <td>bakery alcohol deco</td>\n",
       "      <td>0.123410</td>\n",
       "      <td>0.123410</td>\n",
       "      <td>1.0</td>\n",
       "    </tr>\n",
       "    <tr>\n",
       "      <th>98</th>\n",
       "      <td></td>\n",
       "      <td>alcohol deco clothes</td>\n",
       "      <td>0.120865</td>\n",
       "      <td>0.120865</td>\n",
       "      <td>1.0</td>\n",
       "    </tr>\n",
       "    <tr>\n",
       "      <th>119</th>\n",
       "      <td></td>\n",
       "      <td>alcohol deco frozen</td>\n",
       "      <td>0.120865</td>\n",
       "      <td>0.120865</td>\n",
       "      <td>1.0</td>\n",
       "    </tr>\n",
       "    <tr>\n",
       "      <th>126</th>\n",
       "      <td></td>\n",
       "      <td>alcohol deco snack</td>\n",
       "      <td>0.115776</td>\n",
       "      <td>0.115776</td>\n",
       "      <td>1.0</td>\n",
       "    </tr>\n",
       "    <tr>\n",
       "      <th>19</th>\n",
       "      <td></td>\n",
       "      <td>alcohol milk</td>\n",
       "      <td>0.114504</td>\n",
       "      <td>0.114504</td>\n",
       "      <td>1.0</td>\n",
       "    </tr>\n",
       "    <tr>\n",
       "      <th>217</th>\n",
       "      <td></td>\n",
       "      <td>deco frozen snack</td>\n",
       "      <td>0.114504</td>\n",
       "      <td>0.114504</td>\n",
       "      <td>1.0</td>\n",
       "    </tr>\n",
       "    <tr>\n",
       "      <th>61</th>\n",
       "      <td></td>\n",
       "      <td>frozen milk</td>\n",
       "      <td>0.108142</td>\n",
       "      <td>0.108142</td>\n",
       "      <td>1.0</td>\n",
       "    </tr>\n",
       "    <tr>\n",
       "      <th>154</th>\n",
       "      <td></td>\n",
       "      <td>bakery clothes milk</td>\n",
       "      <td>0.105598</td>\n",
       "      <td>0.105598</td>\n",
       "      <td>1.0</td>\n",
       "    </tr>\n",
       "    <tr>\n",
       "      <th>239</th>\n",
       "      <td></td>\n",
       "      <td>bakery alcohol clothes frozen</td>\n",
       "      <td>0.104326</td>\n",
       "      <td>0.104326</td>\n",
       "      <td>1.0</td>\n",
       "    </tr>\n",
       "    <tr>\n",
       "      <th>254</th>\n",
       "      <td></td>\n",
       "      <td>bakery alcohol clothes snack</td>\n",
       "      <td>0.101781</td>\n",
       "      <td>0.101781</td>\n",
       "      <td>1.0</td>\n",
       "    </tr>\n",
       "    <tr>\n",
       "      <th>175</th>\n",
       "      <td></td>\n",
       "      <td>bakery deco milk</td>\n",
       "      <td>0.100509</td>\n",
       "      <td>0.100509</td>\n",
       "      <td>1.0</td>\n",
       "    </tr>\n",
       "    <tr>\n",
       "      <th>224</th>\n",
       "      <td></td>\n",
       "      <td>bakery alcohol deco clothes</td>\n",
       "      <td>0.100509</td>\n",
       "      <td>0.100509</td>\n",
       "      <td>1.0</td>\n",
       "    </tr>\n",
       "  </tbody>\n",
       "</table>\n",
       "</div>"
      ],
      "text/plain": [
       "    LHS                            RHS   support  confidence  lift\n",
       "2                              clothes  0.491094    0.491094   1.0\n",
       "6                                snack  0.474555    0.474555   1.0\n",
       "3                                 deco  0.455471    0.455471   1.0\n",
       "1                               bakery  0.428753    0.428753   1.0\n",
       "4                               frozen  0.404580    0.404580   1.0\n",
       "0                              alcohol  0.395674    0.395674   1.0\n",
       "25                      bakery clothes  0.255725    0.255725   1.0\n",
       "49                       clothes snack  0.244275    0.244275   1.0\n",
       "37                        bakery snack  0.232824    0.232824   1.0\n",
       "16                      alcohol frozen  0.230280    0.230280   1.0\n",
       "28                         bakery deco  0.227735    0.227735   1.0\n",
       "58                          deco snack  0.223919    0.223919   1.0\n",
       "31                       bakery frozen  0.221374    0.221374   1.0\n",
       "22                       alcohol snack  0.220102    0.220102   1.0\n",
       "40                        deco clothes  0.216285    0.216285   1.0\n",
       "64                        frozen snack  0.215013    0.215013   1.0\n",
       "7                       bakery alcohol  0.215013    0.215013   1.0\n",
       "10                     alcohol clothes  0.213740    0.213740   1.0\n",
       "43                      clothes frozen  0.212468    0.212468   1.0\n",
       "52                         deco frozen  0.207379    0.207379   1.0\n",
       "5                                 milk  0.188295    0.188295   1.0\n",
       "13                        alcohol deco  0.173028    0.173028   1.0\n",
       "168                 bakery deco frozen  0.148855    0.148855   1.0\n",
       "161               bakery clothes snack  0.147583    0.147583   1.0\n",
       "140                bakery deco clothes  0.146310    0.146310   1.0\n",
       "70              bakery alcohol clothes  0.146310    0.146310   1.0\n",
       "105             alcohol clothes frozen  0.143766    0.143766   1.0\n",
       "84               bakery alcohol frozen  0.142494    0.142494   1.0\n",
       "133               alcohol frozen snack  0.142494    0.142494   1.0\n",
       "34                         bakery milk  0.139949    0.139949   1.0\n",
       "147              bakery clothes frozen  0.138677    0.138677   1.0\n",
       "203                 deco clothes snack  0.138677    0.138677   1.0\n",
       "91                bakery alcohol snack  0.137405    0.137405   1.0\n",
       "182                  bakery deco snack  0.137405    0.137405   1.0\n",
       "189                bakery frozen snack  0.136132    0.136132   1.0\n",
       "112              alcohol clothes snack  0.136132    0.136132   1.0\n",
       "46                        clothes milk  0.133588    0.133588   1.0\n",
       "210               clothes frozen snack  0.128499    0.128499   1.0\n",
       "55                           deco milk  0.127226    0.127226   1.0\n",
       "196                deco clothes frozen  0.125954    0.125954   1.0\n",
       "67                          milk snack  0.124682    0.124682   1.0\n",
       "77                 bakery alcohol deco  0.123410    0.123410   1.0\n",
       "98                alcohol deco clothes  0.120865    0.120865   1.0\n",
       "119                alcohol deco frozen  0.120865    0.120865   1.0\n",
       "126                 alcohol deco snack  0.115776    0.115776   1.0\n",
       "19                        alcohol milk  0.114504    0.114504   1.0\n",
       "217                  deco frozen snack  0.114504    0.114504   1.0\n",
       "61                         frozen milk  0.108142    0.108142   1.0\n",
       "154                bakery clothes milk  0.105598    0.105598   1.0\n",
       "239      bakery alcohol clothes frozen  0.104326    0.104326   1.0\n",
       "254       bakery alcohol clothes snack  0.101781    0.101781   1.0\n",
       "175                   bakery deco milk  0.100509    0.100509   1.0\n",
       "224        bakery alcohol deco clothes  0.100509    0.100509   1.0"
      ]
     },
     "execution_count": 59,
     "metadata": {},
     "output_type": "execute_result"
    }
   ],
   "source": [
    "# 가장 많이 팔린 두 제품\n",
    "result_df[result_df[\"LHS\"]==\"\"].sort_values(by=\"support\", ascending=False)"
   ]
  },
  {
   "cell_type": "code",
   "execution_count": 60,
   "id": "08d4beb8",
   "metadata": {
    "ExecuteTime": {
     "end_time": "2022-01-06T03:38:40.264886Z",
     "start_time": "2022-01-06T03:38:40.238953Z"
    }
   },
   "outputs": [
    {
     "data": {
      "text/html": [
       "<div>\n",
       "<style scoped>\n",
       "    .dataframe tbody tr th:only-of-type {\n",
       "        vertical-align: middle;\n",
       "    }\n",
       "\n",
       "    .dataframe tbody tr th {\n",
       "        vertical-align: top;\n",
       "    }\n",
       "\n",
       "    .dataframe thead th {\n",
       "        text-align: right;\n",
       "    }\n",
       "</style>\n",
       "<table border=\"1\" class=\"dataframe\">\n",
       "  <thead>\n",
       "    <tr style=\"text-align: right;\">\n",
       "      <th></th>\n",
       "      <th>LHS</th>\n",
       "      <th>RHS</th>\n",
       "      <th>support</th>\n",
       "      <th>confidence</th>\n",
       "      <th>lift</th>\n",
       "    </tr>\n",
       "  </thead>\n",
       "  <tbody>\n",
       "    <tr>\n",
       "      <th>50</th>\n",
       "      <td>clothes</td>\n",
       "      <td>snack</td>\n",
       "      <td>0.244275</td>\n",
       "      <td>0.497409</td>\n",
       "      <td>1.04816</td>\n",
       "    </tr>\n",
       "  </tbody>\n",
       "</table>\n",
       "</div>"
      ],
      "text/plain": [
       "        LHS    RHS   support  confidence     lift\n",
       "50  clothes  snack  0.244275    0.497409  1.04816"
      ]
     },
     "execution_count": 60,
     "metadata": {},
     "output_type": "execute_result"
    }
   ],
   "source": [
    "# 가장 많이 팔린 두 제품 사이의 신뢰도와 향상도\n",
    "result_df[(result_df[\"LHS\"]==\"clothes\") & (result_df[\"RHS\"]==\"snack\")]\n",
    "result_df[(result_df[\"LHS\"]==\"snack\") & (result_df[\"RHS\"]==\"clothes\")]"
   ]
  },
  {
   "cell_type": "code",
   "execution_count": 63,
   "id": "52536a05",
   "metadata": {
    "ExecuteTime": {
     "end_time": "2022-01-06T03:41:32.294693Z",
     "start_time": "2022-01-06T03:41:32.268762Z"
    }
   },
   "outputs": [
    {
     "data": {
      "text/html": [
       "<div>\n",
       "<style scoped>\n",
       "    .dataframe tbody tr th:only-of-type {\n",
       "        vertical-align: middle;\n",
       "    }\n",
       "\n",
       "    .dataframe tbody tr th {\n",
       "        vertical-align: top;\n",
       "    }\n",
       "\n",
       "    .dataframe thead th {\n",
       "        text-align: right;\n",
       "    }\n",
       "</style>\n",
       "<table border=\"1\" class=\"dataframe\">\n",
       "  <thead>\n",
       "    <tr style=\"text-align: right;\">\n",
       "      <th></th>\n",
       "      <th>LHS</th>\n",
       "      <th>RHS</th>\n",
       "      <th>support</th>\n",
       "      <th>confidence</th>\n",
       "      <th>lift</th>\n",
       "    </tr>\n",
       "  </thead>\n",
       "  <tbody>\n",
       "    <tr>\n",
       "      <th>51</th>\n",
       "      <td>snack</td>\n",
       "      <td>clothes</td>\n",
       "      <td>0.244275</td>\n",
       "      <td>0.514745</td>\n",
       "      <td>1.04816</td>\n",
       "    </tr>\n",
       "  </tbody>\n",
       "</table>\n",
       "</div>"
      ],
      "text/plain": [
       "      LHS      RHS   support  confidence     lift\n",
       "51  snack  clothes  0.244275    0.514745  1.04816"
      ]
     },
     "execution_count": 63,
     "metadata": {},
     "output_type": "execute_result"
    }
   ],
   "source": [
    "result_df[(result_df[\"LHS\"]==\"snack\") & (result_df[\"RHS\"]==\"clothes\")]"
   ]
  },
  {
   "cell_type": "code",
   "execution_count": 61,
   "id": "0dc88d66",
   "metadata": {
    "ExecuteTime": {
     "end_time": "2022-01-06T03:40:46.205504Z",
     "start_time": "2022-01-06T03:40:46.182042Z"
    }
   },
   "outputs": [
    {
     "data": {
      "text/html": [
       "<div>\n",
       "<style scoped>\n",
       "    .dataframe tbody tr th:only-of-type {\n",
       "        vertical-align: middle;\n",
       "    }\n",
       "\n",
       "    .dataframe tbody tr th {\n",
       "        vertical-align: top;\n",
       "    }\n",
       "\n",
       "    .dataframe thead th {\n",
       "        text-align: right;\n",
       "    }\n",
       "</style>\n",
       "<table border=\"1\" class=\"dataframe\">\n",
       "  <thead>\n",
       "    <tr style=\"text-align: right;\">\n",
       "      <th></th>\n",
       "      <th>LHS</th>\n",
       "      <th>RHS</th>\n",
       "      <th>support</th>\n",
       "      <th>confidence</th>\n",
       "      <th>lift</th>\n",
       "    </tr>\n",
       "  </thead>\n",
       "  <tbody>\n",
       "    <tr>\n",
       "      <th>50</th>\n",
       "      <td>clothes</td>\n",
       "      <td>snack</td>\n",
       "      <td>0.244275</td>\n",
       "      <td>0.497409</td>\n",
       "      <td>1.048160</td>\n",
       "    </tr>\n",
       "    <tr>\n",
       "      <th>116</th>\n",
       "      <td>alcohol clothes</td>\n",
       "      <td>snack</td>\n",
       "      <td>0.136132</td>\n",
       "      <td>0.636905</td>\n",
       "      <td>1.342110</td>\n",
       "    </tr>\n",
       "    <tr>\n",
       "      <th>165</th>\n",
       "      <td>bakery clothes</td>\n",
       "      <td>snack</td>\n",
       "      <td>0.147583</td>\n",
       "      <td>0.577114</td>\n",
       "      <td>1.216118</td>\n",
       "    </tr>\n",
       "    <tr>\n",
       "      <th>207</th>\n",
       "      <td>deco clothes</td>\n",
       "      <td>snack</td>\n",
       "      <td>0.138677</td>\n",
       "      <td>0.641176</td>\n",
       "      <td>1.351112</td>\n",
       "    </tr>\n",
       "    <tr>\n",
       "      <th>214</th>\n",
       "      <td>clothes frozen</td>\n",
       "      <td>snack</td>\n",
       "      <td>0.128499</td>\n",
       "      <td>0.604790</td>\n",
       "      <td>1.274438</td>\n",
       "    </tr>\n",
       "    <tr>\n",
       "      <th>265</th>\n",
       "      <td>bakery alcohol clothes</td>\n",
       "      <td>snack</td>\n",
       "      <td>0.101781</td>\n",
       "      <td>0.695652</td>\n",
       "      <td>1.465905</td>\n",
       "    </tr>\n",
       "  </tbody>\n",
       "</table>\n",
       "</div>"
      ],
      "text/plain": [
       "                        LHS    RHS   support  confidence      lift\n",
       "50                  clothes  snack  0.244275    0.497409  1.048160\n",
       "116         alcohol clothes  snack  0.136132    0.636905  1.342110\n",
       "165          bakery clothes  snack  0.147583    0.577114  1.216118\n",
       "207            deco clothes  snack  0.138677    0.641176  1.351112\n",
       "214          clothes frozen  snack  0.128499    0.604790  1.274438\n",
       "265  bakery alcohol clothes  snack  0.101781    0.695652  1.465905"
      ]
     },
     "execution_count": 61,
     "metadata": {},
     "output_type": "execute_result"
    }
   ],
   "source": [
    "# 두 제품을 포함하는 제품들 사이의 신뢰도와 향상도\n",
    "result_df[(result_df[\"LHS\"].str.contains(\"clothes\")) & (result_df[\"RHS\"]==\"snack\")]"
   ]
  },
  {
   "cell_type": "code",
   "execution_count": 62,
   "id": "6750d82f",
   "metadata": {
    "ExecuteTime": {
     "end_time": "2022-01-06T03:41:07.415082Z",
     "start_time": "2022-01-06T03:41:07.380174Z"
    }
   },
   "outputs": [
    {
     "data": {
      "text/html": [
       "<div>\n",
       "<style scoped>\n",
       "    .dataframe tbody tr th:only-of-type {\n",
       "        vertical-align: middle;\n",
       "    }\n",
       "\n",
       "    .dataframe tbody tr th {\n",
       "        vertical-align: top;\n",
       "    }\n",
       "\n",
       "    .dataframe thead th {\n",
       "        text-align: right;\n",
       "    }\n",
       "</style>\n",
       "<table border=\"1\" class=\"dataframe\">\n",
       "  <thead>\n",
       "    <tr style=\"text-align: right;\">\n",
       "      <th></th>\n",
       "      <th>LHS</th>\n",
       "      <th>RHS</th>\n",
       "      <th>support</th>\n",
       "      <th>confidence</th>\n",
       "      <th>lift</th>\n",
       "    </tr>\n",
       "  </thead>\n",
       "  <tbody>\n",
       "    <tr>\n",
       "      <th>51</th>\n",
       "      <td>snack</td>\n",
       "      <td>clothes</td>\n",
       "      <td>0.244275</td>\n",
       "      <td>0.514745</td>\n",
       "      <td>1.048160</td>\n",
       "    </tr>\n",
       "    <tr>\n",
       "      <th>117</th>\n",
       "      <td>alcohol snack</td>\n",
       "      <td>clothes</td>\n",
       "      <td>0.136132</td>\n",
       "      <td>0.618497</td>\n",
       "      <td>1.259427</td>\n",
       "    </tr>\n",
       "    <tr>\n",
       "      <th>166</th>\n",
       "      <td>bakery snack</td>\n",
       "      <td>clothes</td>\n",
       "      <td>0.147583</td>\n",
       "      <td>0.633880</td>\n",
       "      <td>1.290750</td>\n",
       "    </tr>\n",
       "    <tr>\n",
       "      <th>209</th>\n",
       "      <td>deco snack</td>\n",
       "      <td>clothes</td>\n",
       "      <td>0.138677</td>\n",
       "      <td>0.619318</td>\n",
       "      <td>1.261099</td>\n",
       "    </tr>\n",
       "    <tr>\n",
       "      <th>216</th>\n",
       "      <td>frozen snack</td>\n",
       "      <td>clothes</td>\n",
       "      <td>0.128499</td>\n",
       "      <td>0.597633</td>\n",
       "      <td>1.216942</td>\n",
       "    </tr>\n",
       "    <tr>\n",
       "      <th>266</th>\n",
       "      <td>bakery alcohol snack</td>\n",
       "      <td>clothes</td>\n",
       "      <td>0.101781</td>\n",
       "      <td>0.740741</td>\n",
       "      <td>1.508348</td>\n",
       "    </tr>\n",
       "  </tbody>\n",
       "</table>\n",
       "</div>"
      ],
      "text/plain": [
       "                      LHS      RHS   support  confidence      lift\n",
       "51                  snack  clothes  0.244275    0.514745  1.048160\n",
       "117         alcohol snack  clothes  0.136132    0.618497  1.259427\n",
       "166          bakery snack  clothes  0.147583    0.633880  1.290750\n",
       "209            deco snack  clothes  0.138677    0.619318  1.261099\n",
       "216          frozen snack  clothes  0.128499    0.597633  1.216942\n",
       "266  bakery alcohol snack  clothes  0.101781    0.740741  1.508348"
      ]
     },
     "execution_count": 62,
     "metadata": {},
     "output_type": "execute_result"
    }
   ],
   "source": [
    "result_df[(result_df[\"LHS\"].str.contains(\"snack\")) & (result_df[\"RHS\"]==\"clothes\")]"
   ]
  },
  {
   "cell_type": "code",
   "execution_count": null,
   "id": "69bb1bd0",
   "metadata": {},
   "outputs": [],
   "source": [
    "# 두 제품을 포함하는 제품들 사이의 신뢰도와 향상도\n",
    "result_df[(result_df[\"LHS\"].str.contains(\"clothes\")) & (result_df[\"RHS\"]==\"snack\")]\n",
    "result_df[(result_df[\"LHS\"].str.contains(\"snack\")) & (result_df[\"RHS\"]==\"clothes\")]"
   ]
  }
 ],
 "metadata": {
  "kernelspec": {
   "display_name": "Python 3",
   "language": "python",
   "name": "python3"
  },
  "language_info": {
   "codemirror_mode": {
    "name": "ipython",
    "version": 3
   },
   "file_extension": ".py",
   "mimetype": "text/x-python",
   "name": "python",
   "nbconvert_exporter": "python",
   "pygments_lexer": "ipython3",
   "version": "3.8.8"
  },
  "toc": {
   "base_numbering": 1,
   "nav_menu": {},
   "number_sections": false,
   "sideBar": true,
   "skip_h1_title": false,
   "title_cell": "Table of Contents",
   "title_sidebar": "Contents",
   "toc_cell": false,
   "toc_position": {
    "height": "calc(100% - 180px)",
    "left": "10px",
    "top": "150px",
    "width": "384px"
   },
   "toc_section_display": true,
   "toc_window_display": true
  }
 },
 "nbformat": 4,
 "nbformat_minor": 5
}
